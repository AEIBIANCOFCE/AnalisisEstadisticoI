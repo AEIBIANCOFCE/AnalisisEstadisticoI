{
  "nbformat": 4,
  "nbformat_minor": 0,
  "metadata": {
    "colab": {
      "provenance": [],
      "collapsed_sections": [
        "6UGnzq6vC9YW",
        "vOh2ANb5-MAC",
        "ajWMPq3m7gDb",
        "vCZqrsal_VAu",
        "PGF051rV_-Hy",
        "mS0rYM2XB24D",
        "fWroyUKC-R2K",
        "LiwD2XVIC329",
        "KE-Pd87pC4y9"
      ],
      "include_colab_link": true
    },
    "kernelspec": {
      "name": "python3",
      "display_name": "Python 3"
    },
    "language_info": {
      "name": "python"
    }
  },
  "cells": [
    {
      "cell_type": "markdown",
      "metadata": {
        "id": "view-in-github",
        "colab_type": "text"
      },
      "source": [
        "<a href=\"https://colab.research.google.com/github/AEIBIANCOFCE/AnalisisEstadisticoI/blob/main/4%20Intervalos%20de%20confianza/6_AEI_Intervalos_de_Confianza_Python.ipynb\" target=\"_parent\"><img src=\"https://colab.research.google.com/assets/colab-badge.svg\" alt=\"Open In Colab\"/></a>"
      ]
    },
    {
      "cell_type": "markdown",
      "source": [
        "<figure>\n",
        "<center>\n",
        "<img src='https://www.economicas.uba.ar/wp-content/uploads/2020/08/cropped-logo_FCE.png' />\n",
        "</figure>"
      ],
      "metadata": {
        "id": "drvDSfWaaYWS"
      }
    },
    {
      "cell_type": "markdown",
      "source": [
        "# **Universidad de Buenos Aires**\n",
        "## **Facultad de Ciencias Económicas**\n",
        "\n",
        "### **Análisis Estadístico I**\n",
        "\n",
        "### Cátedra: Bianco\n",
        "\n",
        "#### **Intervalos de confianza con Python**\n",
        "\n",
        "***Material elaborado por la profesora Natalia Salaberry***"
      ],
      "metadata": {
        "id": "eMuYyGo7uqxJ"
      }
    },
    {
      "cell_type": "markdown",
      "source": [
        "###**Librerías**"
      ],
      "metadata": {
        "id": "6UGnzq6vC9YW"
      }
    },
    {
      "cell_type": "code",
      "source": [
        "import numpy as np\n",
        "import scipy.stats as ss\n",
        "from IPython.display import display, Math"
      ],
      "metadata": {
        "id": "FJi1cX5dDBkr"
      },
      "execution_count": 1,
      "outputs": []
    },
    {
      "cell_type": "markdown",
      "source": [
        "##**Para una población**"
      ],
      "metadata": {
        "id": "vOh2ANb5-MAC"
      }
    },
    {
      "cell_type": "markdown",
      "source": [
        "####**IC para la media con varianza poblacional conocida**\n"
      ],
      "metadata": {
        "id": "ajWMPq3m7gDb"
      }
    },
    {
      "cell_type": "markdown",
      "source": [
        "\n",
        "Sea $X \\sim N(\\mu ; \\sigma )$\n",
        "\n",
        "${Z_{obs} =} {{\\bar{X} - \\mu } \\over {\\sigma \\over \\sqrt n}}$ $\\sim N(0 ; 1)$\n",
        "\n",
        "Entonces:\n",
        "\n",
        "$IC[\\bar{X} - {Z_{1- {\\alpha \\over 2}} * {\\sigma \\over \\sqrt n}} {\\leq \\mu \\leq} \\bar{X} + {Z_{1- {\\alpha \\over 2}} * {\\sigma \\over \\sqrt n}}] = {1-\\alpha}$"
      ],
      "metadata": {
        "id": "n9YoM_LmSbMO"
      }
    },
    {
      "cell_type": "code",
      "source": [
        "media_muestral=24.3\n",
        "desv_pob=6\n",
        "N= 15\n",
        "alfa=0.05\n",
        "\n",
        "ESTADÍSTICO= ss.norm.ppf(1-(alfa/2), 0, 1)\n",
        "Li=media_muestral - ESTADÍSTICO*(desv_pob/(N**0.5))\n",
        "Ls=media_muestral + ESTADÍSTICO*(desv_pob/(N**0.5))\n",
        "if Li>Ls:\n",
        "  intervalo='ERROR'\n",
        "else:\n",
        "  INTERVALO=(Li, Ls)\n",
        "intervalo=display(Math('IC['+str(round(INTERVALO[0],4))+'\\leq \\mu \\leq'+ str(round(INTERVALO[1],4))+']='+str(1-alfa)))\n",
        "intervalo"
      ],
      "metadata": {
        "id": "beRvkNJ7Bj4E",
        "colab": {
          "base_uri": "https://localhost:8080/",
          "height": 39
        },
        "outputId": "51516730-4a38-4704-a39e-f4d8a6d96ae8"
      },
      "execution_count": null,
      "outputs": [
        {
          "output_type": "display_data",
          "data": {
            "text/plain": [
              "<IPython.core.display.Math object>"
            ],
            "text/latex": "$\\displaystyle IC[21.2636\\leq \\mu \\leq27.3364]=0.95$"
          },
          "metadata": {}
        }
      ]
    },
    {
      "cell_type": "markdown",
      "source": [
        "Se verifica este resultado del siguiente modo:\n",
        "\n",
        "Dados $\\bar{X}=24.3$ $\\sigma=6$ $N=15$ y $\\alpha=5\\%$\n",
        "\n",
        "Luego:\n",
        "\n",
        "$Z_{1- {\\alpha \\over 2}}=Z_{1- {0.05 \\over 2}}={Z_{0.975}}=1.96$\n",
        "\n",
        "$IC[\\bar{X} - {Z_{1- {\\alpha \\over 2}} * {\\sigma \\over \\sqrt n}} {\\leq \\mu \\leq} \\bar{X} + {Z_{1- {\\alpha \\over 2}} * {\\sigma \\over \\sqrt n}}] = {1-\\alpha}$\n",
        "\n",
        "$IC[24.3 - {1.96 * {6 \\over \\sqrt 15}} {\\leq \\mu \\leq} 24.3 + {1.96 * {6 \\over \\sqrt 15}}] = 1-0.05$\n",
        "\n",
        "$IC[21.2636 {\\leq \\mu \\leq} 27.3364] = 0.95$"
      ],
      "metadata": {
        "id": "nNgvG_ROCeqS"
      }
    },
    {
      "cell_type": "markdown",
      "source": [
        "####**IC para la media con varianza poblacional desconocida**\n"
      ],
      "metadata": {
        "id": "vCZqrsal_VAu"
      }
    },
    {
      "cell_type": "markdown",
      "source": [
        "\n",
        "Sea $X \\sim N(\\mu ; \\sigma )$\n",
        "\n",
        "${t_{obs} =} {{\\bar{X} - \\mu } \\over {S \\over \\sqrt n}}$ $\\sim t_{n-1}$\n",
        "\n",
        "Entonces:\n",
        "\n",
        "$IC[\\bar{X} - {t_{n-1;1- {\\alpha \\over 2}} * {S \\over \\sqrt n}} {\\leq \\mu \\leq} \\bar{X} + {t_{n-1;1- {\\alpha \\over 2}} * {S \\over \\sqrt n}}] = {1-\\alpha}$"
      ],
      "metadata": {
        "id": "LQ1bG_sETO3k"
      }
    },
    {
      "cell_type": "code",
      "source": [
        "media_muestral=20.35\n",
        "desv_muestral= 2.35\n",
        "N= 25\n",
        "alfa=0.05\n",
        "\n",
        "ESTADÍSTICO= ss.t.ppf(1-(alfa/2), N-1)\n",
        "Li=media_muestral - ESTADÍSTICO*(desv_muestral/(N**0.5))\n",
        "Ls=media_muestral + ESTADÍSTICO*(desv_muestral/(N**0.5))\n",
        "if Li>Ls:\n",
        "  intervalo='ERROR'\n",
        "else:\n",
        "  INTERVALO=(Li, Ls)\n",
        "intervalo1=display(Math('IC['+str(round(INTERVALO[0],4))+'\\leq \\mu \\leq'+ str(round(INTERVALO[1],4))+']='+str(1-alfa)))\n",
        "intervalo1"
      ],
      "metadata": {
        "id": "Gn34PON-G7DF",
        "colab": {
          "base_uri": "https://localhost:8080/",
          "height": 39
        },
        "outputId": "1c6ff39d-5ccd-48e0-cbfb-c1150280b59e"
      },
      "execution_count": null,
      "outputs": [
        {
          "output_type": "display_data",
          "data": {
            "text/plain": [
              "<IPython.core.display.Math object>"
            ],
            "text/latex": "$\\displaystyle IC[19.38\\leq \\mu \\leq21.32]=0.95$"
          },
          "metadata": {}
        }
      ]
    },
    {
      "cell_type": "markdown",
      "source": [
        "Se verifica este resultado del siguiente modo:\n",
        "\n",
        "Dados $\\bar{X}=20.35$ $S=2.35$ $N=25$ y $\\alpha=5\\%$\n",
        "\n",
        "Luego:\n",
        "\n",
        "$t_{n-1;1- {\\alpha \\over 2}}=t_{25-1;1- {0.05 \\over 2}}={t_{24;0.975}}=2.0645$\n",
        "\n",
        "$IC[\\bar{X} - {t_{n-1;1- {\\alpha \\over 2}} * {S \\over \\sqrt n}} {\\leq \\mu \\leq} \\bar{X} + {t_{n-1;1- {\\alpha \\over 2}} * {S \\over \\sqrt n}}] = {1-\\alpha}$\n",
        "\n",
        "${IC[20.35 - {2.064 *} {2.35 \\over \\sqrt 25}} {\\leq \\mu \\leq} {20.35 - {2.064 * {2.35 \\over \\sqrt 25}}] = 1-0.05}$\n",
        "\n",
        "${IC[19.38 {\\leq \\mu \\leq} 21.32] = 0.95}$"
      ],
      "metadata": {
        "id": "OLr_AQCyG7DI"
      }
    },
    {
      "cell_type": "markdown",
      "source": [
        "####**IC para la varianza**\n",
        "\n"
      ],
      "metadata": {
        "id": "PGF051rV_-Hy"
      }
    },
    {
      "cell_type": "markdown",
      "source": [
        "Sea $X \\sim N(\\mu ; \\sigma )$\n",
        "\n",
        "${x_{obs} =} {(n - 1)* S^{2} \\over \\sigma^{2}}$ $\\sim X^{2}_{n-1}$\n",
        "\n",
        "Entonces:\n",
        "\n",
        "$IC[{(n - 1)* S^{2} \\over X^{2}_{n-1;{1-{\\alpha \\over 2}}}} {\\leq \\sigma^{2} \\leq} {(n - 1)* S^{2} \\over X^{2}_{n-1;{{\\alpha \\over 2}}}}] = {1-\\alpha}$"
      ],
      "metadata": {
        "id": "XxN2FCdgT2Pt"
      }
    },
    {
      "cell_type": "code",
      "source": [
        "media_muestral= 180\n",
        "desv_muestral= 10\n",
        "N= 25\n",
        "alfa=0.05\n",
        "\n",
        "ESTADÍSTICO_1= ss.chi2.ppf(1-(alfa/2), N-1)\n",
        "ESTADÍSTICO_2= ss.chi2.ppf((alfa/2), N-1)\n",
        "Li=(N-1)*(desv_muestral**2) / ESTADÍSTICO_1\n",
        "Ls=(N-1)*(desv_muestral**2) / ESTADÍSTICO_2\n",
        "if Li <0 or Li>Ls:\n",
        "  intervalo='ERROR'\n",
        "else:\n",
        "  INTERVALO=(Li, Ls)\n",
        "intervalo2=display(Math('IC['+str(round(INTERVALO[0],4))+'\\leq \\sigma^2 \\leq'+ str(round(INTERVALO[1],4))+']='+str(1-alfa)))\n",
        "intervalo2"
      ],
      "metadata": {
        "id": "w2CRTfU0ajyR",
        "colab": {
          "base_uri": "https://localhost:8080/",
          "height": 39
        },
        "outputId": "295ed36e-c288-491f-d0d1-bf9bf986c5d3"
      },
      "execution_count": null,
      "outputs": [
        {
          "output_type": "display_data",
          "data": {
            "text/plain": [
              "<IPython.core.display.Math object>"
            ],
            "text/latex": "$\\displaystyle IC[60.9693\\leq \\sigma^2 \\leq193.5304]=0.95$"
          },
          "metadata": {}
        }
      ]
    },
    {
      "cell_type": "markdown",
      "source": [
        "Se verifica este resultado del siguiente modo:\n",
        "\n",
        "Dados $\\bar{X}=180$ $S=10$ $N=25$ y $\\alpha=5\\%$\n",
        "\n",
        "Luego:\n",
        "\n",
        "$X^{2}_{n-1;{1-{\\alpha \\over 2}}}=X^{2}_{25-1;{1-{0.05 \\over 2}}}={X^{2}_{24;0.975}}=39.3641$\n",
        "\n",
        "$X^{2}_{n-1;{\\alpha \\over 2}}=X^{2}_{25-1;{0.05 \\over 2}}={X^{2}_{24;0.025}}=12.4012$\n",
        "\n",
        "$IC[{(n - 1)* S^{2} \\over X^{2}_{n-1;{1-{\\alpha \\over 2}}}} {\\leq \\sigma^{2} \\leq} {(n - 1)* S^{2} \\over X^{2}_{n-1;{{\\alpha \\over 2}}}}] = {1-\\alpha}$\n",
        "\n",
        "${IC[{(25 - 1)* 10^2 \\over 39.3641} {\\leq \\sigma^{2} \\leq} {(25 - 1)* 10^2 \\over 12.4012}] = 1-0.05}$\n",
        "\n",
        "${IC[60.9693 {\\leq \\sigma^{2} \\leq} 193.5304] = 0.95}$"
      ],
      "metadata": {
        "id": "UvOzfM9jbLqB"
      }
    },
    {
      "cell_type": "markdown",
      "source": [
        "####**IC para la proporción**\n",
        "\n"
      ],
      "metadata": {
        "id": "mS0rYM2XB24D"
      }
    },
    {
      "cell_type": "markdown",
      "source": [
        "Sea $X \\sim Bi(n ; p)$\n",
        "\n",
        "${Z_{obs} =} {{\\bar{P} - P } \\over {\\sqrt {\\bar{P}(1-\\bar{P}) \\over n}}}$ $\\sim N(0 ; 1)$\n",
        "\n",
        "Entonces:\n",
        "\n",
        "$IC[\\bar{P} - {Z_{1- {\\alpha \\over 2}} * {\\sqrt {\\bar{P}(1-\\bar{P}) \\over n}}} {\\leq P \\leq} \\bar{P} + {Z_{1- {\\alpha \\over 2}} * {\\sqrt {\\bar{P}(1-\\bar{P}) \\over n}}}] = {1-\\alpha}$"
      ],
      "metadata": {
        "id": "RxoZf1UgUZD3"
      }
    },
    {
      "cell_type": "code",
      "source": [
        "proporcion_muestral=80/400\n",
        "N=400\n",
        "alfa=0.05\n",
        "\n",
        "ESTADÍSTICO= ss.norm.ppf(1-(alfa/2))\n",
        "Li=proporcion_muestral-ESTADÍSTICO*((proporcion_muestral*(1-proporcion_muestral)/N)**0.5)\n",
        "Ls=proporcion_muestral+ESTADÍSTICO*((proporcion_muestral*(1-proporcion_muestral)/N)**0.5)\n",
        "if Li<0 or Ls>1 or Li>Ls:\n",
        "  intervalo='ERROR'\n",
        "else:\n",
        "  INTERVALO=(Li, Ls)\n",
        "intervalo3=display(Math('IC['+str(round(INTERVALO[0],4))+'\\leq p \\leq'+ str(round(INTERVALO[1],4))+']='+str(1-alfa)))\n",
        "intervalo3"
      ],
      "metadata": {
        "id": "Mqtxuj0FqiZn",
        "colab": {
          "base_uri": "https://localhost:8080/",
          "height": 39
        },
        "outputId": "9365e220-fcfb-4e41-91d4-e7d62f4dff50"
      },
      "execution_count": 2,
      "outputs": [
        {
          "output_type": "display_data",
          "data": {
            "text/plain": [
              "<IPython.core.display.Math object>"
            ],
            "text/latex": "$\\displaystyle IC[0.1608\\leq p \\leq0.2392]=0.95$"
          },
          "metadata": {}
        }
      ]
    },
    {
      "cell_type": "markdown",
      "source": [
        "Se verifica este resultado del siguiente modo:\n",
        "\n",
        "Dados $\\bar{p}={80\\over400}$ $N=400$ y $\\alpha=5\\%$\n",
        "\n",
        "Luego:\n",
        "\n",
        "$Z_{1- {\\alpha \\over 2}}=Z_{1- {0.05 \\over 2}}={Z_{0.975}}=1.96$\n",
        "\n",
        "$IC[\\bar{P} - {Z_{1- {\\alpha \\over 2}} * {\\sqrt {\\bar{P}(1-\\bar{P}) \\over n}}} {\\leq P \\leq} \\bar{P} + {Z_{1- {\\alpha \\over 2}} * {\\sqrt {\\bar{P}(1-\\bar{P}) \\over n}}}] = {1-\\alpha}$\n",
        "\n",
        "$IC[{80\\over400} - {1.96 * {\\sqrt {{80\\over400}*(1-{80\\over400}) \\over 400}}} {\\leq P \\leq} {80\\over400} + {1.96 * {\\sqrt {{80\\over400}*(1-{80\\over400}) \\over 400}}}] = {1-0.05}$\n",
        "\n",
        "$IC[0.1608 {\\leq p \\leq} 0.2392] = 0.95$"
      ],
      "metadata": {
        "id": "Sqp6on-aqiZ4"
      }
    },
    {
      "cell_type": "markdown",
      "source": [
        "##**Para dos poblaciones**"
      ],
      "metadata": {
        "id": "fWroyUKC-R2K"
      }
    },
    {
      "cell_type": "markdown",
      "source": [
        "####**IC para la diferencia de medias con varianza poblacional conocidas**\n",
        "\n"
      ],
      "metadata": {
        "id": "LiwD2XVIC329"
      }
    },
    {
      "cell_type": "markdown",
      "source": [
        "Sea $X_{1} \\sim N(\\mu_{1} ; \\sigma_{1} )$ y $X_{2} \\sim N(\\mu_{2} ; \\sigma_{2} )$\n",
        "\n",
        "${Z_{obs} =} {({\\bar{X_{1}}-\\bar{X_{2}}) - (\\mu_{1} - \\mu_{2}) } \\over {\\sqrt {{\\sigma_{1} \\over  n_{1}} + {\\sigma_{2} \\over  n_{2}}} }}$ $\\sim N(0 ; 1)$\n",
        "\n",
        "Entonces:\n",
        "\n",
        "$IC[({\\bar{X_{1}}-\\bar{X_{2}})} - {Z_{1- {\\alpha \\over 2}} * {{\\sqrt {{\\sigma_{1}^2 \\over  n_{1}} + {\\sigma_{2}^2 \\over  n_{2}}} }}} {\\leq \\mu_{1} - \\mu_{2} \\leq} ({\\bar{X_{1}}-\\bar{X_{2}})} + {Z_{1- {\\alpha \\over 2}} * {{\\sqrt {{\\sigma_{1}^2 \\over  n_{1}} + {\\sigma_{2}^2 \\over  n_{2}}} }}}] = {1-\\alpha}$"
      ],
      "metadata": {
        "id": "x_J_K4ijU209"
      }
    },
    {
      "cell_type": "code",
      "source": [
        "mm_1=3.8\n",
        "mm2=3.4\n",
        "vp_1=0.6**2\n",
        "vp_2=0.8**2\n",
        "N_1 =320\n",
        "N_2 =240\n",
        "alfa=0.05\n",
        "\n",
        "ESTADÍSTICO= ss.norm.ppf(1-(alfa/2), 0, 1)\n",
        "Li=(mm_1-mm2)-(ESTADÍSTICO*(((vp_1/N_1)+(vp_2/N_2))**0.5))\n",
        "Ls=(mm_1-mm2)+(ESTADÍSTICO*(((vp_1/N_1)+(vp_2/N_2))**0.5))\n",
        "if Li>Ls:\n",
        "  intervalo='ERROR'\n",
        "else:\n",
        "  INTERVALO=(Li, Ls)\n",
        "intervalo4=display(Math('IC['+str(round(INTERVALO[0],4))+'\\leq \\mu_{1} - \\mu_{2} \\leq'+ str(round(INTERVALO[1],4))+']='+str(1-alfa)))\n",
        "intervalo4"
      ],
      "metadata": {
        "id": "RtmgegS5UFMX",
        "colab": {
          "base_uri": "https://localhost:8080/",
          "height": 39
        },
        "outputId": "c788e69e-b47a-49c9-8ea0-b891b4ff644d"
      },
      "execution_count": null,
      "outputs": [
        {
          "output_type": "display_data",
          "data": {
            "text/plain": [
              "<IPython.core.display.Math object>"
            ],
            "text/latex": "$\\displaystyle IC[0.2793\\leq \\mu_{1} - \\mu_{2} \\leq0.5207]=0.95$"
          },
          "metadata": {}
        }
      ]
    },
    {
      "cell_type": "markdown",
      "source": [
        "Se verifica este resultado del siguiente modo:\n",
        "\n",
        "Dado $X_1 \\sim N(\\mu_1; \\sigma_1)$ y $X_2 \\sim N(\\mu_2; \\sigma_2)$ con $\\sigma_1=0.6$ y $\\sigma_2=0.8$,  $N_1=320$ y $\\bar{X_1}=3.8$,  $N_2=240$ y $\\bar{X_2}=3.4$ y $\\alpha=5\\%$\n",
        "\n",
        "$Z_{1- {\\alpha \\over 2}}=Z_{1- {0.05 \\over 2}}=Z_{0.975}=1.96$\n",
        "\n",
        "$IC[({\\bar{X_{1}}-\\bar{X_{2}})} - {Z_{1- {\\alpha \\over 2}} * {{\\sqrt {{\\sigma_{1}^2 \\over  n_{1}} + {\\sigma_{2}^2 \\over  n_{2}}} }}} {\\leq \\mu_{1} - \\mu_{2} \\leq} ({\\bar{X_{1}}-\\bar{X_{2}})} + {Z_{1- {\\alpha \\over 2}} * {{\\sqrt {{\\sigma_{1}^2 \\over  n_{1}} + {\\sigma_{2}^2 \\over  n_{2}}} }}}] = {1-\\alpha}$\n",
        "\n",
        "$IC[{(3.8-3.4) - {1.96} * {{\\sqrt {{0.6^2 \\over 320} + {0.8^2 \\over 240}}}}} {\\leq \\mu_{1} - \\mu_{2} \\leq} {(3.8-3.4) + {1.96} * {{\\sqrt {{0.6^2 \\over 320} + {0.8^2 \\over 240}}}}}] = {1-0.05}$\n",
        "\n",
        "$IC[0.2793 {\\leq \\mu_{1} - \\mu_{2} \\leq} 0.5207] = 0.95$"
      ],
      "metadata": {
        "id": "iUIojzTeVqHb"
      }
    },
    {
      "cell_type": "markdown",
      "source": [
        "####**IC para la diferencia de medias con varianza poblacional desconocidas**\n",
        "\n"
      ],
      "metadata": {
        "id": "KE-Pd87pC4y9"
      }
    },
    {
      "cell_type": "markdown",
      "source": [
        "Sea $X_{1} \\sim N(\\mu_{1} ; \\sigma_{1} )$ y $X_{2} \\sim N(\\mu_{2} ; \\sigma_{2} )$ con $\\sigma^2_{1}$ y $\\sigma^2_{2}$ desconocidas y $\\sigma^2_{1}=\\sigma^2_{2} $\n",
        "\n",
        "${t_{obs} =} {({\\bar{X_{1}}-\\bar{X_{2}}) - (\\mu_{1} - \\mu_{2}) } \\over {S_{p}\\sqrt {{1 \\over  n_{1}} + {1 \\over  n_{2}}} }}$ $\\sim t_{n_{1}+n_{2}-2}$ con ${S^2_p =} {(n_1-1)*S^2_1+(n_2-1)*S^2_2\\over n_1+n_2-2}$\n",
        "\n",
        "Entonces:\n",
        "\n",
        "$IC[(\\bar X_1-\\bar X_2) - t_{n_1+n_2-2;1- {\\alpha \\over 2}} * S_p{\\sqrt {1 \\over  n_1} + {1 \\over  n_2}}  {\\leq \\mu_{1} - \\mu_{2} \\leq} (\\bar X_1-\\bar X_2)+ t_{n_1+n_2-2;1- {\\alpha \\over 2}} * S_p{\\sqrt {1 \\over  n_1} + {1 \\over  n_2}}] = {1-\\alpha}$"
      ],
      "metadata": {
        "id": "l6ux1ghtVc5e"
      }
    },
    {
      "cell_type": "code",
      "source": [
        "mm_1= 3.8\n",
        "mm_2= 3.4\n",
        "vm_1= 0.36\n",
        "vm_2= 0.48\n",
        "N_1= 32\n",
        "N_2= 24\n",
        "alfa=0.01\n",
        "\n",
        "ESTADÍSTICO= ss.t.ppf(1-(alfa/2),N_1+N_2-2)\n",
        "Sp=((((N_1-1)*vm_1)+((N_2-1)*vm_2))/(N_1+N_2-2))**0.5\n",
        "Li=(mm_1-mm_2)-ESTADÍSTICO*Sp*(((1/N_1)+(1/N_2))**0.5)\n",
        "Ls=(mm_1-mm_2)+ESTADÍSTICO*Sp*(((1/N_1)+(1/N_2))**0.5)\n",
        "if Li>Ls:\n",
        "  intervalo='ERROR'\n",
        "else:\n",
        "  INTERVALO=(Li, Ls)\n",
        "intervalo5=display(Math('IC['+str(round(INTERVALO[0],4))+'\\leq \\mu_{1} - \\mu_{2} \\leq'+ str(round(INTERVALO[1],4))+']='+str(1-alfa)))\n",
        "intervalo5"
      ],
      "metadata": {
        "id": "3sNZ3I4XfAoV",
        "colab": {
          "base_uri": "https://localhost:8080/",
          "height": 39
        },
        "outputId": "5d231fcf-7ea4-4dd7-b397-355782a3ad5f"
      },
      "execution_count": null,
      "outputs": [
        {
          "output_type": "display_data",
          "data": {
            "text/plain": [
              "<IPython.core.display.Math object>"
            ],
            "text/latex": "$\\displaystyle IC[-0.0623\\leq \\mu_{1} - \\mu_{2} \\leq0.8623]=0.99$"
          },
          "metadata": {}
        }
      ]
    },
    {
      "cell_type": "markdown",
      "source": [
        "Se verifica este resultado del siguiente modo:\n",
        "\n",
        "Dado $X_1 \\sim N(\\mu_1; \\sigma_1)$ y $X_2 \\sim N(\\mu_2; \\sigma_2)$ con $\\sigma_1$ y $\\sigma_2$ desconocidas pero iguales,  $N_1=32$, $\\bar{X_1}=3.8$ y $S^2=0.36$,  $N_2=24$, $\\bar{X_2}=3.4$ y $S^2=0.48$ y $\\alpha=1\\%$\n",
        "\n",
        "$t_{n_{1}+n_{2}-2;1-{\\alpha \\over 2}}=t_{{32+24-2};1-{0.01 \\over 2}}=t_{54;0.995}=2.67$\n",
        "\n",
        "${S_p^2=} {(n_1-1)*S_1^2+(n_2-1)*S_2^2\\over n_1+n_2-2}={(32-1)*0.36+(24-1)*0.48\\over 32+24-2}=0.4111111111$\n",
        "\n",
        "${S_p = \\sqrt {S_{p}^2}}= \\sqrt {0.4111111111}=0.641179468$\n",
        "\n",
        "$IC[(\\bar X_1-\\bar X_2) - t_{n_1+n_2-2;1- {\\alpha \\over 2}} * S_p{\\sqrt {1 \\over  n_1} + {1 \\over  n_2}}  {\\leq \\mu_{1} - \\mu_{2} \\leq} (\\bar X_1-\\bar X_2)+ t_{n_1+n_2-2;1- {\\alpha \\over 2}} * S_p{\\sqrt {1 \\over  n_1} + {1 \\over  n_2}}] = {1-\\alpha}$\n",
        "\n",
        "$IC[{(3.8-3.4)} - {2.67} * {0.641179468*{\\sqrt {{1 \\over  32} + {1 \\over  24}}}} {\\leq \\mu_{1} - \\mu_{2} \\leq} {(3.8-3.4}) + {0.641179468*{\\sqrt {{1 \\over  32} + {1 \\over 24}} }}] = {1-0.01}$\n",
        "\n",
        "\n",
        "$IC[-0.0623 {\\leq \\mu_{1} - \\mu_{2} \\leq} 0.8623] = 0.99$"
      ],
      "metadata": {
        "id": "uhRkXnRJgxKf"
      }
    },
    {
      "cell_type": "markdown",
      "source": [
        "####**IC para la diferencia de proporciones**\n",
        "\n"
      ],
      "metadata": {
        "id": "aNXI_qZweqDi"
      }
    },
    {
      "cell_type": "markdown",
      "source": [
        "Sea $X_{1} \\sim Bi(n_{1} ; P_1)$ y $X_2 \\sim Bi(n_2 ; P_2)$\n",
        "\n",
        "${Z_{obs} =} {{(\\bar P_1-\\bar P_2) - (P_1 - P_2)}\\over S_p}$ $\\sim N(0;1)$ con $S_p^2 = \\frac{\\bar{P}_1 (1 - \\bar{P}_1)}{n_1} + \\frac{\\bar{P}_2 (1 - \\bar{P}_2)}{n_2}$\n",
        "\n",
        "Entonces:\n",
        "\n",
        "$IC[{(\\bar P_1 -\\bar P_2 )} - {Z_{1- {\\alpha \\over 2}}} * {S_p} {\\leq P_1 -P_2 \\leq} ({\\bar P_1 -\\bar P_2 )} + {Z_{1- {\\alpha \\over 2}}} * {S_p}] = {1-\\alpha}$"
      ],
      "metadata": {
        "id": "_AIZHeAIpdM0"
      }
    },
    {
      "cell_type": "code",
      "source": [
        "pm_1= 0.5\n",
        "pm_2= 0.2\n",
        "N_1= 100\n",
        "N_2= 200\n",
        "alfa=0.05\n",
        "\n",
        "ESTADÍSTICO= ss.norm.ppf(1-(alfa/2))\n",
        "Sp=((((1-pm_1)*pm_1)/N_1)+(((1-pm_2)*pm_2)/N_2))**0.5\n",
        "Li=(pm_1-pm_2)-ESTADÍSTICO*Sp\n",
        "Ls=(pm_1-pm_2)+ESTADÍSTICO*Sp\n",
        "if Li<0 or Ls>1 or Ls<Li:\n",
        "  intervalo='ERROR'\n",
        "else:\n",
        "  INTERVALO=(Li, Ls)\n",
        "intervalo6=display(Math('IC['+str(round(INTERVALO[0],4))+'\\leq p_{1} - p_{2} \\leq'+ str(round(INTERVALO[1],4))+']='+str(1-alfa)))\n",
        "intervalo6"
      ],
      "metadata": {
        "id": "oZgKDAP9pcrD",
        "colab": {
          "base_uri": "https://localhost:8080/",
          "height": 39
        },
        "outputId": "04d02099-05a3-4c3d-d62d-f227084c0996"
      },
      "execution_count": null,
      "outputs": [
        {
          "output_type": "display_data",
          "data": {
            "text/plain": [
              "<IPython.core.display.Math object>"
            ],
            "text/latex": "$\\displaystyle IC[0.1874\\leq p_{1} - p_{2} \\leq0.4126]=0.95$"
          },
          "metadata": {}
        }
      ]
    },
    {
      "cell_type": "markdown",
      "source": [
        "Se verifica este resultado del siguiente modo:\n",
        "\n",
        "Dado $X_1 \\sim N(\\mu_1; \\sigma_1)$ y $X_2 \\sim N(\\mu_2; \\sigma_2)$,  $N_1=100$, $\\bar P_1=0.5$,  $N_2=200$, $\\bar P_2=0.2$ y $\\alpha=5\\%$\n",
        "\n",
        "$Z_{1- {\\alpha \\over 2}}=Z_{1- {0.05 \\over 2}}={Z_{0.975}}=1.96$\n",
        "\n",
        "$S_p^2 = \\frac{\\bar{P}_1 (1 - \\bar{P}_1)}{n_1} + \\frac{\\bar{P}_2 (1 - \\bar{P}_2)}{n_2}=\\frac{0.5*(1-0.5)}{100}+ \\frac{0.2*(1-0.2)}{200}=0.0033$\n",
        "\n",
        "${S_{p} = \\sqrt {S_p^2}= \\sqrt {0.0033}=0.057445626}$\n",
        "\n",
        "$IC[({\\bar P_1 -\\bar P_2 )} - {Z_{1- {\\alpha \\over 2}}} * {S_p} {\\leq P_1 - P_2 \\leq} ({\\bar P_1 -\\bar P_2 )} + {Z_{1- {\\alpha \\over 2}}} * {S_p}] = {1-\\alpha}$\n",
        "\n",
        "$IC[{(0.5-0.2)} - 1.96 * 0.057445626 {\\leq P_1 - P_2 \\leq} {(0.5-0.2)} + 1.96 * 0.057445626] = {1-0.05}$\n",
        "\n",
        "$IC[0.1874 {\\leq P_{1} - P_{2} \\leq} 0.4126] = 0.95$\n"
      ],
      "metadata": {
        "id": "IAtvA4zVqfyD"
      }
    }
  ]
}