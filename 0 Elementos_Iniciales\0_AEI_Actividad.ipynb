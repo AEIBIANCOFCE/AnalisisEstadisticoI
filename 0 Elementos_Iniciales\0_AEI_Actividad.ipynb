{
  "nbformat": 4,
  "nbformat_minor": 0,
  "metadata": {
    "colab": {
      "provenance": [],
      "include_colab_link": true
    },
    "kernelspec": {
      "name": "python3",
      "display_name": "Python 3"
    },
    "language_info": {
      "name": "python"
    }
  },
  "cells": [
    {
      "cell_type": "markdown",
      "metadata": {
        "id": "view-in-github",
        "colab_type": "text"
      },
      "source": [
        "<a href=\"https://colab.research.google.com/github/AEIBIANCOFCE/AnalisisEstadisticoI/blob/main/0%20Elementos_Iniciales%5C0_AEI_Actividad.ipynb\" target=\"_parent\"><img src=\"https://colab.research.google.com/assets/colab-badge.svg\" alt=\"Open In Colab\"/></a>"
      ]
    },
    {
      "cell_type": "markdown",
      "source": [
        "<figure>\n",
        "<center>\n",
        "<img src='https://www.economicas.uba.ar/wp-content/uploads/2020/08/cropped-logo_FCE.png' />\n",
        "</figure>"
      ],
      "metadata": {
        "id": "drvDSfWaaYWS"
      }
    },
    {
      "cell_type": "markdown",
      "source": [
        "# **Universidad de Buenos Aires**\n",
        "## **Facultad de Ciencias Económicas**\n",
        "\n",
        "### **Análisis Estadístico I**\n",
        "\n",
        "### Cátedra: Bianco\n",
        "\n",
        "#### **Actividad: Nociones introductorias a Python**\n",
        "\n",
        "***Material elaborado por la profesora Natalia Salaberry***"
      ],
      "metadata": {
        "id": "eMuYyGo7uqxJ"
      }
    },
    {
      "cell_type": "markdown",
      "metadata": {
        "id": "5s4DlhTdlPbL"
      },
      "source": [
        "**1. Escriba una breve descripción de los tipos de datos siguientes**"
      ]
    },
    {
      "cell_type": "markdown",
      "metadata": {
        "id": "GsY6I5RVLi-d"
      },
      "source": [
        "NUMBERS:"
      ]
    },
    {
      "cell_type": "markdown",
      "metadata": {
        "id": "3GMv5T2rMv1g"
      },
      "source": [
        "STRINGS:"
      ]
    },
    {
      "cell_type": "markdown",
      "metadata": {
        "id": "aDZjn8BfLmRP"
      },
      "source": [
        "BOOLEANS:"
      ]
    },
    {
      "cell_type": "markdown",
      "metadata": {
        "id": "dLLF3Q4bM1e3"
      },
      "source": [
        "LIST:"
      ]
    },
    {
      "cell_type": "markdown",
      "metadata": {
        "id": "VX9xkPHnM-jZ"
      },
      "source": [
        "**2. Escriba una ecuación que use multiplicación, división, potencia, suma y resta y obtenga como resultado 100,25.**"
      ]
    },
    {
      "cell_type": "code",
      "execution_count": null,
      "metadata": {
        "id": "ma4oVtUFLlef"
      },
      "outputs": [],
      "source": []
    },
    {
      "cell_type": "markdown",
      "metadata": {
        "id": "Iwk9ewUJNVnp"
      },
      "source": [
        "**3. A partir de la cadena de texto 'Análisis Estadístico I' obtenga la cantidad de caracteres de la cadena. Utilizando el indice, obtenga la letra 'E' y por otro lado la letra 'I'**"
      ]
    },
    {
      "cell_type": "code",
      "execution_count": null,
      "metadata": {
        "id": "lIC6qYmgLilr"
      },
      "outputs": [],
      "source": []
    },
    {
      "cell_type": "markdown",
      "metadata": {
        "id": "tvSyeRJkOCiZ"
      },
      "source": [
        "**4. Cree una lista con los números 1, 2, 3. Agregue el valor 4 a la lista. Finalmente, reemplace el último elemento de la lista por 'HOLA'.**"
      ]
    },
    {
      "cell_type": "code",
      "execution_count": null,
      "metadata": {
        "id": "eVjETTgjO2VX"
      },
      "outputs": [],
      "source": []
    },
    {
      "cell_type": "markdown",
      "source": [
        "**5. A partir de la lista del punto 4, recorra la misma con un FOR para obtener únicamente el elemento 'HOLA'**"
      ],
      "metadata": {
        "id": "18-LYpxtker8"
      }
    },
    {
      "cell_type": "code",
      "source": [],
      "metadata": {
        "id": "biyc6zNBk41q"
      },
      "execution_count": null,
      "outputs": []
    },
    {
      "cell_type": "markdown",
      "source": [
        "**6. Cree una función que realice la operación del punto 1 y devuelva como resultado 100,25**"
      ],
      "metadata": {
        "id": "-FjYs4CMk6SF"
      }
    },
    {
      "cell_type": "code",
      "source": [],
      "metadata": {
        "id": "UwEG1j-Ok5m1"
      },
      "execution_count": null,
      "outputs": []
    }
  ]
}