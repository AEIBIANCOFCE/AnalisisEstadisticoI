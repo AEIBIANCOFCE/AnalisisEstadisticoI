{
  "nbformat": 4,
  "nbformat_minor": 0,
  "metadata": {
    "colab": {
      "provenance": [],
      "include_colab_link": true
    },
    "kernelspec": {
      "name": "python3",
      "display_name": "Python 3"
    },
    "language_info": {
      "name": "python"
    }
  },
  "cells": [
    {
      "cell_type": "markdown",
      "metadata": {
        "id": "view-in-github",
        "colab_type": "text"
      },
      "source": [
        "<a href=\"https://colab.research.google.com/github/AEIBIANCOFCE/AnalisisEstadisticoI/blob/main/7%20N%C3%BAmeros%20%C3%8Dndice/7_AEI_Actividad_N%C3%BAmeros_%C3%ADndice.ipynb\" target=\"_parent\"><img src=\"https://colab.research.google.com/assets/colab-badge.svg\" alt=\"Open In Colab\"/></a>"
      ]
    },
    {
      "cell_type": "markdown",
      "source": [
        "<figure>\n",
        "<center>\n",
        "<img src='https://www.economicas.uba.ar/wp-content/uploads/2020/08/cropped-logo_FCE.png' />\n",
        "</figure>"
      ],
      "metadata": {
        "id": "drvDSfWaaYWS"
      }
    },
    {
      "cell_type": "markdown",
      "source": [
        "# **Universidad de Buenos Aires**\n",
        "## **Facultad de Ciencias Económicas**\n",
        "\n",
        "### **Análisis Estadístico I**\n",
        "\n",
        "### Cátedra: Bianco\n",
        "\n",
        "#### **Actividad: números indice con Python**\n",
        "\n",
        "***Material elaborado por la profesora Natalia Salaberry***"
      ],
      "metadata": {
        "id": "eMuYyGo7uqxJ"
      }
    },
    {
      "cell_type": "markdown",
      "metadata": {
        "id": "5s4DlhTdlPbL"
      },
      "source": [
        "**Mediante la librería yfinance obtenga datos de cotización de cierre y volumen diario de un activo para el período enero 2023 a diciembre 2024.**"
      ]
    },
    {
      "cell_type": "code",
      "source": [],
      "metadata": {
        "id": "unfVyvZx2ig6"
      },
      "execution_count": null,
      "outputs": []
    },
    {
      "cell_type": "code",
      "source": [],
      "metadata": {
        "id": "v26RSiI92ie_"
      },
      "execution_count": null,
      "outputs": []
    },
    {
      "cell_type": "markdown",
      "source": [
        " **Para el precio de cierre, cree un indice de precios con base en el primer día de enero 2023.**"
      ],
      "metadata": {
        "id": "WTwxLJNPcitZ"
      }
    },
    {
      "cell_type": "code",
      "source": [],
      "metadata": {
        "id": "8jl5ekDq2ich"
      },
      "execution_count": null,
      "outputs": []
    },
    {
      "cell_type": "code",
      "source": [],
      "metadata": {
        "id": "_TBlGlSMcmzC"
      },
      "execution_count": null,
      "outputs": []
    },
    {
      "cell_type": "markdown",
      "source": [
        "**Realice un cambio de base al primer día de enero 2024.**"
      ],
      "metadata": {
        "id": "GviczK8ucnRb"
      }
    },
    {
      "cell_type": "code",
      "source": [],
      "metadata": {
        "id": "dIo-7fczcuET"
      },
      "execution_count": null,
      "outputs": []
    },
    {
      "cell_type": "code",
      "source": [],
      "metadata": {
        "id": "cwqi6wcbcuVX"
      },
      "execution_count": null,
      "outputs": []
    },
    {
      "cell_type": "markdown",
      "source": [
        "**Finalmente, calcule el índice Laspeyre, Paschee y Fisher tomando como base el primer día de enero 2024**"
      ],
      "metadata": {
        "id": "VQpdgOGmcu6O"
      }
    },
    {
      "cell_type": "code",
      "source": [],
      "metadata": {
        "id": "jRR4BRBCc3EH"
      },
      "execution_count": null,
      "outputs": []
    },
    {
      "cell_type": "code",
      "source": [],
      "metadata": {
        "id": "cQGej7hMc2xU"
      },
      "execution_count": null,
      "outputs": []
    },
    {
      "cell_type": "code",
      "source": [],
      "metadata": {
        "id": "pdbEqLJoc2vV"
      },
      "execution_count": null,
      "outputs": []
    }
  ]
}