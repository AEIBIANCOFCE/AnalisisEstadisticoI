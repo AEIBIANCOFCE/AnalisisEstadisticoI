{
  "nbformat": 4,
  "nbformat_minor": 0,
  "metadata": {
    "colab": {
      "provenance": [],
      "include_colab_link": true
    },
    "kernelspec": {
      "name": "python3",
      "display_name": "Python 3"
    },
    "language_info": {
      "name": "python"
    }
  },
  "cells": [
    {
      "cell_type": "markdown",
      "metadata": {
        "id": "view-in-github",
        "colab_type": "text"
      },
      "source": [
        "<a href=\"https://colab.research.google.com/github/AEIBIANCOFCE/AnalisisEstadisticoI/blob/main/1%20Distribuciones%20de%20Probabilidad/1_AEI_Actividad_Distribuciones_Continuas.ipynb\" target=\"_parent\"><img src=\"https://colab.research.google.com/assets/colab-badge.svg\" alt=\"Open In Colab\"/></a>"
      ]
    },
    {
      "cell_type": "markdown",
      "source": [
        "<figure>\n",
        "<center>\n",
        "<img src='https://www.economicas.uba.ar/wp-content/uploads/2020/08/cropped-logo_FCE.png' />\n",
        "</figure>"
      ],
      "metadata": {
        "id": "drvDSfWaaYWS"
      }
    },
    {
      "cell_type": "markdown",
      "source": [
        "# **Universidad de Buenos Aires**\n",
        "## **Facultad de Ciencias Económicas**\n",
        "\n",
        "### **Análisis Estadístico I**\n",
        "\n",
        "### Cátedra: Bianco\n",
        "\n",
        "#### **Actividad: Distribuciones Continuas de Probabilidad con Python**\n",
        "\n",
        "***Material elaborado por la profesora Natalia Salaberry***"
      ],
      "metadata": {
        "id": "eMuYyGo7uqxJ"
      }
    },
    {
      "cell_type": "markdown",
      "metadata": {
        "id": "5s4DlhTdlPbL"
      },
      "source": [
        "**1. Sea X ~ U(5,20). Calcule las siguientes probabilidades:**\n",
        "\n",
        "- a) P(X >= 7)\n",
        "- b) P(X < 9)\n",
        "- c) F(8)\n",
        "\n",
        "Respuestas: a)0,9333  b)0,26667   c)1"
      ]
    },
    {
      "cell_type": "code",
      "source": [],
      "metadata": {
        "id": "unfVyvZx2ig6"
      },
      "execution_count": null,
      "outputs": []
    },
    {
      "cell_type": "code",
      "source": [],
      "metadata": {
        "id": "v26RSiI92ie_"
      },
      "execution_count": null,
      "outputs": []
    },
    {
      "cell_type": "code",
      "source": [],
      "metadata": {
        "id": "8jl5ekDq2ich"
      },
      "execution_count": null,
      "outputs": []
    },
    {
      "cell_type": "markdown",
      "metadata": {
        "id": "VX9xkPHnM-jZ"
      },
      "source": [
        "**2. Sea X ~ Normal(3;2). Calcule las siguientes probabilidades:**\n",
        "\n",
        "- P(X > 2)\n",
        "- P(X < -1)\n",
        "- F(3)\n",
        "\n",
        "Respuestas: a)0,69146  b)0,02275   c)0,5"
      ]
    },
    {
      "cell_type": "code",
      "source": [],
      "metadata": {
        "id": "06FrCymnvOtZ"
      },
      "execution_count": null,
      "outputs": []
    },
    {
      "cell_type": "code",
      "source": [],
      "metadata": {
        "id": "NA7y847kvOrK"
      },
      "execution_count": null,
      "outputs": []
    },
    {
      "cell_type": "code",
      "source": [],
      "metadata": {
        "id": "TULzEhzqvOo1"
      },
      "execution_count": null,
      "outputs": []
    },
    {
      "cell_type": "markdown",
      "source": [
        "**3. Sea X ~ Gamma(2,1). Calcule las siguientes probabilidades:**\n",
        "\n",
        "- P(X>3)\n",
        "- P(X<2)\n",
        "- F(4)\n",
        "\n",
        "Respuestas: a)0,0025  b)0,9817   c)0,9997"
      ],
      "metadata": {
        "id": "dnb_Se1EvPrW"
      }
    },
    {
      "cell_type": "code",
      "source": [],
      "metadata": {
        "id": "-Eja30BUvnu_"
      },
      "execution_count": null,
      "outputs": []
    },
    {
      "cell_type": "code",
      "source": [],
      "metadata": {
        "id": "N6QjWBEfvnph"
      },
      "execution_count": null,
      "outputs": []
    },
    {
      "cell_type": "code",
      "source": [],
      "metadata": {
        "id": "ax9AkfiXvnnB"
      },
      "execution_count": null,
      "outputs": []
    },
    {
      "cell_type": "markdown",
      "source": [
        "**4. Sea X ~ Exp(0.5). Calcule las siguientes probabilidades:**\n",
        "\n",
        "- P(X>2)\n",
        "- P(X<5)\n",
        "- F(10)\n",
        "\n",
        "Respuestas: a)0,3679  b)0,9179   c)0,9933"
      ],
      "metadata": {
        "id": "WNWUWfGnwXCN"
      }
    },
    {
      "cell_type": "code",
      "source": [],
      "metadata": {
        "id": "SuWCSsEHybi2"
      },
      "execution_count": null,
      "outputs": []
    },
    {
      "cell_type": "code",
      "source": [],
      "metadata": {
        "id": "c81sUXhFybgn"
      },
      "execution_count": null,
      "outputs": []
    },
    {
      "cell_type": "code",
      "source": [],
      "metadata": {
        "id": "R-12E_5Xybd0"
      },
      "execution_count": null,
      "outputs": []
    },
    {
      "cell_type": "markdown",
      "source": [
        "**5. Sea X ~ Beta(2,4). Calcule las siguientes probabilidades:**\n",
        "\n",
        "- P(X>0.5)\n",
        "- P(X<0.8)\n",
        "- F(0.4)\n",
        "\n",
        "Respuestas: a)0,1875  b)0,9933   c)0,6630"
      ],
      "metadata": {
        "id": "SkNYsaBbypL9"
      }
    },
    {
      "cell_type": "code",
      "source": [],
      "metadata": {
        "id": "HF8QiWNtzxRm"
      },
      "execution_count": null,
      "outputs": []
    },
    {
      "cell_type": "code",
      "source": [],
      "metadata": {
        "id": "qIxG28BBzx9e"
      },
      "execution_count": null,
      "outputs": []
    },
    {
      "cell_type": "code",
      "source": [],
      "metadata": {
        "id": "DVpgXJmEzxtS"
      },
      "execution_count": null,
      "outputs": []
    },
    {
      "cell_type": "markdown",
      "source": [
        "**6. Sea X ~ $t_5$. Calcule las siguientes probabilidades:**\n",
        "\n",
        "- P(X>6)\n",
        "- P(X<3)\n",
        "- F(5)\n",
        "\n",
        "Respuestas: a)0,0009  b)0,98495   c)0,9979"
      ],
      "metadata": {
        "id": "f24VCXK9z27_"
      }
    },
    {
      "cell_type": "code",
      "source": [],
      "metadata": {
        "id": "34zXup5v0jJ0"
      },
      "execution_count": null,
      "outputs": []
    },
    {
      "cell_type": "code",
      "source": [],
      "metadata": {
        "id": "Soaz6mqY0kA7"
      },
      "execution_count": null,
      "outputs": []
    },
    {
      "cell_type": "code",
      "source": [],
      "metadata": {
        "id": "AEbFA60Y0j3e"
      },
      "execution_count": null,
      "outputs": []
    },
    {
      "cell_type": "markdown",
      "source": [
        "**7. Sea X ~ $x_5^2$. Calcule las siguientes probabilidades:**\n",
        "\n",
        "- P(X>7)\n",
        "- P(X<2)\n",
        "- F(4)\n",
        "\n",
        "Respuestas: a)0,2206  b)0,1509   c)0,4506"
      ],
      "metadata": {
        "id": "aXlQE_Mal2LT"
      }
    },
    {
      "cell_type": "code",
      "source": [],
      "metadata": {
        "id": "p75WddqWmamf"
      },
      "execution_count": null,
      "outputs": []
    },
    {
      "cell_type": "code",
      "source": [],
      "metadata": {
        "id": "CY_wzyopmaZN"
      },
      "execution_count": null,
      "outputs": []
    },
    {
      "cell_type": "code",
      "source": [],
      "metadata": {
        "id": "mWK3YNuFmaWz"
      },
      "execution_count": null,
      "outputs": []
    },
    {
      "cell_type": "markdown",
      "source": [
        "**8. Sea X ~ $F_{5;7}$. Calcule las siguientes probabilidades:**\n",
        "\n",
        "- P(X>5)\n",
        "- P(X<3)\n",
        "- F(9)\n",
        "\n",
        "Respuestas: a)0,0287  b)0,9078   c)0,9941"
      ],
      "metadata": {
        "id": "Ee-hn_2HmZPx"
      }
    },
    {
      "cell_type": "code",
      "source": [],
      "metadata": {
        "id": "Jxy3VOkNm5sm"
      },
      "execution_count": null,
      "outputs": []
    },
    {
      "cell_type": "code",
      "source": [],
      "metadata": {
        "id": "162cvV2Xm6cS"
      },
      "execution_count": null,
      "outputs": []
    },
    {
      "cell_type": "code",
      "source": [],
      "metadata": {
        "id": "5U6QPdi0m6SC"
      },
      "execution_count": null,
      "outputs": []
    },
    {
      "cell_type": "markdown",
      "source": [
        "**También puede resolver los ejercicios de la práctica**"
      ],
      "metadata": {
        "id": "O0ml6j5x0toU"
      }
    }
  ]
}