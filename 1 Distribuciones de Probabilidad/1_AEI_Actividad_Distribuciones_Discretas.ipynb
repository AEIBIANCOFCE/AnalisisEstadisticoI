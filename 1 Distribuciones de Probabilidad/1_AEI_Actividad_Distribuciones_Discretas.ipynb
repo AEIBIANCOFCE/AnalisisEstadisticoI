{
  "nbformat": 4,
  "nbformat_minor": 0,
  "metadata": {
    "colab": {
      "provenance": [],
      "include_colab_link": true
    },
    "kernelspec": {
      "name": "python3",
      "display_name": "Python 3"
    },
    "language_info": {
      "name": "python"
    }
  },
  "cells": [
    {
      "cell_type": "markdown",
      "metadata": {
        "id": "view-in-github",
        "colab_type": "text"
      },
      "source": [
        "<a href=\"https://colab.research.google.com/github/AEIBIANCOFCE/AnalisisEstadisticoI/blob/main/1%20Distribuciones%20de%20Probabilidad/1_AEI_Actividad_Distribuciones_Discretas.ipynb\" target=\"_parent\"><img src=\"https://colab.research.google.com/assets/colab-badge.svg\" alt=\"Open In Colab\"/></a>"
      ]
    },
    {
      "cell_type": "markdown",
      "source": [
        "<figure>\n",
        "<center>\n",
        "<img src='https://www.economicas.uba.ar/wp-content/uploads/2020/08/cropped-logo_FCE.png' />\n",
        "</figure>"
      ],
      "metadata": {
        "id": "drvDSfWaaYWS"
      }
    },
    {
      "cell_type": "markdown",
      "source": [
        "# **Universidad de Buenos Aires**\n",
        "## **Facultad de Ciencias Económicas**\n",
        "\n",
        "### **Análisis Estadístico I**\n",
        "\n",
        "### Cátedra: Bianco\n",
        "\n",
        "#### **Actividad: Distribuciones Discretas de Probabilidad con Python**\n",
        "\n",
        "***Material elaborado por la profesora Natalia Salaberry***"
      ],
      "metadata": {
        "id": "eMuYyGo7uqxJ"
      }
    },
    {
      "cell_type": "markdown",
      "metadata": {
        "id": "5s4DlhTdlPbL"
      },
      "source": [
        "**1. Sea X ~ Bernoulli(0.2). Calcule las siguientes probabilidades:**\n",
        "\n",
        "- a) P(X=0)\n",
        "- b) P(X=1)\n",
        "- c) F(1)\n",
        "\n",
        "Respuestas: a)0,79999999  b)0,2   c)1"
      ]
    },
    {
      "cell_type": "code",
      "source": [],
      "metadata": {
        "id": "P5eT5aQFn0YY"
      },
      "execution_count": null,
      "outputs": []
    },
    {
      "cell_type": "code",
      "source": [],
      "metadata": {
        "id": "EzpoGqdvn0Vu"
      },
      "execution_count": null,
      "outputs": []
    },
    {
      "cell_type": "code",
      "source": [],
      "metadata": {
        "id": "NhI38Jf_n0TE"
      },
      "execution_count": null,
      "outputs": []
    },
    {
      "cell_type": "markdown",
      "metadata": {
        "id": "VX9xkPHnM-jZ"
      },
      "source": [
        "**2. Sea X ~ Binomial(5;0.4). Calcule las siguientes probabilidades:**\n",
        "\n",
        "- P(X=2)\n",
        "- P(X>1)\n",
        "- F(3)\n",
        "\n",
        "Respuestas: a)0,3456  b)0,66304   c)0,91296"
      ]
    },
    {
      "cell_type": "code",
      "source": [],
      "metadata": {
        "id": "06FrCymnvOtZ"
      },
      "execution_count": null,
      "outputs": []
    },
    {
      "cell_type": "code",
      "source": [],
      "metadata": {
        "id": "NA7y847kvOrK"
      },
      "execution_count": null,
      "outputs": []
    },
    {
      "cell_type": "code",
      "source": [],
      "metadata": {
        "id": "TULzEhzqvOo1"
      },
      "execution_count": null,
      "outputs": []
    },
    {
      "cell_type": "markdown",
      "source": [
        "**3. Sea X ~ Geométrica(0.6). Calcule las siguientes probabilidades:**\n",
        "\n",
        "- P(X=3)\n",
        "- P(X>1)\n",
        "- F(5)\n",
        "\n",
        "Respuestas: a)0,9600  b)0,4000   c)0,98976"
      ],
      "metadata": {
        "id": "dnb_Se1EvPrW"
      }
    },
    {
      "cell_type": "code",
      "source": [],
      "metadata": {
        "id": "-Eja30BUvnu_"
      },
      "execution_count": null,
      "outputs": []
    },
    {
      "cell_type": "code",
      "source": [],
      "metadata": {
        "id": "N6QjWBEfvnph"
      },
      "execution_count": null,
      "outputs": []
    },
    {
      "cell_type": "code",
      "source": [],
      "metadata": {
        "id": "ax9AkfiXvnnB"
      },
      "execution_count": null,
      "outputs": []
    },
    {
      "cell_type": "markdown",
      "source": [
        "**4. Sea X ~ Hipergeométrica(6,4,3). Calcule las siguientes probabilidades:**\n",
        "\n",
        "- P(X=2)\n",
        "- P(X>1)\n",
        "- F(1)\n",
        "\n",
        "Respuestas: a)0,6000  b)0,8000   c)0,2000"
      ],
      "metadata": {
        "id": "WNWUWfGnwXCN"
      }
    },
    {
      "cell_type": "code",
      "source": [],
      "metadata": {
        "id": "SuWCSsEHybi2"
      },
      "execution_count": null,
      "outputs": []
    },
    {
      "cell_type": "code",
      "source": [],
      "metadata": {
        "id": "c81sUXhFybgn"
      },
      "execution_count": null,
      "outputs": []
    },
    {
      "cell_type": "code",
      "source": [],
      "metadata": {
        "id": "R-12E_5Xybd0"
      },
      "execution_count": null,
      "outputs": []
    },
    {
      "cell_type": "markdown",
      "source": [
        "**5. Sea X ~ BinomialNegativa(8,0.2). Calcule las siguientes probabilidades:**\n",
        "\n",
        "- P(X=3)\n",
        "- P(X>1)\n",
        "- F(4)\n",
        "\n",
        "Respuestas: a)0,00016  b)0,9999   c)0,00058"
      ],
      "metadata": {
        "id": "SkNYsaBbypL9"
      }
    },
    {
      "cell_type": "code",
      "source": [],
      "metadata": {
        "id": "HF8QiWNtzxRm"
      },
      "execution_count": null,
      "outputs": []
    },
    {
      "cell_type": "code",
      "source": [],
      "metadata": {
        "id": "qIxG28BBzx9e"
      },
      "execution_count": null,
      "outputs": []
    },
    {
      "cell_type": "code",
      "source": [],
      "metadata": {
        "id": "DVpgXJmEzxtS"
      },
      "execution_count": null,
      "outputs": []
    },
    {
      "cell_type": "markdown",
      "source": [
        "**6. Sea X ~ Poisson(4). Calcule las siguientes probabilidades:**\n",
        "\n",
        "- P(X=5)\n",
        "- P(X>0)\n",
        "- F(10)\n",
        "\n",
        "Respuestas: a)0,15629  b)0,98168   c)0,99716"
      ],
      "metadata": {
        "id": "f24VCXK9z27_"
      }
    },
    {
      "cell_type": "code",
      "source": [],
      "metadata": {
        "id": "34zXup5v0jJ0"
      },
      "execution_count": null,
      "outputs": []
    },
    {
      "cell_type": "code",
      "source": [],
      "metadata": {
        "id": "Soaz6mqY0kA7"
      },
      "execution_count": null,
      "outputs": []
    },
    {
      "cell_type": "code",
      "source": [],
      "metadata": {
        "id": "AEbFA60Y0j3e"
      },
      "execution_count": null,
      "outputs": []
    },
    {
      "cell_type": "markdown",
      "source": [
        "**También puede resolver los ejercicios de la práctica**"
      ],
      "metadata": {
        "id": "O0ml6j5x0toU"
      }
    }
  ]
}