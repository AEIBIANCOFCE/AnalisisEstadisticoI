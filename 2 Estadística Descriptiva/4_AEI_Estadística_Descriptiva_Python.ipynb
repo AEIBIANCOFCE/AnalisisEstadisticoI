{
  "nbformat": 4,
  "nbformat_minor": 0,
  "metadata": {
    "colab": {
      "provenance": [],
      "collapsed_sections": [
        "6UGnzq6vC9YW",
        "aAJ8NliTDCMa",
        "hgI6zFbWO9kk",
        "fg5zLwmfL2N0",
        "rHf97xDEy4dL",
        "sBJA1Ob21gjf",
        "mH-f9FM43mno",
        "ZDKYdPEeH9LE",
        "hP3s_7k-x99m",
        "64DtZtSpJoon",
        "c1pF5vIj7xQ9"
      ],
      "toc_visible": true,
      "include_colab_link": true
    },
    "kernelspec": {
      "name": "python3",
      "display_name": "Python 3"
    },
    "language_info": {
      "name": "python"
    }
  },
  "cells": [
    {
      "cell_type": "markdown",
      "metadata": {
        "id": "view-in-github",
        "colab_type": "text"
      },
      "source": [
        "<a href=\"https://colab.research.google.com/github/AEIBIANCOFCE/AnalisisEstadisticoI/blob/main/2%20Estad%C3%ADstica%20Descriptiva/4_AEI_Estad%C3%ADstica_Descriptiva_Python.ipynb\" target=\"_parent\"><img src=\"https://colab.research.google.com/assets/colab-badge.svg\" alt=\"Open In Colab\"/></a>"
      ]
    },
    {
      "cell_type": "markdown",
      "source": [
        "<figure>\n",
        "<center>\n",
        "<img src='https://www.economicas.uba.ar/wp-content/uploads/2020/08/cropped-logo_FCE.png' />\n",
        "</figure>"
      ],
      "metadata": {
        "id": "drvDSfWaaYWS"
      }
    },
    {
      "cell_type": "markdown",
      "source": [
        "# **Universidad de Buenos Aires**\n",
        "## **Facultad de Ciencias Económicas**\n",
        "\n",
        "### **Análisis Estadístico I**\n",
        "\n",
        "### Cátedra: Bianco\n",
        "\n",
        "#### **Estadística Descriptiva con Python**\n",
        "\n",
        "***Material elaborado por la profesora Natalia Salaberry***"
      ],
      "metadata": {
        "id": "eMuYyGo7uqxJ"
      }
    },
    {
      "cell_type": "markdown",
      "source": [
        "###**Librerías**"
      ],
      "metadata": {
        "id": "6UGnzq6vC9YW"
      }
    },
    {
      "cell_type": "code",
      "source": [
        "import pandas as pd\n",
        "import numpy as np\n",
        "\n",
        "import matplotlib.pyplot as plt\n",
        "import seaborn as sns"
      ],
      "metadata": {
        "id": "FJi1cX5dDBkr"
      },
      "execution_count": null,
      "outputs": []
    },
    {
      "cell_type": "markdown",
      "source": [
        "###**Medidas estadísticas**"
      ],
      "metadata": {
        "id": "aAJ8NliTDCMa"
      }
    },
    {
      "cell_type": "markdown",
      "source": [
        "Para profundizar en la teoría, se sugiere ver el **Capítulo 3: Descripción de datos** del libro [Introducción a la Probabilidad y a la Estadística](http://bibliotecadigital.econ.uba.ar/download/libros/Bacchini_Introduccion-a-la-probabilidad-y-a-la-estadistica-2018.pdf)"
      ],
      "metadata": {
        "id": "4HSncdorRQ_w"
      }
    },
    {
      "cell_type": "markdown",
      "source": [
        "La descripción de datos puede realizarse a través de calcular y analizar diferentes medidas estadísticas. Estas son de caracter agregado y proporcionan características sobre la distribución de los datos. En base a ello es posible obtener un mayor conocimiento acerca del comportamiento de las variables bajo análisis.\n",
        "\n",
        "Hay tres tipos de medidas estadísticas:\n",
        "\n",
        "- Medias de posición que refieren a entorno de que valor se encuentran distribuidos los datos. A su vez estas pueden ser:\n",
        "   - De tendencia central: indican información respecto del centro de la distribución de los datos\n",
        "   - De tendencia no central: brindan información de ciertos valores, no\n",
        "necesariamente centrales\n",
        "\n",
        "- Medias de dispersión: refieren a que tan dispersos se encuentran los datos respecto de un valor central de al distribución.\n",
        "\n",
        "- Medias de forma: refieren a la forma que tiene la distribución de los datos permitiendo saber si los datos se concentran o no hacia uno de los lados de la distribución."
      ],
      "metadata": {
        "id": "9FlFkWg0L2Wu"
      }
    },
    {
      "cell_type": "markdown",
      "source": [
        "Se crean datos para utilizar como ejemplo."
      ],
      "metadata": {
        "id": "u_GgjdfNOK_P"
      }
    },
    {
      "cell_type": "code",
      "source": [
        "DATA=pd.DataFrame({'X':[1,2,2,3,3,4,5]})\n",
        "DATA"
      ],
      "metadata": {
        "colab": {
          "base_uri": "https://localhost:8080/",
          "height": 269
        },
        "id": "sr55HGdz8eHL",
        "outputId": "9d05fe2f-0471-463b-8db2-76110ef17674"
      },
      "execution_count": null,
      "outputs": [
        {
          "output_type": "execute_result",
          "data": {
            "text/plain": [
              "   X\n",
              "0  1\n",
              "1  2\n",
              "2  2\n",
              "3  3\n",
              "4  3\n",
              "5  4\n",
              "6  5"
            ],
            "text/html": [
              "\n",
              "  <div id=\"df-c35e006e-4b2c-4d92-9438-69cd0db5b116\" class=\"colab-df-container\">\n",
              "    <div>\n",
              "<style scoped>\n",
              "    .dataframe tbody tr th:only-of-type {\n",
              "        vertical-align: middle;\n",
              "    }\n",
              "\n",
              "    .dataframe tbody tr th {\n",
              "        vertical-align: top;\n",
              "    }\n",
              "\n",
              "    .dataframe thead th {\n",
              "        text-align: right;\n",
              "    }\n",
              "</style>\n",
              "<table border=\"1\" class=\"dataframe\">\n",
              "  <thead>\n",
              "    <tr style=\"text-align: right;\">\n",
              "      <th></th>\n",
              "      <th>X</th>\n",
              "    </tr>\n",
              "  </thead>\n",
              "  <tbody>\n",
              "    <tr>\n",
              "      <th>0</th>\n",
              "      <td>1</td>\n",
              "    </tr>\n",
              "    <tr>\n",
              "      <th>1</th>\n",
              "      <td>2</td>\n",
              "    </tr>\n",
              "    <tr>\n",
              "      <th>2</th>\n",
              "      <td>2</td>\n",
              "    </tr>\n",
              "    <tr>\n",
              "      <th>3</th>\n",
              "      <td>3</td>\n",
              "    </tr>\n",
              "    <tr>\n",
              "      <th>4</th>\n",
              "      <td>3</td>\n",
              "    </tr>\n",
              "    <tr>\n",
              "      <th>5</th>\n",
              "      <td>4</td>\n",
              "    </tr>\n",
              "    <tr>\n",
              "      <th>6</th>\n",
              "      <td>5</td>\n",
              "    </tr>\n",
              "  </tbody>\n",
              "</table>\n",
              "</div>\n",
              "    <div class=\"colab-df-buttons\">\n",
              "\n",
              "  <div class=\"colab-df-container\">\n",
              "    <button class=\"colab-df-convert\" onclick=\"convertToInteractive('df-c35e006e-4b2c-4d92-9438-69cd0db5b116')\"\n",
              "            title=\"Convert this dataframe to an interactive table.\"\n",
              "            style=\"display:none;\">\n",
              "\n",
              "  <svg xmlns=\"http://www.w3.org/2000/svg\" height=\"24px\" viewBox=\"0 -960 960 960\">\n",
              "    <path d=\"M120-120v-720h720v720H120Zm60-500h600v-160H180v160Zm220 220h160v-160H400v160Zm0 220h160v-160H400v160ZM180-400h160v-160H180v160Zm440 0h160v-160H620v160ZM180-180h160v-160H180v160Zm440 0h160v-160H620v160Z\"/>\n",
              "  </svg>\n",
              "    </button>\n",
              "\n",
              "  <style>\n",
              "    .colab-df-container {\n",
              "      display:flex;\n",
              "      gap: 12px;\n",
              "    }\n",
              "\n",
              "    .colab-df-convert {\n",
              "      background-color: #E8F0FE;\n",
              "      border: none;\n",
              "      border-radius: 50%;\n",
              "      cursor: pointer;\n",
              "      display: none;\n",
              "      fill: #1967D2;\n",
              "      height: 32px;\n",
              "      padding: 0 0 0 0;\n",
              "      width: 32px;\n",
              "    }\n",
              "\n",
              "    .colab-df-convert:hover {\n",
              "      background-color: #E2EBFA;\n",
              "      box-shadow: 0px 1px 2px rgba(60, 64, 67, 0.3), 0px 1px 3px 1px rgba(60, 64, 67, 0.15);\n",
              "      fill: #174EA6;\n",
              "    }\n",
              "\n",
              "    .colab-df-buttons div {\n",
              "      margin-bottom: 4px;\n",
              "    }\n",
              "\n",
              "    [theme=dark] .colab-df-convert {\n",
              "      background-color: #3B4455;\n",
              "      fill: #D2E3FC;\n",
              "    }\n",
              "\n",
              "    [theme=dark] .colab-df-convert:hover {\n",
              "      background-color: #434B5C;\n",
              "      box-shadow: 0px 1px 3px 1px rgba(0, 0, 0, 0.15);\n",
              "      filter: drop-shadow(0px 1px 2px rgba(0, 0, 0, 0.3));\n",
              "      fill: #FFFFFF;\n",
              "    }\n",
              "  </style>\n",
              "\n",
              "    <script>\n",
              "      const buttonEl =\n",
              "        document.querySelector('#df-c35e006e-4b2c-4d92-9438-69cd0db5b116 button.colab-df-convert');\n",
              "      buttonEl.style.display =\n",
              "        google.colab.kernel.accessAllowed ? 'block' : 'none';\n",
              "\n",
              "      async function convertToInteractive(key) {\n",
              "        const element = document.querySelector('#df-c35e006e-4b2c-4d92-9438-69cd0db5b116');\n",
              "        const dataTable =\n",
              "          await google.colab.kernel.invokeFunction('convertToInteractive',\n",
              "                                                    [key], {});\n",
              "        if (!dataTable) return;\n",
              "\n",
              "        const docLinkHtml = 'Like what you see? Visit the ' +\n",
              "          '<a target=\"_blank\" href=https://colab.research.google.com/notebooks/data_table.ipynb>data table notebook</a>'\n",
              "          + ' to learn more about interactive tables.';\n",
              "        element.innerHTML = '';\n",
              "        dataTable['output_type'] = 'display_data';\n",
              "        await google.colab.output.renderOutput(dataTable, element);\n",
              "        const docLink = document.createElement('div');\n",
              "        docLink.innerHTML = docLinkHtml;\n",
              "        element.appendChild(docLink);\n",
              "      }\n",
              "    </script>\n",
              "  </div>\n",
              "\n",
              "\n",
              "<div id=\"df-2ec9932c-c599-4139-a2e0-a5fa98fedd6a\">\n",
              "  <button class=\"colab-df-quickchart\" onclick=\"quickchart('df-2ec9932c-c599-4139-a2e0-a5fa98fedd6a')\"\n",
              "            title=\"Suggest charts\"\n",
              "            style=\"display:none;\">\n",
              "\n",
              "<svg xmlns=\"http://www.w3.org/2000/svg\" height=\"24px\"viewBox=\"0 0 24 24\"\n",
              "     width=\"24px\">\n",
              "    <g>\n",
              "        <path d=\"M19 3H5c-1.1 0-2 .9-2 2v14c0 1.1.9 2 2 2h14c1.1 0 2-.9 2-2V5c0-1.1-.9-2-2-2zM9 17H7v-7h2v7zm4 0h-2V7h2v10zm4 0h-2v-4h2v4z\"/>\n",
              "    </g>\n",
              "</svg>\n",
              "  </button>\n",
              "\n",
              "<style>\n",
              "  .colab-df-quickchart {\n",
              "      --bg-color: #E8F0FE;\n",
              "      --fill-color: #1967D2;\n",
              "      --hover-bg-color: #E2EBFA;\n",
              "      --hover-fill-color: #174EA6;\n",
              "      --disabled-fill-color: #AAA;\n",
              "      --disabled-bg-color: #DDD;\n",
              "  }\n",
              "\n",
              "  [theme=dark] .colab-df-quickchart {\n",
              "      --bg-color: #3B4455;\n",
              "      --fill-color: #D2E3FC;\n",
              "      --hover-bg-color: #434B5C;\n",
              "      --hover-fill-color: #FFFFFF;\n",
              "      --disabled-bg-color: #3B4455;\n",
              "      --disabled-fill-color: #666;\n",
              "  }\n",
              "\n",
              "  .colab-df-quickchart {\n",
              "    background-color: var(--bg-color);\n",
              "    border: none;\n",
              "    border-radius: 50%;\n",
              "    cursor: pointer;\n",
              "    display: none;\n",
              "    fill: var(--fill-color);\n",
              "    height: 32px;\n",
              "    padding: 0;\n",
              "    width: 32px;\n",
              "  }\n",
              "\n",
              "  .colab-df-quickchart:hover {\n",
              "    background-color: var(--hover-bg-color);\n",
              "    box-shadow: 0 1px 2px rgba(60, 64, 67, 0.3), 0 1px 3px 1px rgba(60, 64, 67, 0.15);\n",
              "    fill: var(--button-hover-fill-color);\n",
              "  }\n",
              "\n",
              "  .colab-df-quickchart-complete:disabled,\n",
              "  .colab-df-quickchart-complete:disabled:hover {\n",
              "    background-color: var(--disabled-bg-color);\n",
              "    fill: var(--disabled-fill-color);\n",
              "    box-shadow: none;\n",
              "  }\n",
              "\n",
              "  .colab-df-spinner {\n",
              "    border: 2px solid var(--fill-color);\n",
              "    border-color: transparent;\n",
              "    border-bottom-color: var(--fill-color);\n",
              "    animation:\n",
              "      spin 1s steps(1) infinite;\n",
              "  }\n",
              "\n",
              "  @keyframes spin {\n",
              "    0% {\n",
              "      border-color: transparent;\n",
              "      border-bottom-color: var(--fill-color);\n",
              "      border-left-color: var(--fill-color);\n",
              "    }\n",
              "    20% {\n",
              "      border-color: transparent;\n",
              "      border-left-color: var(--fill-color);\n",
              "      border-top-color: var(--fill-color);\n",
              "    }\n",
              "    30% {\n",
              "      border-color: transparent;\n",
              "      border-left-color: var(--fill-color);\n",
              "      border-top-color: var(--fill-color);\n",
              "      border-right-color: var(--fill-color);\n",
              "    }\n",
              "    40% {\n",
              "      border-color: transparent;\n",
              "      border-right-color: var(--fill-color);\n",
              "      border-top-color: var(--fill-color);\n",
              "    }\n",
              "    60% {\n",
              "      border-color: transparent;\n",
              "      border-right-color: var(--fill-color);\n",
              "    }\n",
              "    80% {\n",
              "      border-color: transparent;\n",
              "      border-right-color: var(--fill-color);\n",
              "      border-bottom-color: var(--fill-color);\n",
              "    }\n",
              "    90% {\n",
              "      border-color: transparent;\n",
              "      border-bottom-color: var(--fill-color);\n",
              "    }\n",
              "  }\n",
              "</style>\n",
              "\n",
              "  <script>\n",
              "    async function quickchart(key) {\n",
              "      const quickchartButtonEl =\n",
              "        document.querySelector('#' + key + ' button');\n",
              "      quickchartButtonEl.disabled = true;  // To prevent multiple clicks.\n",
              "      quickchartButtonEl.classList.add('colab-df-spinner');\n",
              "      try {\n",
              "        const charts = await google.colab.kernel.invokeFunction(\n",
              "            'suggestCharts', [key], {});\n",
              "      } catch (error) {\n",
              "        console.error('Error during call to suggestCharts:', error);\n",
              "      }\n",
              "      quickchartButtonEl.classList.remove('colab-df-spinner');\n",
              "      quickchartButtonEl.classList.add('colab-df-quickchart-complete');\n",
              "    }\n",
              "    (() => {\n",
              "      let quickchartButtonEl =\n",
              "        document.querySelector('#df-2ec9932c-c599-4139-a2e0-a5fa98fedd6a button');\n",
              "      quickchartButtonEl.style.display =\n",
              "        google.colab.kernel.accessAllowed ? 'block' : 'none';\n",
              "    })();\n",
              "  </script>\n",
              "</div>\n",
              "\n",
              "  <div id=\"id_f58bbc1d-41a6-4669-8d68-94c05cb428af\">\n",
              "    <style>\n",
              "      .colab-df-generate {\n",
              "        background-color: #E8F0FE;\n",
              "        border: none;\n",
              "        border-radius: 50%;\n",
              "        cursor: pointer;\n",
              "        display: none;\n",
              "        fill: #1967D2;\n",
              "        height: 32px;\n",
              "        padding: 0 0 0 0;\n",
              "        width: 32px;\n",
              "      }\n",
              "\n",
              "      .colab-df-generate:hover {\n",
              "        background-color: #E2EBFA;\n",
              "        box-shadow: 0px 1px 2px rgba(60, 64, 67, 0.3), 0px 1px 3px 1px rgba(60, 64, 67, 0.15);\n",
              "        fill: #174EA6;\n",
              "      }\n",
              "\n",
              "      [theme=dark] .colab-df-generate {\n",
              "        background-color: #3B4455;\n",
              "        fill: #D2E3FC;\n",
              "      }\n",
              "\n",
              "      [theme=dark] .colab-df-generate:hover {\n",
              "        background-color: #434B5C;\n",
              "        box-shadow: 0px 1px 3px 1px rgba(0, 0, 0, 0.15);\n",
              "        filter: drop-shadow(0px 1px 2px rgba(0, 0, 0, 0.3));\n",
              "        fill: #FFFFFF;\n",
              "      }\n",
              "    </style>\n",
              "    <button class=\"colab-df-generate\" onclick=\"generateWithVariable('DATA')\"\n",
              "            title=\"Generate code using this dataframe.\"\n",
              "            style=\"display:none;\">\n",
              "\n",
              "  <svg xmlns=\"http://www.w3.org/2000/svg\" height=\"24px\"viewBox=\"0 0 24 24\"\n",
              "       width=\"24px\">\n",
              "    <path d=\"M7,19H8.4L18.45,9,17,7.55,7,17.6ZM5,21V16.75L18.45,3.32a2,2,0,0,1,2.83,0l1.4,1.43a1.91,1.91,0,0,1,.58,1.4,1.91,1.91,0,0,1-.58,1.4L9.25,21ZM18.45,9,17,7.55Zm-12,3A5.31,5.31,0,0,0,4.9,8.1,5.31,5.31,0,0,0,1,6.5,5.31,5.31,0,0,0,4.9,4.9,5.31,5.31,0,0,0,6.5,1,5.31,5.31,0,0,0,8.1,4.9,5.31,5.31,0,0,0,12,6.5,5.46,5.46,0,0,0,6.5,12Z\"/>\n",
              "  </svg>\n",
              "    </button>\n",
              "    <script>\n",
              "      (() => {\n",
              "      const buttonEl =\n",
              "        document.querySelector('#id_f58bbc1d-41a6-4669-8d68-94c05cb428af button.colab-df-generate');\n",
              "      buttonEl.style.display =\n",
              "        google.colab.kernel.accessAllowed ? 'block' : 'none';\n",
              "\n",
              "      buttonEl.onclick = () => {\n",
              "        google.colab.notebook.generateWithVariable('DATA');\n",
              "      }\n",
              "      })();\n",
              "    </script>\n",
              "  </div>\n",
              "\n",
              "    </div>\n",
              "  </div>\n"
            ],
            "application/vnd.google.colaboratory.intrinsic+json": {
              "type": "dataframe",
              "variable_name": "DATA",
              "summary": "{\n  \"name\": \"DATA\",\n  \"rows\": 7,\n  \"fields\": [\n    {\n      \"column\": \"X\",\n      \"properties\": {\n        \"dtype\": \"number\",\n        \"std\": 1,\n        \"min\": 1,\n        \"max\": 5,\n        \"num_unique_values\": 5,\n        \"samples\": [\n          2,\n          5,\n          3\n        ],\n        \"semantic_type\": \"\",\n        \"description\": \"\"\n      }\n    }\n  ]\n}"
            }
          },
          "metadata": {},
          "execution_count": 55
        }
      ]
    },
    {
      "cell_type": "markdown",
      "source": [
        "####**Función Describe**"
      ],
      "metadata": {
        "id": "hgI6zFbWO9kk"
      }
    },
    {
      "cell_type": "markdown",
      "source": [
        "Devuelve una serie de medidas básicas: count=n, mean=Media, std=desvío, min=valor mínimo, 25%=P25, 50%=P50, 75%=P75 y max=valor máximo"
      ],
      "metadata": {
        "id": "a4Xh2ZtePI74"
      }
    },
    {
      "cell_type": "code",
      "source": [
        "DATA.describe()"
      ],
      "metadata": {
        "colab": {
          "base_uri": "https://localhost:8080/",
          "height": 300
        },
        "id": "FDXxqhSDPBfn",
        "outputId": "697e876f-d51d-4889-eb74-9a455cb7dd50"
      },
      "execution_count": null,
      "outputs": [
        {
          "output_type": "execute_result",
          "data": {
            "text/plain": [
              "              X\n",
              "count  7.000000\n",
              "mean   2.857143\n",
              "std    1.345185\n",
              "min    1.000000\n",
              "25%    2.000000\n",
              "50%    3.000000\n",
              "75%    3.500000\n",
              "max    5.000000"
            ],
            "text/html": [
              "\n",
              "  <div id=\"df-010b45c5-79c1-436e-8e4d-9bcd75e9eee3\" class=\"colab-df-container\">\n",
              "    <div>\n",
              "<style scoped>\n",
              "    .dataframe tbody tr th:only-of-type {\n",
              "        vertical-align: middle;\n",
              "    }\n",
              "\n",
              "    .dataframe tbody tr th {\n",
              "        vertical-align: top;\n",
              "    }\n",
              "\n",
              "    .dataframe thead th {\n",
              "        text-align: right;\n",
              "    }\n",
              "</style>\n",
              "<table border=\"1\" class=\"dataframe\">\n",
              "  <thead>\n",
              "    <tr style=\"text-align: right;\">\n",
              "      <th></th>\n",
              "      <th>X</th>\n",
              "    </tr>\n",
              "  </thead>\n",
              "  <tbody>\n",
              "    <tr>\n",
              "      <th>count</th>\n",
              "      <td>7.000000</td>\n",
              "    </tr>\n",
              "    <tr>\n",
              "      <th>mean</th>\n",
              "      <td>2.857143</td>\n",
              "    </tr>\n",
              "    <tr>\n",
              "      <th>std</th>\n",
              "      <td>1.345185</td>\n",
              "    </tr>\n",
              "    <tr>\n",
              "      <th>min</th>\n",
              "      <td>1.000000</td>\n",
              "    </tr>\n",
              "    <tr>\n",
              "      <th>25%</th>\n",
              "      <td>2.000000</td>\n",
              "    </tr>\n",
              "    <tr>\n",
              "      <th>50%</th>\n",
              "      <td>3.000000</td>\n",
              "    </tr>\n",
              "    <tr>\n",
              "      <th>75%</th>\n",
              "      <td>3.500000</td>\n",
              "    </tr>\n",
              "    <tr>\n",
              "      <th>max</th>\n",
              "      <td>5.000000</td>\n",
              "    </tr>\n",
              "  </tbody>\n",
              "</table>\n",
              "</div>\n",
              "    <div class=\"colab-df-buttons\">\n",
              "\n",
              "  <div class=\"colab-df-container\">\n",
              "    <button class=\"colab-df-convert\" onclick=\"convertToInteractive('df-010b45c5-79c1-436e-8e4d-9bcd75e9eee3')\"\n",
              "            title=\"Convert this dataframe to an interactive table.\"\n",
              "            style=\"display:none;\">\n",
              "\n",
              "  <svg xmlns=\"http://www.w3.org/2000/svg\" height=\"24px\" viewBox=\"0 -960 960 960\">\n",
              "    <path d=\"M120-120v-720h720v720H120Zm60-500h600v-160H180v160Zm220 220h160v-160H400v160Zm0 220h160v-160H400v160ZM180-400h160v-160H180v160Zm440 0h160v-160H620v160ZM180-180h160v-160H180v160Zm440 0h160v-160H620v160Z\"/>\n",
              "  </svg>\n",
              "    </button>\n",
              "\n",
              "  <style>\n",
              "    .colab-df-container {\n",
              "      display:flex;\n",
              "      gap: 12px;\n",
              "    }\n",
              "\n",
              "    .colab-df-convert {\n",
              "      background-color: #E8F0FE;\n",
              "      border: none;\n",
              "      border-radius: 50%;\n",
              "      cursor: pointer;\n",
              "      display: none;\n",
              "      fill: #1967D2;\n",
              "      height: 32px;\n",
              "      padding: 0 0 0 0;\n",
              "      width: 32px;\n",
              "    }\n",
              "\n",
              "    .colab-df-convert:hover {\n",
              "      background-color: #E2EBFA;\n",
              "      box-shadow: 0px 1px 2px rgba(60, 64, 67, 0.3), 0px 1px 3px 1px rgba(60, 64, 67, 0.15);\n",
              "      fill: #174EA6;\n",
              "    }\n",
              "\n",
              "    .colab-df-buttons div {\n",
              "      margin-bottom: 4px;\n",
              "    }\n",
              "\n",
              "    [theme=dark] .colab-df-convert {\n",
              "      background-color: #3B4455;\n",
              "      fill: #D2E3FC;\n",
              "    }\n",
              "\n",
              "    [theme=dark] .colab-df-convert:hover {\n",
              "      background-color: #434B5C;\n",
              "      box-shadow: 0px 1px 3px 1px rgba(0, 0, 0, 0.15);\n",
              "      filter: drop-shadow(0px 1px 2px rgba(0, 0, 0, 0.3));\n",
              "      fill: #FFFFFF;\n",
              "    }\n",
              "  </style>\n",
              "\n",
              "    <script>\n",
              "      const buttonEl =\n",
              "        document.querySelector('#df-010b45c5-79c1-436e-8e4d-9bcd75e9eee3 button.colab-df-convert');\n",
              "      buttonEl.style.display =\n",
              "        google.colab.kernel.accessAllowed ? 'block' : 'none';\n",
              "\n",
              "      async function convertToInteractive(key) {\n",
              "        const element = document.querySelector('#df-010b45c5-79c1-436e-8e4d-9bcd75e9eee3');\n",
              "        const dataTable =\n",
              "          await google.colab.kernel.invokeFunction('convertToInteractive',\n",
              "                                                    [key], {});\n",
              "        if (!dataTable) return;\n",
              "\n",
              "        const docLinkHtml = 'Like what you see? Visit the ' +\n",
              "          '<a target=\"_blank\" href=https://colab.research.google.com/notebooks/data_table.ipynb>data table notebook</a>'\n",
              "          + ' to learn more about interactive tables.';\n",
              "        element.innerHTML = '';\n",
              "        dataTable['output_type'] = 'display_data';\n",
              "        await google.colab.output.renderOutput(dataTable, element);\n",
              "        const docLink = document.createElement('div');\n",
              "        docLink.innerHTML = docLinkHtml;\n",
              "        element.appendChild(docLink);\n",
              "      }\n",
              "    </script>\n",
              "  </div>\n",
              "\n",
              "\n",
              "<div id=\"df-505c322a-684a-4418-9358-51a300ad4e18\">\n",
              "  <button class=\"colab-df-quickchart\" onclick=\"quickchart('df-505c322a-684a-4418-9358-51a300ad4e18')\"\n",
              "            title=\"Suggest charts\"\n",
              "            style=\"display:none;\">\n",
              "\n",
              "<svg xmlns=\"http://www.w3.org/2000/svg\" height=\"24px\"viewBox=\"0 0 24 24\"\n",
              "     width=\"24px\">\n",
              "    <g>\n",
              "        <path d=\"M19 3H5c-1.1 0-2 .9-2 2v14c0 1.1.9 2 2 2h14c1.1 0 2-.9 2-2V5c0-1.1-.9-2-2-2zM9 17H7v-7h2v7zm4 0h-2V7h2v10zm4 0h-2v-4h2v4z\"/>\n",
              "    </g>\n",
              "</svg>\n",
              "  </button>\n",
              "\n",
              "<style>\n",
              "  .colab-df-quickchart {\n",
              "      --bg-color: #E8F0FE;\n",
              "      --fill-color: #1967D2;\n",
              "      --hover-bg-color: #E2EBFA;\n",
              "      --hover-fill-color: #174EA6;\n",
              "      --disabled-fill-color: #AAA;\n",
              "      --disabled-bg-color: #DDD;\n",
              "  }\n",
              "\n",
              "  [theme=dark] .colab-df-quickchart {\n",
              "      --bg-color: #3B4455;\n",
              "      --fill-color: #D2E3FC;\n",
              "      --hover-bg-color: #434B5C;\n",
              "      --hover-fill-color: #FFFFFF;\n",
              "      --disabled-bg-color: #3B4455;\n",
              "      --disabled-fill-color: #666;\n",
              "  }\n",
              "\n",
              "  .colab-df-quickchart {\n",
              "    background-color: var(--bg-color);\n",
              "    border: none;\n",
              "    border-radius: 50%;\n",
              "    cursor: pointer;\n",
              "    display: none;\n",
              "    fill: var(--fill-color);\n",
              "    height: 32px;\n",
              "    padding: 0;\n",
              "    width: 32px;\n",
              "  }\n",
              "\n",
              "  .colab-df-quickchart:hover {\n",
              "    background-color: var(--hover-bg-color);\n",
              "    box-shadow: 0 1px 2px rgba(60, 64, 67, 0.3), 0 1px 3px 1px rgba(60, 64, 67, 0.15);\n",
              "    fill: var(--button-hover-fill-color);\n",
              "  }\n",
              "\n",
              "  .colab-df-quickchart-complete:disabled,\n",
              "  .colab-df-quickchart-complete:disabled:hover {\n",
              "    background-color: var(--disabled-bg-color);\n",
              "    fill: var(--disabled-fill-color);\n",
              "    box-shadow: none;\n",
              "  }\n",
              "\n",
              "  .colab-df-spinner {\n",
              "    border: 2px solid var(--fill-color);\n",
              "    border-color: transparent;\n",
              "    border-bottom-color: var(--fill-color);\n",
              "    animation:\n",
              "      spin 1s steps(1) infinite;\n",
              "  }\n",
              "\n",
              "  @keyframes spin {\n",
              "    0% {\n",
              "      border-color: transparent;\n",
              "      border-bottom-color: var(--fill-color);\n",
              "      border-left-color: var(--fill-color);\n",
              "    }\n",
              "    20% {\n",
              "      border-color: transparent;\n",
              "      border-left-color: var(--fill-color);\n",
              "      border-top-color: var(--fill-color);\n",
              "    }\n",
              "    30% {\n",
              "      border-color: transparent;\n",
              "      border-left-color: var(--fill-color);\n",
              "      border-top-color: var(--fill-color);\n",
              "      border-right-color: var(--fill-color);\n",
              "    }\n",
              "    40% {\n",
              "      border-color: transparent;\n",
              "      border-right-color: var(--fill-color);\n",
              "      border-top-color: var(--fill-color);\n",
              "    }\n",
              "    60% {\n",
              "      border-color: transparent;\n",
              "      border-right-color: var(--fill-color);\n",
              "    }\n",
              "    80% {\n",
              "      border-color: transparent;\n",
              "      border-right-color: var(--fill-color);\n",
              "      border-bottom-color: var(--fill-color);\n",
              "    }\n",
              "    90% {\n",
              "      border-color: transparent;\n",
              "      border-bottom-color: var(--fill-color);\n",
              "    }\n",
              "  }\n",
              "</style>\n",
              "\n",
              "  <script>\n",
              "    async function quickchart(key) {\n",
              "      const quickchartButtonEl =\n",
              "        document.querySelector('#' + key + ' button');\n",
              "      quickchartButtonEl.disabled = true;  // To prevent multiple clicks.\n",
              "      quickchartButtonEl.classList.add('colab-df-spinner');\n",
              "      try {\n",
              "        const charts = await google.colab.kernel.invokeFunction(\n",
              "            'suggestCharts', [key], {});\n",
              "      } catch (error) {\n",
              "        console.error('Error during call to suggestCharts:', error);\n",
              "      }\n",
              "      quickchartButtonEl.classList.remove('colab-df-spinner');\n",
              "      quickchartButtonEl.classList.add('colab-df-quickchart-complete');\n",
              "    }\n",
              "    (() => {\n",
              "      let quickchartButtonEl =\n",
              "        document.querySelector('#df-505c322a-684a-4418-9358-51a300ad4e18 button');\n",
              "      quickchartButtonEl.style.display =\n",
              "        google.colab.kernel.accessAllowed ? 'block' : 'none';\n",
              "    })();\n",
              "  </script>\n",
              "</div>\n",
              "\n",
              "    </div>\n",
              "  </div>\n"
            ],
            "application/vnd.google.colaboratory.intrinsic+json": {
              "type": "dataframe",
              "summary": "{\n  \"name\": \"DATA\",\n  \"rows\": 8,\n  \"fields\": [\n    {\n      \"column\": \"X\",\n      \"properties\": {\n        \"dtype\": \"number\",\n        \"std\": 1.9873377478611265,\n        \"min\": 1.0,\n        \"max\": 7.0,\n        \"num_unique_values\": 8,\n        \"samples\": [\n          2.857142857142857,\n          3.0,\n          7.0\n        ],\n        \"semantic_type\": \"\",\n        \"description\": \"\"\n      }\n    }\n  ]\n}"
            }
          },
          "metadata": {},
          "execution_count": 56
        }
      ]
    },
    {
      "cell_type": "markdown",
      "source": [
        "####**Medidas de posición de tendencia central**:\n"
      ],
      "metadata": {
        "id": "fg5zLwmfL2N0"
      }
    },
    {
      "cell_type": "markdown",
      "source": [
        "\n",
        "- MEDIA ARITMÉTICA: Es el promedio simple de los datos Es muy sensible a valores atípicos siendo aquellos que se alejan del comportamiento “normal\" de los datos. Su cálculo es:\n",
        "\n",
        "\\begin{align}\n",
        "         \\bar{X} = {\\sum_{i=1}^n x_i\\over n}\n",
        "\\end{align}\n",
        "\n",
        "- MEDIANA: Es el valor central (o mitad que es equivalente al 50%) cuando los datos se encuentran ordenados de manera creciente. Su cálculo permite obtener la posición donde se encuentra el valor dentro de la distribución de los datos:\n",
        "\n",
        "\\begin{align}\n",
        "        Si{\\thinspace} n {\\thinspace}es{\\thinspace} par{\\thinspace} X_{me} = { X_{n\\over2} + X_{n+1\\over2} \\over 2}  \\quad\n",
        "        Si{\\thinspace} n {\\thinspace}es{\\thinspace} impar{\\thinspace} X_{me} = {X_{n+1\\over2} }\n",
        "\\end{align}\n",
        "\n",
        "- MODA: Es el valor más frecuente, es decir, el que más veces se repite dentro de la distribución. Si dos o mas valores son los de mayor frecuencia de aparición entonces estamos frente a una distribución multimodal:\n",
        "\n",
        "\\begin{align}\n",
        "        x_{mo}\n",
        "\\end{align}\n"
      ],
      "metadata": {
        "id": "rzjxlsk1GHdP"
      }
    },
    {
      "cell_type": "markdown",
      "source": [
        "**Media muestral**"
      ],
      "metadata": {
        "id": "LSapLC2AFmYk"
      }
    },
    {
      "cell_type": "code",
      "source": [
        "DATA['X'].mean()"
      ],
      "metadata": {
        "colab": {
          "base_uri": "https://localhost:8080/"
        },
        "id": "dRdaCXWsPk3K",
        "outputId": "695e37b5-579e-4ee9-9fbc-c3a2158db1bc"
      },
      "execution_count": null,
      "outputs": [
        {
          "output_type": "execute_result",
          "data": {
            "text/plain": [
              "2.857142857142857"
            ]
          },
          "metadata": {},
          "execution_count": 10
        }
      ]
    },
    {
      "cell_type": "markdown",
      "source": [
        "Se verifica este resultado del siguiente modo:\n",
        "\n",
        "\\begin{equation}\n",
        "\\begin{array}{|c|c|}\n",
        "    \\hline\n",
        "    Orden & X \\\\\n",
        "    \\hline\n",
        "    0 & 1 \\\\\n",
        "    \\hline\n",
        "    1 & 2 \\\\\n",
        "    \\hline\n",
        "    2 & 2 \\\\\n",
        "    \\hline\n",
        "    3 & 3 \\\\\n",
        "    \\hline\n",
        "    4 & 3 \\\\\n",
        "    \\hline\n",
        "    5 & 4 \\\\\n",
        "    \\hline\n",
        "    6 & 5 \\\\\n",
        "    \\hline\n",
        "\\end{array}\n",
        "\\end{equation}\n",
        "\n"
      ],
      "metadata": {
        "id": "Gj9y1cdz-OYw"
      }
    },
    {
      "cell_type": "markdown",
      "source": [
        "Suma de X = 1+2+2+3+3+4+5 = 20\n",
        "n = 7\n",
        "\n",
        "Luego\n",
        "\\begin{align}\n",
        "         \\bar{X} = {\\sum_{i=1}^n x_i\\over n} = {20 \\over 7} = 2,857142857142857\n",
        "\\end{align}"
      ],
      "metadata": {
        "id": "eG-t72hZ8_Th"
      }
    },
    {
      "cell_type": "markdown",
      "source": [
        "**Mediana**"
      ],
      "metadata": {
        "id": "MaNYM2bmFprk"
      }
    },
    {
      "cell_type": "code",
      "source": [
        "DATA['X'].median()"
      ],
      "metadata": {
        "colab": {
          "base_uri": "https://localhost:8080/"
        },
        "id": "CXGMKDs1T8bv",
        "outputId": "713e3cd3-d8bb-44c8-da03-3b03a269080b"
      },
      "execution_count": null,
      "outputs": [
        {
          "output_type": "execute_result",
          "data": {
            "text/plain": [
              "3.0"
            ]
          },
          "metadata": {},
          "execution_count": 7
        }
      ]
    },
    {
      "cell_type": "markdown",
      "source": [
        "Se verifica este resultado del siguiente modo:\n",
        "\n",
        "\\begin{equation}\n",
        "\\begin{array}{|c|c|}\n",
        "    \\hline\n",
        "    Orden & X \\\\\n",
        "    \\hline\n",
        "    0 & 1 \\\\\n",
        "    \\hline\n",
        "    1 & 2 \\\\\n",
        "    \\hline\n",
        "    2 & 2 \\\\\n",
        "    \\hline\n",
        "    3 & 3 \\\\\n",
        "    \\hline\n",
        "    4 & 3 \\\\\n",
        "    \\hline\n",
        "    5 & 4 \\\\\n",
        "    \\hline\n",
        "    6 & 5 \\\\\n",
        "    \\hline\n",
        "\\end{array}\n",
        "\\end{equation}\n",
        "\n",
        "$Distancia = n-1 =7-1=6$ \\\\\n",
        "\n",
        "$X_{me}$ representa el 50% \\\\\n",
        "\n",
        "Posición = $k* (n-1)$ donde k es el porcentaje  \n",
        "\n",
        "$X_{me}$= 0,5*6=3 => es la posición para tomar el valor de X correspondiente, es decir\n",
        "\n",
        "$X_3$ = 3 siendo la mediana.\n",
        "\n",
        "Si el valor de la posición es un número decimal, se deberá interpolar del siguiente modo:\n",
        "\n",
        "$X_{Parte Entera} + [Parte Decimal * (X_{posterior} – X_{Parte entera})]$\n",
        "\n",
        "En el caso de cálculo de percentiles, se presenta este tipo de casos.\n"
      ],
      "metadata": {
        "id": "HiTjQJKDxtOJ"
      }
    },
    {
      "cell_type": "markdown",
      "source": [
        "**Moda (o Valor modal o Modo)**"
      ],
      "metadata": {
        "id": "ucpQHicnFuSV"
      }
    },
    {
      "cell_type": "code",
      "source": [
        "DATA['X'].mode()"
      ],
      "metadata": {
        "colab": {
          "base_uri": "https://localhost:8080/",
          "height": 146
        },
        "id": "CCa9UH4IEzOX",
        "outputId": "1f1a5930-13b2-4908-be4d-e341c8bbf807"
      },
      "execution_count": null,
      "outputs": [
        {
          "output_type": "execute_result",
          "data": {
            "text/plain": [
              "0    2\n",
              "1    3\n",
              "Name: X, dtype: int64"
            ],
            "text/html": [
              "<div>\n",
              "<style scoped>\n",
              "    .dataframe tbody tr th:only-of-type {\n",
              "        vertical-align: middle;\n",
              "    }\n",
              "\n",
              "    .dataframe tbody tr th {\n",
              "        vertical-align: top;\n",
              "    }\n",
              "\n",
              "    .dataframe thead th {\n",
              "        text-align: right;\n",
              "    }\n",
              "</style>\n",
              "<table border=\"1\" class=\"dataframe\">\n",
              "  <thead>\n",
              "    <tr style=\"text-align: right;\">\n",
              "      <th></th>\n",
              "      <th>X</th>\n",
              "    </tr>\n",
              "  </thead>\n",
              "  <tbody>\n",
              "    <tr>\n",
              "      <th>0</th>\n",
              "      <td>2</td>\n",
              "    </tr>\n",
              "    <tr>\n",
              "      <th>1</th>\n",
              "      <td>3</td>\n",
              "    </tr>\n",
              "  </tbody>\n",
              "</table>\n",
              "</div><br><label><b>dtype:</b> int64</label>"
            ]
          },
          "metadata": {},
          "execution_count": 10
        }
      ]
    },
    {
      "cell_type": "markdown",
      "source": [
        "Se observan dos valores, por tanto, la distribución de los datos es bimodal"
      ],
      "metadata": {
        "id": "SHIbRMtLF0nX"
      }
    },
    {
      "cell_type": "markdown",
      "source": [
        "Se verifica este resultado del siguiente modo:\n",
        "\n",
        "\\begin{equation}\n",
        "\\begin{array}{|c|c|}\n",
        "    \\hline\n",
        "    Orden & X \\\\\n",
        "    \\hline\n",
        "    0 & 1 \\\\\n",
        "    \\hline\n",
        "    1 & 2 \\\\\n",
        "    \\hline\n",
        "    2 & 2 \\\\\n",
        "    \\hline\n",
        "    3 & 3 \\\\\n",
        "    \\hline\n",
        "    4 & 3 \\\\\n",
        "    \\hline\n",
        "    5 & 4 \\\\\n",
        "    \\hline\n",
        "    6 & 5 \\\\\n",
        "    \\hline\n",
        "\\end{array}\n",
        "\\end{equation}\n",
        "\n",
        "Al observar los valores que toma X, se puede detectar que hay dos que son los que se repiten más veces en igual cantidad de apariciones: 2 y 3.\n",
        "Por lo tanto, la distribución de X es multimodal ya que posee dos valores modales."
      ],
      "metadata": {
        "id": "Opx8-JcJxvm5"
      }
    },
    {
      "cell_type": "markdown",
      "source": [
        "####**Medidas de posición de tendencia no central**:\n"
      ],
      "metadata": {
        "id": "rHf97xDEy4dL"
      }
    },
    {
      "cell_type": "markdown",
      "source": [
        "\n",
        "- PERCENTILES: permiten saber el porcentaje de observaciones que se encuentran por debajo de cierto valor y por encima al dividir la distribución de los datos en 100 partes iguales. Su cálculo es:\n",
        "\n",
        "\\begin{align}\n",
        "         {P_k} = {n * k\\over 100}\n",
        "\\end{align}\n",
        "\n",
        "- CUARTILES: permiten saber el porcentaje de observaciones que se encuentran por debajo de cierto valor y por encima al dividir la distribución de los datos en 4 partes iguales. Su cálculo es:\n",
        "\n",
        "\\begin{align}\n",
        "         {Q_k} = {n * k\\over 4}\n",
        "\\end{align}\n",
        "\n",
        "- DECILES: permiten saber el porcentaje de observaciones que se encuentran por debajo de cierto valor y por encima al dividir la distribución de los datos en 10 partes iguales. Su cálculo es:\n",
        "\n",
        "\\begin{align}\n",
        "         {D_k} = {n * k\\over 10}\n",
        "\\end{align}\n",
        "\n",
        "Equivalencias:\n",
        "\n",
        "${P_{10}} = {D_{1}}$\n",
        "\n",
        "${P_{20}} = {D_{2}}$\n",
        "\n",
        "${P_{25}} = {Q_{1}}$\n",
        "\n",
        "${P_{30}} = {D_{3}}$\n",
        "\n",
        "${P_{40}} = {D_{4}}$\n",
        "\n",
        "${P_{50}} = {Q_{2}} = {D_{5}} = {X_{me}}$\n",
        "\n",
        "${P_{60}} = {D_{6}}$\n",
        "\n",
        "${P_{70}} = {D_{7}}$\n",
        "\n",
        "${P_{75}} = {Q_{3}}$\n",
        "\n",
        "${P_{80}} = {D_{8}}$\n",
        "\n",
        "${P_{90}} = {D_{9}}$\n",
        "\n",
        "${P_{100}} = {Q_{4}} = {D_{10}}$"
      ],
      "metadata": {
        "id": "uxDF6htBGAoW"
      }
    },
    {
      "cell_type": "code",
      "source": [
        "np.percentile(DATA['X'], [10, 25, 50, 60, 75, 90])"
      ],
      "metadata": {
        "id": "oN6NVpq1An6_",
        "colab": {
          "base_uri": "https://localhost:8080/"
        },
        "outputId": "6d119d00-f134-48b2-ca7f-770ef932cae9"
      },
      "execution_count": null,
      "outputs": [
        {
          "output_type": "execute_result",
          "data": {
            "text/plain": [
              "array([1.6, 2. , 3. , 3. , 3.5, 4.4])"
            ]
          },
          "metadata": {},
          "execution_count": 11
        }
      ]
    },
    {
      "cell_type": "markdown",
      "source": [
        "Se verifica este resultado del siguiente modo:\n",
        "\n",
        "\\begin{equation}\n",
        "\\begin{array}{|c|c|}\n",
        "    \\hline\n",
        "    Orden & X \\\\\n",
        "    \\hline\n",
        "    0 & 1 \\\\\n",
        "    \\hline\n",
        "    1 & 2 \\\\\n",
        "    \\hline\n",
        "    2 & 2 \\\\\n",
        "    \\hline\n",
        "    3 & 3 \\\\\n",
        "    \\hline\n",
        "    4 & 3 \\\\\n",
        "    \\hline\n",
        "    5 & 4 \\\\\n",
        "    \\hline\n",
        "    6 & 5 \\\\\n",
        "    \\hline\n",
        "\\end{array}\n",
        "\\end{equation}\n",
        "\n",
        "Percentil 10\n",
        "Se busca la posición\n",
        "${Distancia} = {(n-1) * k}= {6 * 0,1}=0,6$\n",
        "\n",
        "Como se obtiene un número decimal, se debe interpolar. \\\n",
        "\n",
        "$X_{Parte Entera} + [Parte Decimal * (X_{posterior} – X_{Parte entera})]$\n",
        "\n",
        "Entonces, para el valor 0,6: \\\n",
        "X de la parte entera = $X_0$  que le corresponde el valor 1 de X \\\n",
        "Parte decimal = 0,6 \\\n",
        "X posterior es el valor de X correspondiente a la posición de la parte entera + 1 = $X_{0+1}=X_1$\n",
        "\n",
        "Luego\n",
        "${P_{10}}= X_0 +(partedecimal*(X_1-X_0))= 1 + [0,6*(2-1)]= 1,6$\n",
        "\n",
        "Percentil 25\n",
        "\n",
        "${P_{25}} = {(n-1) * k}= {6 * 0,25}=0,6=1,5$\n",
        "\n",
        "${P_{25}}= X_1 +(partedecimal*(X_2-X_1))= 2 + [0,6*(2-2)]= 2$\n",
        "\n",
        "Percentil 50\n",
        "\n",
        "${P_{50}} = {(n-1) * k}= {6 * 0,5}=3$\n",
        "\n",
        "${P_{25}}= X_3 +(partedecimal*(X_4-X_3))= 3 + [0*(3-3)]= 3$\n",
        "\n",
        "Percentil 60\n",
        "\n",
        "${P_{60}} = {(n-1) * k}= {6 * 0,6}=3,6$\n",
        "\n",
        "${P_{60}}= X_3 +(partedecimal*(X_4-X_3))= 3 + [0,6*(3-3)]= 3$\n",
        "\n",
        "Percentil 75\n",
        "\n",
        "${P_{75}} = {(n-1) * k}= {6 * 0,75}=4,5$\n",
        "\n",
        "${P_{75}}= X_4 +(partedecimal*(X_5-X_4))= 3 + [0,5*(4-3)]= 3,5$\n",
        "\n",
        "Percentil 90\n",
        "\n",
        "${P_{90}} = {(n-1) * k}= {6 * 0,9}=5,4$\n",
        "\n",
        "${P_{90}}= X_5 +(partedecimal*(X_6-X_5))= 4 + [0,4*(5-4)]= 4,4$"
      ],
      "metadata": {
        "id": "g9ZWPp_6DxOv"
      }
    },
    {
      "cell_type": "markdown",
      "source": [
        "####**Medidas de dispersión**"
      ],
      "metadata": {
        "id": "sBJA1Ob21gjf"
      }
    },
    {
      "cell_type": "markdown",
      "source": [
        "- RANGO: permite saber la amplitud del dominio de la distribución de los datos. Su cálculo es:\n",
        "\n",
        "\\begin{align}\n",
        "         {Rango} = { X_{max} - X_{min}}\n",
        "\\end{align}\n",
        "\n",
        "- RANGO INTERCUARTÍLICO: amplitud del intervalo donde se acumula el 50% de la distribución de lso datos. Su cálculo es:\n",
        "\n",
        "\\begin{align}\n",
        "         {RIC} = { Q_{3} - Q_{1}}\n",
        "\\end{align}\n",
        "\n",
        "- VARIANZA MUESTRAL: indica cuanto se alejan los datos del valor medio de la distribución en términos cuadráticos. Su cálculo es:\n",
        "\n",
        "\\begin{align}\n",
        "        S^2= {\\sum_{i=1}^n (x_i - \\bar{X})^2\\over n-1}\n",
        "\\end{align}\n",
        "\n",
        "- DESVÍO MUESTRAL: indica cuanto se alejan los datos del valor medio de la distribución en la misma unidad de media que la variable. Su cálculo es:\n",
        "\n",
        "\\begin{align}\n",
        "        S= {\\sqrt {S^2}}\n",
        "\\end{align}\n",
        "\n",
        "- COEFICIENTE DE VARIACIÓN: mide la relación entre el desvío muestral y la media muestral. Su cálculo es:\n",
        "\n",
        "\\begin{align}\n",
        "        CV= {S \\over \\bar{X}}\n",
        "\\end{align}"
      ],
      "metadata": {
        "id": "hlygTj9WGZlg"
      }
    },
    {
      "cell_type": "markdown",
      "source": [
        "**Rango**"
      ],
      "metadata": {
        "id": "NIkTkGTyGluo"
      }
    },
    {
      "cell_type": "code",
      "source": [
        "rango=DATA['X'].max() - DATA['X'].min()\n",
        "rango"
      ],
      "metadata": {
        "id": "KXPXgXEYW24Q",
        "colab": {
          "base_uri": "https://localhost:8080/"
        },
        "outputId": "8f63c586-57e2-4138-c156-cb7aef6ad134"
      },
      "execution_count": null,
      "outputs": [
        {
          "output_type": "execute_result",
          "data": {
            "text/plain": [
              "4"
            ]
          },
          "metadata": {},
          "execution_count": 12
        }
      ]
    },
    {
      "cell_type": "markdown",
      "source": [
        "Se verifica\n",
        "\n",
        "\\begin{equation}\n",
        "\\begin{array}{|c|c|}\n",
        "    \\hline\n",
        "    Orden & X \\\\\n",
        "    \\hline\n",
        "    0 & 1 \\\\\n",
        "    \\hline\n",
        "    1 & 2 \\\\\n",
        "    \\hline\n",
        "    2 & 2 \\\\\n",
        "    \\hline\n",
        "    3 & 3 \\\\\n",
        "    \\hline\n",
        "    4 & 3 \\\\\n",
        "    \\hline\n",
        "    5 & 4 \\\\\n",
        "    \\hline\n",
        "    6 & 5 \\\\\n",
        "    \\hline\n",
        "\\end{array}\n",
        "\\end{equation}\n",
        "\n",
        "El valor más chico de X es 1 y el valor mas grande de X es 5\n",
        "\n",
        "Luego 5 -1 = 4"
      ],
      "metadata": {
        "id": "sjdlU8keDvU9"
      }
    },
    {
      "cell_type": "markdown",
      "source": [
        "**RIC**"
      ],
      "metadata": {
        "id": "Kli5tvYbGuAF"
      }
    },
    {
      "cell_type": "code",
      "source": [
        "RIC=np.percentile(DATA['X'], 75) - np.percentile(DATA['X'], 25)\n",
        "RIC"
      ],
      "metadata": {
        "colab": {
          "base_uri": "https://localhost:8080/"
        },
        "id": "dKZsx9OFJQa9",
        "outputId": "ce32c82b-ffad-4f51-f81f-09790d3f9db3"
      },
      "execution_count": null,
      "outputs": [
        {
          "output_type": "execute_result",
          "data": {
            "text/plain": [
              "1.5"
            ]
          },
          "metadata": {},
          "execution_count": 13
        }
      ]
    },
    {
      "cell_type": "markdown",
      "source": [
        "Se verifica este resultado del siguiente modo:\n",
        "\n",
        "Utilizando los percentiles previamente calculados:\n",
        "\n",
        "Percentil 25\n",
        "\n",
        "${P_{25}} = {(n-1) * k}= {6 * 0,25}=0,6=1,5$\n",
        "\n",
        "${P_{25}}= X_1 +(partedecimal*(X_2-X_1))= 2 + [0,6*(2-2)]= 2$\n",
        "\n",
        "\n",
        "Percentil 75\n",
        "\n",
        "${P_{75}} = {(n-1) * k}= {6 * 0,75}=4,5$\n",
        "\n",
        "${P_{75}}= X_4 +(partedecimal*(X_5-X_4))= 3 + [0,5*(4-3)]= 3,5$\n",
        "\n",
        "Luego\n",
        "\n",
        "$RIC = P_{75} -P_{25} = 3,5 - 2 = 1,5$"
      ],
      "metadata": {
        "id": "6I6DY9_jJQ3N"
      }
    },
    {
      "cell_type": "markdown",
      "source": [
        "**Varianza Muestral**"
      ],
      "metadata": {
        "id": "VGA4EOEhGx_K"
      }
    },
    {
      "cell_type": "code",
      "source": [
        "DATA['X'].var()"
      ],
      "metadata": {
        "colab": {
          "base_uri": "https://localhost:8080/"
        },
        "id": "uNbPy6JZJ7m1",
        "outputId": "3d524ca9-7cf9-4153-d3c8-8d47c78cc55a"
      },
      "execution_count": null,
      "outputs": [
        {
          "output_type": "execute_result",
          "data": {
            "text/plain": [
              "1.8095238095238093"
            ]
          },
          "metadata": {},
          "execution_count": 14
        }
      ]
    },
    {
      "cell_type": "markdown",
      "source": [
        "Se verifica este resultado del siguiente modo:\n",
        "\n",
        "Utilizando el valor de la media muestral previamente calculada\n",
        "\n",
        "\\begin{align}\n",
        "         \\bar{X} = {\\sum_{i=1}^n x_i\\over n} = {20 \\over 7} = 2,857142857142857\n",
        "\\end{align}\n",
        "\n",
        "\\begin{equation}\n",
        "\\begin{array}{|c|c|c|}\n",
        "    \\hline\n",
        "    Orden & X & {(x_i - \\bar{X})^2}\\\\\n",
        "    \\hline\n",
        "    0 & 1 & (1-2,857142857142857)^2 = 3,44897959183673\\\\\n",
        "    \\hline\n",
        "    1 & 2 & (2-2,857142857142857)^2 = 0,734693877551021 \\\\\n",
        "    \\hline\n",
        "    2 & 2 & (2-2,857142857142857)^2 = 0,734693877551021\\\\\n",
        "    \\hline\n",
        "    3 & 3 & (2-2,857142857142857)^2 = 0,0204081632653061\\\\\n",
        "    \\hline\n",
        "    4 & 3 & (2-2,857142857142857)^2 = 0,0204081632653061\\\\\n",
        "    \\hline\n",
        "    5 & 4 & (2-2,857142857142857)^2 = 1,30612244897959\\\\\n",
        "    \\hline\n",
        "    6 & 5 & (2-2,857142857142857)^2 = 4,59183673469388\\\\\n",
        "    \\hline\n",
        "    Total & 20 & 10,8571428571429\\\\\n",
        "    \\hline\n",
        "\\end{array}\n",
        "\\end{equation}\n",
        "\n",
        "La suma de la columa ${(x_i - \\bar{X})^2}$ es el numerador de la fórmula de la varianza muestral, entonces:\n",
        "\n",
        "\\begin{align}\n",
        "        S^2= {\\sum_{i=1}^n (x_i - \\bar{X})^2\\over (n-1)} ={10,8571428571429\\over(7-1)} = 1,8095238095238093\n",
        "\\end{align}"
      ],
      "metadata": {
        "id": "zYxbpeCvK67W"
      }
    },
    {
      "cell_type": "markdown",
      "source": [
        "**Desvío muestral**"
      ],
      "metadata": {
        "id": "xShNj55DG5aI"
      }
    },
    {
      "cell_type": "code",
      "source": [
        "DATA['X'].std()"
      ],
      "metadata": {
        "colab": {
          "base_uri": "https://localhost:8080/"
        },
        "id": "D2zX0_NkJ7ff",
        "outputId": "e59c019f-99c5-4205-dfbd-98ed2cc37ccb"
      },
      "execution_count": null,
      "outputs": [
        {
          "output_type": "execute_result",
          "data": {
            "text/plain": [
              "1.3451854182690985"
            ]
          },
          "metadata": {},
          "execution_count": 15
        }
      ]
    },
    {
      "cell_type": "markdown",
      "source": [
        "Se verifica este resultado del siguiente modo:\n",
        "\n",
        "\\begin{align}\n",
        "        S= {\\sqrt {S^2}} = {\\sqrt {1,8095238095238093}}= 1,3451854182690985\n",
        "\\end{align}\n",
        "\n"
      ],
      "metadata": {
        "id": "wg2Vfp-WLYrw"
      }
    },
    {
      "cell_type": "markdown",
      "source": [
        "**Coeficiente de variación**"
      ],
      "metadata": {
        "id": "6j1MhZchRtOS"
      }
    },
    {
      "cell_type": "code",
      "source": [
        "CV=DATA['X'].std()/DATA['X'].mean()\n",
        "CV"
      ],
      "metadata": {
        "colab": {
          "base_uri": "https://localhost:8080/"
        },
        "id": "FiIN0GnkL2Lv",
        "outputId": "e76e6ee7-f36e-4cef-a75d-b82cbf275ebf"
      },
      "execution_count": null,
      "outputs": [
        {
          "output_type": "execute_result",
          "data": {
            "text/plain": [
              "0.4708148963941845"
            ]
          },
          "metadata": {},
          "execution_count": 16
        }
      ]
    },
    {
      "cell_type": "markdown",
      "source": [
        "Se verifica este resultado del siguiente modo:\n",
        "\n",
        "\\begin{align}\n",
        "        CV= {S \\over \\bar{X}} = {1,3451854182690985\\over2,857142857142857}=0,4708148963941845\n",
        "\\end{align}"
      ],
      "metadata": {
        "id": "Ud7ESlmjL8Ne"
      }
    },
    {
      "cell_type": "markdown",
      "source": [
        "####**Medidas de forma**"
      ],
      "metadata": {
        "id": "mH-f9FM43mno"
      }
    },
    {
      "cell_type": "markdown",
      "source": [
        "\n",
        "- COEFICIENTE DE ASIMETRÍA: permite saber cuan dispersos se encuentran los datos respecto respecto de la media. Su cálculo es:\n",
        "\n",
        "\\begin{align}\n",
        "         {A_s} = {{n\\over{(n-1)*(n-2)}}*{\\sum_{i=1}^n {\\left( (x_i - \\bar{X}) \\over {S} \\right)}^3}}\n",
        "\\end{align}\n",
        "\n",
        "Interpretación:\n",
        "\n",
        "- Si ${A_s} < 0 $ entonces la distribución de los datos es asimétrica negativa (concentración de datos a derecha y cola a izquierda). Entonces se cumple que ${\\bar{X} < X_{me}}$\n",
        "\n",
        "- Si ${A_s} = 0 $ entonces la distribución de los datos es simétrica. Entonces se cumple que ${\\bar{X} = X_{me}}$\n",
        "\n",
        "- Si ${A_s} > 0 $ entonces la distribución de los datos es asimétrica positiva (concentración de datos a izquierda y cola a derecha). Entonces se cumple que ${\\bar{X} > X_{me}}$\n",
        "\n",
        "- COEFICIENTE DE CURTOSIS: permite saber como es la forma de la concentración de los datos. Su cálculo es:\n",
        "\n",
        "\\begin{align}\n",
        "         {K} = [{{n*(n+1)\\over{(n-1)*(n-2)*(n-3)}}*{\\sum_{i=1}^n {\\left( (x_i - \\bar{X}) \\over {S} \\right)}^4}] - {3*(n-1)^2 \\over (n-2)*(n-3)}}\n",
        "\\end{align}\n",
        "\n",
        "Interpretación:\n",
        "\n",
        "- Si ${K} < 3 $ entonces la distribución es platicúrtica (la forma de la distribución es más aplanada).\n",
        "\n",
        "- Si ${K} = 3 $ entonces la distribución es mesocúrtica (la forma de la distribución no es ni muy aplanada ni muy puntiaguda).\n",
        "\n",
        "- Si ${K} > 3 $ entonces la distribución es leptocúrtica (la forma de la distribución presenta un pico en el centro).\n",
        "\n",
        "Las medidas de forma suelen apreciarse a través de gráficos. Particularmente, en estadística hay dos principales: histograma y boxplot. Estos ayudan a visualizar de una manera resumida varias de las medidas anteriores.\n"
      ],
      "metadata": {
        "id": "KEd1FOPoHTTz"
      }
    },
    {
      "cell_type": "markdown",
      "source": [
        "**CA (coeficiente de asimetría)**"
      ],
      "metadata": {
        "id": "L6OCtN1-MLEE"
      }
    },
    {
      "cell_type": "code",
      "source": [
        "round(DATA['X'].skew(),2)"
      ],
      "metadata": {
        "id": "Qja9AArYL3SW",
        "colab": {
          "base_uri": "https://localhost:8080/"
        },
        "outputId": "37aa7c22-4035-4d8b-aec0-e1697071f01b"
      },
      "execution_count": null,
      "outputs": [
        {
          "output_type": "execute_result",
          "data": {
            "text/plain": [
              "0.35"
            ]
          },
          "metadata": {},
          "execution_count": 17
        }
      ]
    },
    {
      "cell_type": "markdown",
      "source": [
        "Se verifica este resultado del siguiente modo:\n",
        "\n",
        "Utilizando el valor de la media muestral y desvío previamente calculados\n",
        "\n",
        "\\begin{align}\n",
        "         \\bar{X} = 2,857142857142857\\\\\n",
        "          S= 1,3451854182690985\n",
        "\\end{align}\n",
        "\n",
        "\\begin{equation}\n",
        "\\begin{array}{|c|c|c|}\n",
        "    \\hline\n",
        "    Orden & X & [{{(x_i - \\bar{X})}\\over {S}}]^3\\\\\n",
        "    \\hline\n",
        "    0 & 1 & ((1-2,857142857142857)/1,3451854182690985)^3 = -2,63141583650918\\\\ \\hline\n",
        "    1 & 2 & ((2-2,857142857142857)/1,3451854182690985)^3 = -0,258709977553929 \\\\ \\hline\n",
        "    2 & 2 & ((2-2,857142857142857)/1,3451854182690985)^3 = -0,258709977553929\\\\ \\hline\n",
        "    3 & 3 & ((3-2,857142857142857)/1,3451854182690985)^3 = 0,00119773137756449\\\\ \\hline\n",
        "    4 & 3 & ((3-2,857142857142857)/1,3451854182690985)^3 = 0,00119773137756449\\\\ \\hline\n",
        "    5 & 4 & ((4-2,857142857142857)/1,3451854182690985)^3 = 0,613238465313018\\\\ \\hline\n",
        "    6 & 5 & ((5-2,857142857142857)/1,3451854182690985)^3 = 4,04234339928015\\\\ \\hline\n",
        "    Total & 20 & 1,50914153573125\\\\\n",
        "    \\hline\n",
        "\\end{array}\n",
        "\\end{equation}\n",
        "\n",
        "entonces:\n",
        "\n",
        "\\begin{align}\n",
        "         {A_s} = {{n\\over{(n-1)*(n-2)}}*{\\sum_{i=1}^n {\\left( (x_i - \\bar{X}) \\over {S} \\right)}^3}}=\\\\\n",
        "         {7\\over (7-1)*(7-2)}*{1,50914153573125}=\\\\\n",
        "         {0,352133025003958 \\approx 0,35}\n",
        "\\end{align}"
      ],
      "metadata": {
        "id": "KDmCha4kMP8D"
      }
    },
    {
      "cell_type": "markdown",
      "source": [
        "**CC (coeficiente de curtosis)**"
      ],
      "metadata": {
        "id": "JMr-4TmeMZNm"
      }
    },
    {
      "cell_type": "code",
      "source": [
        "round(DATA['X'].kurtosis(),2)"
      ],
      "metadata": {
        "id": "hbeQj9wnL3Pb",
        "colab": {
          "base_uri": "https://localhost:8080/"
        },
        "outputId": "1edda935-f072-485e-c4bc-0b5028ec2c12"
      },
      "execution_count": null,
      "outputs": [
        {
          "output_type": "execute_result",
          "data": {
            "text/plain": [
              "-0.3"
            ]
          },
          "metadata": {},
          "execution_count": 18
        }
      ]
    },
    {
      "cell_type": "markdown",
      "source": [
        "Se verifica este resultado del siguiente modo:\n",
        "\n",
        "Utilizando el valor de la media muestral y desvío previamente calculados\n",
        "\n",
        "\\begin{align}\n",
        "         \\bar{X} = 2,857142857142857\\\\\n",
        "          S= 1,3451854182690985\n",
        "\\end{align}\n",
        "\n",
        "\\begin{equation}\n",
        "\\begin{array}{|c|c|c|}\n",
        "    \\hline\n",
        "    Orden & X & [{{(x_i - \\bar{X})}\\over {S}}]^3\\\\\n",
        "    \\hline\n",
        "    0 & 1 & ((1-2,857142857142857)/1,3451854182690985)^4 = 3,63289332353438\\\\\n",
        "    \\hline\n",
        "    1 & 2 & ((2-2,857142857142857)/1,3451854182690985)^4 = 0,164848210752444 \\\\ \\hline\n",
        "    2 & 2 & ((2-2,857142857142857)/1,3451854182690985)^4 = 0,164848210752444\\\\ \\hline\n",
        "    3 & 3 & ((3-2,857142857142857)/1,3451854182690985)^4 = 0,000127197693481824\\\\ \\hline\n",
        "    4 & 3 & ((3-2,857142857142857)/1,3451854182690985)^4 = 0,000127197693481824\\\\ \\hline\n",
        "    5 & 4 & ((4-2,857142857142857)/1,3451854182690985)^4 = 0,521001752501552\\\\ \\hline\n",
        "    6 & 5 & ((5-2,857142857142857)/1,3451854182690985)^4 = 6,43938323251735\\\\\n",
        "    \\hline\n",
        "    Total & 20 & 10,9232291254451\\\\\n",
        "    \\hline\n",
        "\\end{array}\n",
        "\\end{equation}\n",
        "\n",
        "entonces:\n",
        "\n",
        "\\begin{align}\n",
        "         {K} = [{{n*(n+1)\\over{(n-1)*(n-2)*(n-3)}}*{\\sum_{i=1}^n {\\left( (x_i - \\bar{X}) \\over {S} \\right)}^4}] - {3*(n-1)^2 \\over (n-2)*(n-3)}} =\\\\\n",
        "      [{{7*(7+1)\\over{(7-1)*(7-2)*(7-3)}}*10,9232291254451] - {3*(7-1)^2 \\over (7-2)*(7-3)}}= \\\\\n",
        "         {-0,302493074792286 \\approx -0,3}\n",
        "\\end{align}"
      ],
      "metadata": {
        "id": "1CrDocfgMZN-"
      }
    },
    {
      "cell_type": "markdown",
      "source": [
        "###**Gráficos estadísticos**"
      ],
      "metadata": {
        "id": "ZDKYdPEeH9LE"
      }
    },
    {
      "cell_type": "markdown",
      "source": [
        "**Histograma**"
      ],
      "metadata": {
        "id": "GcWvuOPrH1Le"
      }
    },
    {
      "cell_type": "markdown",
      "source": [
        "Un histograma es una representación visual de los datos agrupados en intervalos.\n",
        "Los intervalos se denominan intervalos de clase y su forma gráfica es un rectángulo. Al ser un intervalo tendrá un límite inferior y un límite superior por lo que los datos serán asignados entre estos límites, conformándose así varios intervalos de clase que hacen a la distribución total de los datos. De este modo permitirá observar gráficamente la forma que toma la distribución y su comportamiento."
      ],
      "metadata": {
        "id": "RkGDceMvrntN"
      }
    },
    {
      "cell_type": "markdown",
      "source": [
        "Para el ejemplo:"
      ],
      "metadata": {
        "id": "8MLeqIVJHvKp"
      }
    },
    {
      "cell_type": "code",
      "source": [
        "sns.histplot(x=DATA['X'], color=\"steelblue\",edgecolor=\".3\",linewidth=.5,stat='probability', kde=True) #histograma con densidad\n",
        "plt.title('Histograma de la distribución de X')"
      ],
      "metadata": {
        "colab": {
          "base_uri": "https://localhost:8080/",
          "height": 489
        },
        "id": "fdCexTD1Hxc_",
        "outputId": "147f97eb-fa4c-4b9a-e945-dc6ee6605323"
      },
      "execution_count": null,
      "outputs": [
        {
          "output_type": "execute_result",
          "data": {
            "text/plain": [
              "Text(0.5, 1.0, 'Histograma de la distribución de X')"
            ]
          },
          "metadata": {},
          "execution_count": 27
        },
        {
          "output_type": "display_data",
          "data": {
            "text/plain": [
              "<Figure size 640x480 with 1 Axes>"
            ],
            "image/png": "[encoded data removed]"
          },
          "metadata": {}
        }
      ]
    },
    {
      "cell_type": "markdown",
      "source": [
        "Visualización de la asimetría"
      ],
      "metadata": {
        "id": "i3gig4zpBjsa"
      }
    },
    {
      "cell_type": "code",
      "source": [
        "np.random.seed(2024)\n",
        "\n",
        "f, ax = plt.subplots(figsize=(15, 5)) #tamaño del gráfico\n",
        "\n",
        "data_asim_pos = np.random.gamma(shape=2, scale=1, size=1000)\n",
        "plt.subplot(1, 3, 1)\n",
        "sns.histplot(x=data_asim_pos, color=\"steelblue\",edgecolor=\".3\",linewidth=.5,stat='probability', bins=20, kde=True) #histograma\n",
        "plt.annotate('Acumulación a izquierda, cola a derecha', xy=(0, 0.2),xycoords='data',xytext=(0, 10),textcoords='offset points',fontsize=10)\n",
        "plt.ylim(0,0.25)\n",
        "plt.title('Caso 1: Histograma Asimetría positiva As>0')\n",
        "\n",
        "data_asim_neg = -np.random.gamma(shape=2, scale=1, size=1000)\n",
        "plt.subplot(1, 3, 2)\n",
        "sns.histplot(x=data_asim_neg, color=\"mediumseagreen\",edgecolor=\".3\",linewidth=.5,stat='probability', bins=20, kde=True) #histograma\n",
        "plt.annotate('Acumulación a derecha, cola a izquierda', xy=(-8, 0.2),xycoords='data',xytext=(0, 10),textcoords='offset points',fontsize=10)\n",
        "plt.ylim(0,0.25)\n",
        "plt.title('Caso 2: Histograma Asimetría negativa As<0')\n",
        "\n",
        "data_sim = np.random.normal(loc=0, scale=1, size=1000)\n",
        "plt.subplot(1, 3, 3)\n",
        "sns.histplot(x=data_sim, color=\"lightcoral\",edgecolor=\".3\",linewidth=.5,stat='probability', bins=20, kde=True) #histograma\n",
        "plt.annotate(' Acumulación en el centro, colas a ambos lados', xy=(-3.7, 0.2),xycoords='data',xytext=(0, 10),textcoords='offset points',fontsize=10)\n",
        "plt.ylim(0,0.25)\n",
        "plt.title('Caso 3: Histograma Simetría As=0')\n",
        "\n",
        "plt.show()"
      ],
      "metadata": {
        "colab": {
          "base_uri": "https://localhost:8080/",
          "height": 433
        },
        "id": "dwS7uRTQajo3",
        "outputId": "fee4c72d-99b0-4300-c862-3a38ddbb7b74"
      },
      "execution_count": null,
      "outputs": [
        {
          "output_type": "display_data",
          "data": {
            "text/plain": [
              "<Figure size 1500x500 with 4 Axes>"
            ],
            "image/png": "[encoded data removed]"
          },
          "metadata": {}
        }
      ]
    },
    {
      "cell_type": "markdown",
      "source": [
        "**Boxplot**"
      ],
      "metadata": {
        "id": "UBYJg4wZH37a"
      }
    },
    {
      "cell_type": "markdown",
      "source": [
        "El Boxplot es un método para representar gráficamente una serie de datos numéricos a través de sus cuartiles. Muestra a simple vista la mediana y los cuartiles de la distribución de los datos.\n",
        "Este tipo de gráficos nos permite identificar valores atípicos y comparar distribuciones además de conocer de una forma cómoda y rápida como se distribuyen el 50% de los valores centrales."
      ],
      "metadata": {
        "id": "Cns6sMXDr0_N"
      }
    },
    {
      "cell_type": "markdown",
      "source": [
        "Para el ejemplo:"
      ],
      "metadata": {
        "id": "hbzRqAEFIgpy"
      }
    },
    {
      "cell_type": "code",
      "source": [
        "sns.boxplot(DATA['X'], color=\"steelblue\", orient='v')\n",
        "plt.title('Boxplot de la distribución de X')"
      ],
      "metadata": {
        "colab": {
          "base_uri": "https://localhost:8080/",
          "height": 451
        },
        "outputId": "fe374387-4d81-438f-e07a-611718a1d853",
        "id": "e5i-4r5QIgpz"
      },
      "execution_count": null,
      "outputs": [
        {
          "output_type": "execute_result",
          "data": {
            "text/plain": [
              "Text(0.5, 1.0, 'Boxplot de la distribución de X')"
            ]
          },
          "metadata": {},
          "execution_count": 26
        },
        {
          "output_type": "display_data",
          "data": {
            "text/plain": [
              "<Figure size 640x480 with 1 Axes>"
            ],
            "image/png": "[encoded data removed]"
          },
          "metadata": {}
        }
      ]
    },
    {
      "cell_type": "code",
      "source": [
        "np.random.seed(2024)\n",
        "\n",
        "f, ax = plt.subplots(figsize=(20, 5))\n",
        "\n",
        "data_asim_pos = np.random.gamma(shape=2, scale=1, size=1000)\n",
        "plt.subplot(1, 3, 1)\n",
        "sns.boxplot(data_asim_pos, color=\"steelblue\", orient='h')\n",
        "plt.title('Caso 1: Boxplot')\n",
        "\n",
        "data_asim_neg = -np.random.gamma(shape=2, scale=1, size=1000)\n",
        "plt.subplot(1, 3, 2)\n",
        "sns.boxplot(x=data_asim_neg, color=\"mediumseagreen\", orient='h')\n",
        "plt.title('Caso 2: Boxplot')\n",
        "\n",
        "data_sim = np.random.normal(loc=0, scale=1, size=1000)\n",
        "plt.subplot(1, 3, 3)\n",
        "sns.boxplot(x=data_sim, color=\"lightcoral\", orient='h')\n",
        "plt.title('Caso 3: Boxplot')\n",
        "\n",
        "plt.show()"
      ],
      "metadata": {
        "colab": {
          "base_uri": "https://localhost:8080/",
          "height": 341
        },
        "id": "Ag9rqGRPQych",
        "outputId": "b0d7a602-1e4c-41c9-c2c6-b1656b1ad740"
      },
      "execution_count": null,
      "outputs": [
        {
          "output_type": "display_data",
          "data": {
            "text/plain": [
              "<Figure size 2000x500 with 4 Axes>"
            ],
            "image/png": "[encoded data removed]"
          },
          "metadata": {}
        }
      ]
    },
    {
      "cell_type": "markdown",
      "source": [
        "**Comparación**"
      ],
      "metadata": {
        "id": "rT6kR1fGSk_V"
      }
    },
    {
      "cell_type": "code",
      "source": [
        "np.random.seed(2024)\n",
        "\n",
        "from matplotlib.gridspec import GridSpec\n",
        "\n",
        "fig = plt.figure(figsize=(20, 10), constrained_layout=True)\n",
        "gs = GridSpec(2, 3, figure=fig)\n",
        "ax1 = fig.add_subplot(gs[0, :])\n",
        "\n",
        "data_asim_pos = np.random.gamma(shape=2, scale=1, size=1000)\n",
        "fig.add_subplot(gs[0, 0])\n",
        "sns.histplot(x=data_asim_pos, color=\"steelblue\",edgecolor=\".3\",linewidth=.5,stat='probability', bins=20, kde=True) #histograma\n",
        "plt.annotate('Acumulación a izquierda, cola a derecha', xy=(0, 0.2),xycoords='data',xytext=(0, 10),textcoords='offset points',fontsize=10)\n",
        "plt.ylim(0,0.25)\n",
        "plt.title('Caso 1: Histograma Asimetría positiva')\n",
        "\n",
        "data_asim_neg = -np.random.gamma(shape=2, scale=1, size=1000)\n",
        "fig.add_subplot(gs[0, 1])\n",
        "sns.histplot(x=data_asim_neg, color=\"mediumseagreen\",edgecolor=\".3\",linewidth=.5,stat='probability', bins=20, kde=True) #histograma\n",
        "plt.annotate('Acumulación a derecha, cola a izquierda', xy=(-8, 0.2),xycoords='data',xytext=(0, 10),textcoords='offset points',fontsize=10)\n",
        "plt.ylim(0,0.25)\n",
        "plt.title('Caso 2: Histograma Asimetría negativa')\n",
        "\n",
        "data_sim = np.random.normal(loc=0, scale=1, size=1000)\n",
        "fig.add_subplot(gs[0, 2])\n",
        "sns.histplot(x=data_sim, color=\"lightcoral\",edgecolor=\".3\",linewidth=.5,stat='probability', bins=20, kde=True) #histograma\n",
        "plt.annotate(' Acumulación en el centro, colas a ambos lados', xy=(-3, 0.2),xycoords='data',xytext=(0, 10),textcoords='offset points',fontsize=10)\n",
        "plt.ylim(0,0.25)\n",
        "plt.title('Caso 3: Histograma Simetría')\n",
        "\n",
        "fig.add_subplot(gs[1, 0])\n",
        "sns.boxplot(data_asim_pos, color=\"steelblue\", orient='h') #histograma\n",
        "plt.annotate('Acumulación de datos relacionado con ubicación de caja'+'\\n'+'Cola a derecha asociada a largo de bigote derecho y valores atípicos',\n",
        "             xy=(1, 0.5),xycoords='data',xytext=(0, 10),textcoords='offset points',fontsize=10)\n",
        "plt.title('Caso 1: Boxplot')\n",
        "\n",
        "fig.add_subplot(gs[1, 1])\n",
        "sns.boxplot(x=data_asim_neg, color=\"mediumseagreen\", orient='h') #histograma\n",
        "plt.annotate('Acumulación de datos relacionado con ubicación de caja'+'\\n'+'Cola a izquierda asociada a largo de bigote izquierdo y valores atípicos',\n",
        "             xy=(-9, 0.5),xycoords='data',xytext=(0, 10),textcoords='offset points',fontsize=10)\n",
        "plt.title('Caso 2: Boxplot')\n",
        "\n",
        "fig.add_subplot(gs[1, 2])\n",
        "sns.boxplot(x=data_sim, color=\"lightcoral\", orient='h') #histograma\n",
        "plt.annotate('Acumulación de datos relacionado con ubicación de caja'+'\\n'+'Colas a ambos lados asociadas a largo de bigotes y valores atípicos',\n",
        "             xy=(-3, 0.5),xycoords='data',xytext=(0, 10),textcoords='offset points',fontsize=10)\n",
        "plt.title('Caso 3: Boxplot')"
      ],
      "metadata": {
        "colab": {
          "base_uri": "https://localhost:8080/",
          "height": 616
        },
        "id": "hvSuPkWMSmzK",
        "outputId": "d28df1e0-7126-4351-dced-4d51ba106212"
      },
      "execution_count": null,
      "outputs": [
        {
          "output_type": "execute_result",
          "data": {
            "text/plain": [
              "Text(0.5, 1.0, 'Caso 3: Boxplot')"
            ]
          },
          "metadata": {},
          "execution_count": 29
        },
        {
          "output_type": "display_data",
          "data": {
            "text/plain": [
              "<Figure size 2000x1000 with 7 Axes>"
            ],
            "image/png": "[encoded data removed]"
          },
          "metadata": {}
        }
      ]
    },
    {
      "cell_type": "markdown",
      "source": [
        "**Visualización de la curtosis**"
      ],
      "metadata": {
        "id": "uc-up3yPBfpX"
      }
    },
    {
      "cell_type": "code",
      "source": [
        "np.random.seed(2024)\n",
        "\n",
        "f, ax = plt.subplots(figsize=(15, 5)) #tamaño del gráfico\n",
        "\n",
        "data_sim = np.random.normal(loc=0, scale=0.1, size=10000)\n",
        "plt.subplot(1, 3, 1)\n",
        "sns.histplot(x=data_sim, color=\"plum\",edgecolor=\".3\",linewidth=.5,stat='probability', bins=20, kde=True) #histograma\n",
        "plt.ylim(0,1)\n",
        "plt.title('Caso 1: Platicúrtica k<3')\n",
        "\n",
        "data_sim_1 = np.random.standard_t(5, size=100000)\n",
        "plt.subplot(1, 3, 2)\n",
        "sns.histplot(x=data_sim_1, color=\"turquoise\",edgecolor=\".3\",linewidth=.5,stat='probability', bins=20, kde=True) #histograma\n",
        "plt.ylim(0,1)\n",
        "plt.title('Caso 2: Leptocúrtica k>3')\n",
        "\n",
        "data_sim_2 = np.random.standard_t(6, size=100000)\n",
        "plt.subplot(1, 3, 3)\n",
        "sns.histplot(x=data_sim_2, color=\"lightpink\",edgecolor=\".3\",linewidth=.5,stat='probability', bins=20, kde=True) #histograma\n",
        "plt.ylim(0,1)\n",
        "plt.title('Caso 3: Mesocúrtica k=3')\n",
        "\n",
        "plt.show()"
      ],
      "metadata": {
        "colab": {
          "base_uri": "https://localhost:8080/",
          "height": 436
        },
        "id": "UYsiP5F_syIc",
        "outputId": "a518b5d1-2ae6-4a9b-fb48-6e90363129e6"
      },
      "execution_count": null,
      "outputs": [
        {
          "output_type": "display_data",
          "data": {
            "text/plain": [
              "<Figure size 1500x500 with 4 Axes>"
            ],
            "image/png": "[encoded data removed]"
          },
          "metadata": {}
        }
      ]
    },
    {
      "cell_type": "markdown",
      "source": [
        "### **Ejemplos**"
      ],
      "metadata": {
        "id": "hP3s_7k-x99m"
      }
    },
    {
      "cell_type": "markdown",
      "source": [
        "####**Ejemplo 1**"
      ],
      "metadata": {
        "id": "64DtZtSpJoon"
      }
    },
    {
      "cell_type": "markdown",
      "source": [
        "Se obtienen datos de cotizaciones de Google y Amazon"
      ],
      "metadata": {
        "id": "-JyOL5OL5PqX"
      }
    },
    {
      "cell_type": "code",
      "source": [
        "#se carga librería\n",
        "import yfinance as yf"
      ],
      "metadata": {
        "id": "po4CpJFZ1I8x"
      },
      "execution_count": null,
      "outputs": []
    },
    {
      "cell_type": "code",
      "source": [
        "#se descargan datos con la API de Yahoo Finance para la cotización de las acciones de Google y Amazon\n",
        "Datos_GOOG = pd.DataFrame(yf.download('GOOGL', start='2023-06-1', end='2023-07-01')).reset_index()\n",
        "Datos_GOOG=Datos_GOOG.assign(SYMBOL_YAHOO_FINANCE='GOOG')\n",
        "Datos_GOOG.columns=Datos_GOOG.columns.droplevel(1)\n",
        "Datos_AMZN = pd.DataFrame(yf.download('AMZN', start='2023-06-1', end='2023-07-01')).reset_index()\n",
        "Datos_AMZN=Datos_AMZN.assign(SYMBOL_YAHOO_FINANCE='AMZN')\n",
        "Datos_AMZN.columns=Datos_AMZN.columns.droplevel(1)\n",
        "\n",
        "#GENERACIÓN DE UN SOLO DATAFRAME\n",
        "DATA_YAHOO=pd.concat([Datos_GOOG,Datos_AMZN])\n",
        "#RESETEO DE INDICE\n",
        "DATA_YAHOO.reset_index(drop=True, inplace=True)\n",
        "DATA_YAHOO"
      ],
      "metadata": {
        "colab": {
          "base_uri": "https://localhost:8080/",
          "height": 1000
        },
        "id": "shlyVYIF4fP1",
        "outputId": "95818222-4bef-48b3-f2e2-fe0830a8c5de"
      },
      "execution_count": null,
      "outputs": [
        {
          "output_type": "stream",
          "name": "stderr",
          "text": [
            "[*********************100%***********************]  1 of 1 completed\n",
            "[*********************100%***********************]  1 of 1 completed\n"
          ]
        },
        {
          "output_type": "execute_result",
          "data": {
            "text/plain": [
              "Price       Date       Close        High         Low        Open    Volume  \\\n",
              "0     2023-06-01  123.273125  123.970593  122.177099  122.376374  30772700   \n",
              "1     2023-06-02  124.219688  125.694346  123.312979  123.542144  26963100   \n",
              "2     2023-06-05  125.554855  126.969724  123.392688  123.562079  32305500   \n",
              "3     2023-06-06  126.850151  127.826607  124.907198  125.554851  26638300   \n",
              "4     2023-06-07  122.057526  128.573896  121.678901  126.511381  52539000   \n",
              "5     2023-06-08  121.698830  122.784897  120.802079  121.788509  29389200   \n",
              "6     2023-06-09  121.788513  123.312986  121.469669  121.808438  23762500   \n",
              "7     2023-06-12  123.193405  123.601928  121.220561  122.346477  28306400   \n",
              "8     2023-06-13  123.382736  124.707934  122.735082  124.528584  22278300   \n",
              "9     2023-06-14  123.223305  123.601937  121.011322  122.655364  30592300   \n",
              "10    2023-06-15  124.638168  125.006835  121.957890  122.695215  35246300   \n",
              "11    2023-06-16  123.083817  125.654500  122.834720  125.475149  45514000   \n",
              "12    2023-06-20  122.655357  124.120049  121.698826  122.485973  26097500   \n",
              "13    2023-06-21  120.114578  122.216958  119.666199  121.957895  30306300   \n",
              "14    2023-06-22  122.705185  122.794856  118.400789  119.566561  26952200   \n",
              "15    2023-06-23  121.898102  122.346481  120.622726  120.941570  34885300   \n",
              "16    2023-06-26  117.912552  121.559336  117.842805  120.323817  33969900   \n",
              "17    2023-06-27  117.902596  118.649887  115.680647  116.657111  39535900   \n",
              "18    2023-06-28  119.745911  119.955151  116.427937  116.667068  27091400   \n",
              "19    2023-06-29  118.669807  119.626339  117.872702  118.809301  24090900   \n",
              "20    2023-06-30  119.267639  120.642659  119.257681  119.735943  29519700   \n",
              "21    2023-06-01  122.769997  123.489998  119.930000  120.690002  54375100   \n",
              "22    2023-06-02  124.250000  126.389999  124.019997  124.919998  61215000   \n",
              "23    2023-06-05  125.300003  125.800003  123.029999  123.360001  47950100   \n",
              "24    2023-06-06  126.610001  127.400002  125.000000  125.070000  45695200   \n",
              "25    2023-06-07  121.230003  127.370003  120.629997  127.010002  95663300   \n",
              "26    2023-06-08  124.250000  125.629997  122.260002  123.010002  62159300   \n",
              "27    2023-06-09  123.430000  125.800003  123.190002  124.080002  51330000   \n",
              "28    2023-06-12  126.570000  126.779999  123.529999  124.019997  51338000   \n",
              "29    2023-06-13  126.660004  128.410004  125.180000  128.119995  50564800   \n",
              "30    2023-06-14  126.419998  126.949997  124.120003  126.699997  52422500   \n",
              "31    2023-06-15  127.110001  127.690002  124.320000  125.209999  60458500   \n",
              "32    2023-06-16  125.489998  127.900002  125.300003  127.709999  84188100   \n",
              "33    2023-06-20  125.779999  127.250000  124.500000  124.970001  56930100   \n",
              "34    2023-06-21  124.830002  126.730003  123.849998  125.639999  52137700   \n",
              "35    2023-06-22  130.149994  130.330002  125.139999  125.309998  90354600   \n",
              "36    2023-06-23  129.330002  130.839996  128.279999  129.110001  71855200   \n",
              "37    2023-06-26  127.330002  131.490005  127.099998  129.330002  59989300   \n",
              "38    2023-06-27  129.179993  130.089996  127.550003  128.630005  46801000   \n",
              "39    2023-06-28  129.039993  131.479996  128.440002  128.940002  52149500   \n",
              "40    2023-06-29  127.900002  129.259995  127.260002  128.770004  40761000   \n",
              "41    2023-06-30  130.360001  131.250000  128.949997  129.470001  54310500   \n",
              "\n",
              "Price SYMBOL_YAHOO_FINANCE  \n",
              "0                     GOOG  \n",
              "1                     GOOG  \n",
              "2                     GOOG  \n",
              "3                     GOOG  \n",
              "4                     GOOG  \n",
              "5                     GOOG  \n",
              "6                     GOOG  \n",
              "7                     GOOG  \n",
              "8                     GOOG  \n",
              "9                     GOOG  \n",
              "10                    GOOG  \n",
              "11                    GOOG  \n",
              "12                    GOOG  \n",
              "13                    GOOG  \n",
              "14                    GOOG  \n",
              "15                    GOOG  \n",
              "16                    GOOG  \n",
              "17                    GOOG  \n",
              "18                    GOOG  \n",
              "19                    GOOG  \n",
              "20                    GOOG  \n",
              "21                    AMZN  \n",
              "22                    AMZN  \n",
              "23                    AMZN  \n",
              "24                    AMZN  \n",
              "25                    AMZN  \n",
              "26                    AMZN  \n",
              "27                    AMZN  \n",
              "28                    AMZN  \n",
              "29                    AMZN  \n",
              "30                    AMZN  \n",
              "31                    AMZN  \n",
              "32                    AMZN  \n",
              "33                    AMZN  \n",
              "34                    AMZN  \n",
              "35                    AMZN  \n",
              "36                    AMZN  \n",
              "37                    AMZN  \n",
              "38                    AMZN  \n",
              "39                    AMZN  \n",
              "40                    AMZN  \n",
              "41                    AMZN  "
            ],
            "text/html": [
              "\n",
              "  <div id=\"df-2b886b71-1dfc-4229-babe-7066d18c145a\" class=\"colab-df-container\">\n",
              "    <div>\n",
              "<style scoped>\n",
              "    .dataframe tbody tr th:only-of-type {\n",
              "        vertical-align: middle;\n",
              "    }\n",
              "\n",
              "    .dataframe tbody tr th {\n",
              "        vertical-align: top;\n",
              "    }\n",
              "\n",
              "    .dataframe thead th {\n",
              "        text-align: right;\n",
              "    }\n",
              "</style>\n",
              "<table border=\"1\" class=\"dataframe\">\n",
              "  <thead>\n",
              "    <tr style=\"text-align: right;\">\n",
              "      <th>Price</th>\n",
              "      <th>Date</th>\n",
              "      <th>Close</th>\n",
              "      <th>High</th>\n",
              "      <th>Low</th>\n",
              "      <th>Open</th>\n",
              "      <th>Volume</th>\n",
              "      <th>SYMBOL_YAHOO_FINANCE</th>\n",
              "    </tr>\n",
              "  </thead>\n",
              "  <tbody>\n",
              "    <tr>\n",
              "      <th>0</th>\n",
              "      <td>2023-06-01</td>\n",
              "      <td>123.273125</td>\n",
              "      <td>123.970593</td>\n",
              "      <td>122.177099</td>\n",
              "      <td>122.376374</td>\n",
              "      <td>30772700</td>\n",
              "      <td>GOOG</td>\n",
              "    </tr>\n",
              "    <tr>\n",
              "      <th>1</th>\n",
              "      <td>2023-06-02</td>\n",
              "      <td>124.219688</td>\n",
              "      <td>125.694346</td>\n",
              "      <td>123.312979</td>\n",
              "      <td>123.542144</td>\n",
              "      <td>26963100</td>\n",
              "      <td>GOOG</td>\n",
              "    </tr>\n",
              "    <tr>\n",
              "      <th>2</th>\n",
              "      <td>2023-06-05</td>\n",
              "      <td>125.554855</td>\n",
              "      <td>126.969724</td>\n",
              "      <td>123.392688</td>\n",
              "      <td>123.562079</td>\n",
              "      <td>32305500</td>\n",
              "      <td>GOOG</td>\n",
              "    </tr>\n",
              "    <tr>\n",
              "      <th>3</th>\n",
              "      <td>2023-06-06</td>\n",
              "      <td>126.850151</td>\n",
              "      <td>127.826607</td>\n",
              "      <td>124.907198</td>\n",
              "      <td>125.554851</td>\n",
              "      <td>26638300</td>\n",
              "      <td>GOOG</td>\n",
              "    </tr>\n",
              "    <tr>\n",
              "      <th>4</th>\n",
              "      <td>2023-06-07</td>\n",
              "      <td>122.057526</td>\n",
              "      <td>128.573896</td>\n",
              "      <td>121.678901</td>\n",
              "      <td>126.511381</td>\n",
              "      <td>52539000</td>\n",
              "      <td>GOOG</td>\n",
              "    </tr>\n",
              "    <tr>\n",
              "      <th>5</th>\n",
              "      <td>2023-06-08</td>\n",
              "      <td>121.698830</td>\n",
              "      <td>122.784897</td>\n",
              "      <td>120.802079</td>\n",
              "      <td>121.788509</td>\n",
              "      <td>29389200</td>\n",
              "      <td>GOOG</td>\n",
              "    </tr>\n",
              "    <tr>\n",
              "      <th>6</th>\n",
              "      <td>2023-06-09</td>\n",
              "      <td>121.788513</td>\n",
              "      <td>123.312986</td>\n",
              "      <td>121.469669</td>\n",
              "      <td>121.808438</td>\n",
              "      <td>23762500</td>\n",
              "      <td>GOOG</td>\n",
              "    </tr>\n",
              "    <tr>\n",
              "      <th>7</th>\n",
              "      <td>2023-06-12</td>\n",
              "      <td>123.193405</td>\n",
              "      <td>123.601928</td>\n",
              "      <td>121.220561</td>\n",
              "      <td>122.346477</td>\n",
              "      <td>28306400</td>\n",
              "      <td>GOOG</td>\n",
              "    </tr>\n",
              "    <tr>\n",
              "      <th>8</th>\n",
              "      <td>2023-06-13</td>\n",
              "      <td>123.382736</td>\n",
              "      <td>124.707934</td>\n",
              "      <td>122.735082</td>\n",
              "      <td>124.528584</td>\n",
              "      <td>22278300</td>\n",
              "      <td>GOOG</td>\n",
              "    </tr>\n",
              "    <tr>\n",
              "      <th>9</th>\n",
              "      <td>2023-06-14</td>\n",
              "      <td>123.223305</td>\n",
              "      <td>123.601937</td>\n",
              "      <td>121.011322</td>\n",
              "      <td>122.655364</td>\n",
              "      <td>30592300</td>\n",
              "      <td>GOOG</td>\n",
              "    </tr>\n",
              "    <tr>\n",
              "      <th>10</th>\n",
              "      <td>2023-06-15</td>\n",
              "      <td>124.638168</td>\n",
              "      <td>125.006835</td>\n",
              "      <td>121.957890</td>\n",
              "      <td>122.695215</td>\n",
              "      <td>35246300</td>\n",
              "      <td>GOOG</td>\n",
              "    </tr>\n",
              "    <tr>\n",
              "      <th>11</th>\n",
              "      <td>2023-06-16</td>\n",
              "      <td>123.083817</td>\n",
              "      <td>125.654500</td>\n",
              "      <td>122.834720</td>\n",
              "      <td>125.475149</td>\n",
              "      <td>45514000</td>\n",
              "      <td>GOOG</td>\n",
              "    </tr>\n",
              "    <tr>\n",
              "      <th>12</th>\n",
              "      <td>2023-06-20</td>\n",
              "      <td>122.655357</td>\n",
              "      <td>124.120049</td>\n",
              "      <td>121.698826</td>\n",
              "      <td>122.485973</td>\n",
              "      <td>26097500</td>\n",
              "      <td>GOOG</td>\n",
              "    </tr>\n",
              "    <tr>\n",
              "      <th>13</th>\n",
              "      <td>2023-06-21</td>\n",
              "      <td>120.114578</td>\n",
              "      <td>122.216958</td>\n",
              "      <td>119.666199</td>\n",
              "      <td>121.957895</td>\n",
              "      <td>30306300</td>\n",
              "      <td>GOOG</td>\n",
              "    </tr>\n",
              "    <tr>\n",
              "      <th>14</th>\n",
              "      <td>2023-06-22</td>\n",
              "      <td>122.705185</td>\n",
              "      <td>122.794856</td>\n",
              "      <td>118.400789</td>\n",
              "      <td>119.566561</td>\n",
              "      <td>26952200</td>\n",
              "      <td>GOOG</td>\n",
              "    </tr>\n",
              "    <tr>\n",
              "      <th>15</th>\n",
              "      <td>2023-06-23</td>\n",
              "      <td>121.898102</td>\n",
              "      <td>122.346481</td>\n",
              "      <td>120.622726</td>\n",
              "      <td>120.941570</td>\n",
              "      <td>34885300</td>\n",
              "      <td>GOOG</td>\n",
              "    </tr>\n",
              "    <tr>\n",
              "      <th>16</th>\n",
              "      <td>2023-06-26</td>\n",
              "      <td>117.912552</td>\n",
              "      <td>121.559336</td>\n",
              "      <td>117.842805</td>\n",
              "      <td>120.323817</td>\n",
              "      <td>33969900</td>\n",
              "      <td>GOOG</td>\n",
              "    </tr>\n",
              "    <tr>\n",
              "      <th>17</th>\n",
              "      <td>2023-06-27</td>\n",
              "      <td>117.902596</td>\n",
              "      <td>118.649887</td>\n",
              "      <td>115.680647</td>\n",
              "      <td>116.657111</td>\n",
              "      <td>39535900</td>\n",
              "      <td>GOOG</td>\n",
              "    </tr>\n",
              "    <tr>\n",
              "      <th>18</th>\n",
              "      <td>2023-06-28</td>\n",
              "      <td>119.745911</td>\n",
              "      <td>119.955151</td>\n",
              "      <td>116.427937</td>\n",
              "      <td>116.667068</td>\n",
              "      <td>27091400</td>\n",
              "      <td>GOOG</td>\n",
              "    </tr>\n",
              "    <tr>\n",
              "      <th>19</th>\n",
              "      <td>2023-06-29</td>\n",
              "      <td>118.669807</td>\n",
              "      <td>119.626339</td>\n",
              "      <td>117.872702</td>\n",
              "      <td>118.809301</td>\n",
              "      <td>24090900</td>\n",
              "      <td>GOOG</td>\n",
              "    </tr>\n",
              "    <tr>\n",
              "      <th>20</th>\n",
              "      <td>2023-06-30</td>\n",
              "      <td>119.267639</td>\n",
              "      <td>120.642659</td>\n",
              "      <td>119.257681</td>\n",
              "      <td>119.735943</td>\n",
              "      <td>29519700</td>\n",
              "      <td>GOOG</td>\n",
              "    </tr>\n",
              "    <tr>\n",
              "      <th>21</th>\n",
              "      <td>2023-06-01</td>\n",
              "      <td>122.769997</td>\n",
              "      <td>123.489998</td>\n",
              "      <td>119.930000</td>\n",
              "      <td>120.690002</td>\n",
              "      <td>54375100</td>\n",
              "      <td>AMZN</td>\n",
              "    </tr>\n",
              "    <tr>\n",
              "      <th>22</th>\n",
              "      <td>2023-06-02</td>\n",
              "      <td>124.250000</td>\n",
              "      <td>126.389999</td>\n",
              "      <td>124.019997</td>\n",
              "      <td>124.919998</td>\n",
              "      <td>61215000</td>\n",
              "      <td>AMZN</td>\n",
              "    </tr>\n",
              "    <tr>\n",
              "      <th>23</th>\n",
              "      <td>2023-06-05</td>\n",
              "      <td>125.300003</td>\n",
              "      <td>125.800003</td>\n",
              "      <td>123.029999</td>\n",
              "      <td>123.360001</td>\n",
              "      <td>47950100</td>\n",
              "      <td>AMZN</td>\n",
              "    </tr>\n",
              "    <tr>\n",
              "      <th>24</th>\n",
              "      <td>2023-06-06</td>\n",
              "      <td>126.610001</td>\n",
              "      <td>127.400002</td>\n",
              "      <td>125.000000</td>\n",
              "      <td>125.070000</td>\n",
              "      <td>45695200</td>\n",
              "      <td>AMZN</td>\n",
              "    </tr>\n",
              "    <tr>\n",
              "      <th>25</th>\n",
              "      <td>2023-06-07</td>\n",
              "      <td>121.230003</td>\n",
              "      <td>127.370003</td>\n",
              "      <td>120.629997</td>\n",
              "      <td>127.010002</td>\n",
              "      <td>95663300</td>\n",
              "      <td>AMZN</td>\n",
              "    </tr>\n",
              "    <tr>\n",
              "      <th>26</th>\n",
              "      <td>2023-06-08</td>\n",
              "      <td>124.250000</td>\n",
              "      <td>125.629997</td>\n",
              "      <td>122.260002</td>\n",
              "      <td>123.010002</td>\n",
              "      <td>62159300</td>\n",
              "      <td>AMZN</td>\n",
              "    </tr>\n",
              "    <tr>\n",
              "      <th>27</th>\n",
              "      <td>2023-06-09</td>\n",
              "      <td>123.430000</td>\n",
              "      <td>125.800003</td>\n",
              "      <td>123.190002</td>\n",
              "      <td>124.080002</td>\n",
              "      <td>51330000</td>\n",
              "      <td>AMZN</td>\n",
              "    </tr>\n",
              "    <tr>\n",
              "      <th>28</th>\n",
              "      <td>2023-06-12</td>\n",
              "      <td>126.570000</td>\n",
              "      <td>126.779999</td>\n",
              "      <td>123.529999</td>\n",
              "      <td>124.019997</td>\n",
              "      <td>51338000</td>\n",
              "      <td>AMZN</td>\n",
              "    </tr>\n",
              "    <tr>\n",
              "      <th>29</th>\n",
              "      <td>2023-06-13</td>\n",
              "      <td>126.660004</td>\n",
              "      <td>128.410004</td>\n",
              "      <td>125.180000</td>\n",
              "      <td>128.119995</td>\n",
              "      <td>50564800</td>\n",
              "      <td>AMZN</td>\n",
              "    </tr>\n",
              "    <tr>\n",
              "      <th>30</th>\n",
              "      <td>2023-06-14</td>\n",
              "      <td>126.419998</td>\n",
              "      <td>126.949997</td>\n",
              "      <td>124.120003</td>\n",
              "      <td>126.699997</td>\n",
              "      <td>52422500</td>\n",
              "      <td>AMZN</td>\n",
              "    </tr>\n",
              "    <tr>\n",
              "      <th>31</th>\n",
              "      <td>2023-06-15</td>\n",
              "      <td>127.110001</td>\n",
              "      <td>127.690002</td>\n",
              "      <td>124.320000</td>\n",
              "      <td>125.209999</td>\n",
              "      <td>60458500</td>\n",
              "      <td>AMZN</td>\n",
              "    </tr>\n",
              "    <tr>\n",
              "      <th>32</th>\n",
              "      <td>2023-06-16</td>\n",
              "      <td>125.489998</td>\n",
              "      <td>127.900002</td>\n",
              "      <td>125.300003</td>\n",
              "      <td>127.709999</td>\n",
              "      <td>84188100</td>\n",
              "      <td>AMZN</td>\n",
              "    </tr>\n",
              "    <tr>\n",
              "      <th>33</th>\n",
              "      <td>2023-06-20</td>\n",
              "      <td>125.779999</td>\n",
              "      <td>127.250000</td>\n",
              "      <td>124.500000</td>\n",
              "      <td>124.970001</td>\n",
              "      <td>56930100</td>\n",
              "      <td>AMZN</td>\n",
              "    </tr>\n",
              "    <tr>\n",
              "      <th>34</th>\n",
              "      <td>2023-06-21</td>\n",
              "      <td>124.830002</td>\n",
              "      <td>126.730003</td>\n",
              "      <td>123.849998</td>\n",
              "      <td>125.639999</td>\n",
              "      <td>52137700</td>\n",
              "      <td>AMZN</td>\n",
              "    </tr>\n",
              "    <tr>\n",
              "      <th>35</th>\n",
              "      <td>2023-06-22</td>\n",
              "      <td>130.149994</td>\n",
              "      <td>130.330002</td>\n",
              "      <td>125.139999</td>\n",
              "      <td>125.309998</td>\n",
              "      <td>90354600</td>\n",
              "      <td>AMZN</td>\n",
              "    </tr>\n",
              "    <tr>\n",
              "      <th>36</th>\n",
              "      <td>2023-06-23</td>\n",
              "      <td>129.330002</td>\n",
              "      <td>130.839996</td>\n",
              "      <td>128.279999</td>\n",
              "      <td>129.110001</td>\n",
              "      <td>71855200</td>\n",
              "      <td>AMZN</td>\n",
              "    </tr>\n",
              "    <tr>\n",
              "      <th>37</th>\n",
              "      <td>2023-06-26</td>\n",
              "      <td>127.330002</td>\n",
              "      <td>131.490005</td>\n",
              "      <td>127.099998</td>\n",
              "      <td>129.330002</td>\n",
              "      <td>59989300</td>\n",
              "      <td>AMZN</td>\n",
              "    </tr>\n",
              "    <tr>\n",
              "      <th>38</th>\n",
              "      <td>2023-06-27</td>\n",
              "      <td>129.179993</td>\n",
              "      <td>130.089996</td>\n",
              "      <td>127.550003</td>\n",
              "      <td>128.630005</td>\n",
              "      <td>46801000</td>\n",
              "      <td>AMZN</td>\n",
              "    </tr>\n",
              "    <tr>\n",
              "      <th>39</th>\n",
              "      <td>2023-06-28</td>\n",
              "      <td>129.039993</td>\n",
              "      <td>131.479996</td>\n",
              "      <td>128.440002</td>\n",
              "      <td>128.940002</td>\n",
              "      <td>52149500</td>\n",
              "      <td>AMZN</td>\n",
              "    </tr>\n",
              "    <tr>\n",
              "      <th>40</th>\n",
              "      <td>2023-06-29</td>\n",
              "      <td>127.900002</td>\n",
              "      <td>129.259995</td>\n",
              "      <td>127.260002</td>\n",
              "      <td>128.770004</td>\n",
              "      <td>40761000</td>\n",
              "      <td>AMZN</td>\n",
              "    </tr>\n",
              "    <tr>\n",
              "      <th>41</th>\n",
              "      <td>2023-06-30</td>\n",
              "      <td>130.360001</td>\n",
              "      <td>131.250000</td>\n",
              "      <td>128.949997</td>\n",
              "      <td>129.470001</td>\n",
              "      <td>54310500</td>\n",
              "      <td>AMZN</td>\n",
              "    </tr>\n",
              "  </tbody>\n",
              "</table>\n",
              "</div>\n",
              "    <div class=\"colab-df-buttons\">\n",
              "\n",
              "  <div class=\"colab-df-container\">\n",
              "    <button class=\"colab-df-convert\" onclick=\"convertToInteractive('df-2b886b71-1dfc-4229-babe-7066d18c145a')\"\n",
              "            title=\"Convert this dataframe to an interactive table.\"\n",
              "            style=\"display:none;\">\n",
              "\n",
              "  <svg xmlns=\"http://www.w3.org/2000/svg\" height=\"24px\" viewBox=\"0 -960 960 960\">\n",
              "    <path d=\"M120-120v-720h720v720H120Zm60-500h600v-160H180v160Zm220 220h160v-160H400v160Zm0 220h160v-160H400v160ZM180-400h160v-160H180v160Zm440 0h160v-160H620v160ZM180-180h160v-160H180v160Zm440 0h160v-160H620v160Z\"/>\n",
              "  </svg>\n",
              "    </button>\n",
              "\n",
              "  <style>\n",
              "    .colab-df-container {\n",
              "      display:flex;\n",
              "      gap: 12px;\n",
              "    }\n",
              "\n",
              "    .colab-df-convert {\n",
              "      background-color: #E8F0FE;\n",
              "      border: none;\n",
              "      border-radius: 50%;\n",
              "      cursor: pointer;\n",
              "      display: none;\n",
              "      fill: #1967D2;\n",
              "      height: 32px;\n",
              "      padding: 0 0 0 0;\n",
              "      width: 32px;\n",
              "    }\n",
              "\n",
              "    .colab-df-convert:hover {\n",
              "      background-color: #E2EBFA;\n",
              "      box-shadow: 0px 1px 2px rgba(60, 64, 67, 0.3), 0px 1px 3px 1px rgba(60, 64, 67, 0.15);\n",
              "      fill: #174EA6;\n",
              "    }\n",
              "\n",
              "    .colab-df-buttons div {\n",
              "      margin-bottom: 4px;\n",
              "    }\n",
              "\n",
              "    [theme=dark] .colab-df-convert {\n",
              "      background-color: #3B4455;\n",
              "      fill: #D2E3FC;\n",
              "    }\n",
              "\n",
              "    [theme=dark] .colab-df-convert:hover {\n",
              "      background-color: #434B5C;\n",
              "      box-shadow: 0px 1px 3px 1px rgba(0, 0, 0, 0.15);\n",
              "      filter: drop-shadow(0px 1px 2px rgba(0, 0, 0, 0.3));\n",
              "      fill: #FFFFFF;\n",
              "    }\n",
              "  </style>\n",
              "\n",
              "    <script>\n",
              "      const buttonEl =\n",
              "        document.querySelector('#df-2b886b71-1dfc-4229-babe-7066d18c145a button.colab-df-convert');\n",
              "      buttonEl.style.display =\n",
              "        google.colab.kernel.accessAllowed ? 'block' : 'none';\n",
              "\n",
              "      async function convertToInteractive(key) {\n",
              "        const element = document.querySelector('#df-2b886b71-1dfc-4229-babe-7066d18c145a');\n",
              "        const dataTable =\n",
              "          await google.colab.kernel.invokeFunction('convertToInteractive',\n",
              "                                                    [key], {});\n",
              "        if (!dataTable) return;\n",
              "\n",
              "        const docLinkHtml = 'Like what you see? Visit the ' +\n",
              "          '<a target=\"_blank\" href=https://colab.research.google.com/notebooks/data_table.ipynb>data table notebook</a>'\n",
              "          + ' to learn more about interactive tables.';\n",
              "        element.innerHTML = '';\n",
              "        dataTable['output_type'] = 'display_data';\n",
              "        await google.colab.output.renderOutput(dataTable, element);\n",
              "        const docLink = document.createElement('div');\n",
              "        docLink.innerHTML = docLinkHtml;\n",
              "        element.appendChild(docLink);\n",
              "      }\n",
              "    </script>\n",
              "  </div>\n",
              "\n",
              "\n",
              "<div id=\"df-024ec654-ff17-4df8-968f-42dd12e2cce7\">\n",
              "  <button class=\"colab-df-quickchart\" onclick=\"quickchart('df-024ec654-ff17-4df8-968f-42dd12e2cce7')\"\n",
              "            title=\"Suggest charts\"\n",
              "            style=\"display:none;\">\n",
              "\n",
              "<svg xmlns=\"http://www.w3.org/2000/svg\" height=\"24px\"viewBox=\"0 0 24 24\"\n",
              "     width=\"24px\">\n",
              "    <g>\n",
              "        <path d=\"M19 3H5c-1.1 0-2 .9-2 2v14c0 1.1.9 2 2 2h14c1.1 0 2-.9 2-2V5c0-1.1-.9-2-2-2zM9 17H7v-7h2v7zm4 0h-2V7h2v10zm4 0h-2v-4h2v4z\"/>\n",
              "    </g>\n",
              "</svg>\n",
              "  </button>\n",
              "\n",
              "<style>\n",
              "  .colab-df-quickchart {\n",
              "      --bg-color: #E8F0FE;\n",
              "      --fill-color: #1967D2;\n",
              "      --hover-bg-color: #E2EBFA;\n",
              "      --hover-fill-color: #174EA6;\n",
              "      --disabled-fill-color: #AAA;\n",
              "      --disabled-bg-color: #DDD;\n",
              "  }\n",
              "\n",
              "  [theme=dark] .colab-df-quickchart {\n",
              "      --bg-color: #3B4455;\n",
              "      --fill-color: #D2E3FC;\n",
              "      --hover-bg-color: #434B5C;\n",
              "      --hover-fill-color: #FFFFFF;\n",
              "      --disabled-bg-color: #3B4455;\n",
              "      --disabled-fill-color: #666;\n",
              "  }\n",
              "\n",
              "  .colab-df-quickchart {\n",
              "    background-color: var(--bg-color);\n",
              "    border: none;\n",
              "    border-radius: 50%;\n",
              "    cursor: pointer;\n",
              "    display: none;\n",
              "    fill: var(--fill-color);\n",
              "    height: 32px;\n",
              "    padding: 0;\n",
              "    width: 32px;\n",
              "  }\n",
              "\n",
              "  .colab-df-quickchart:hover {\n",
              "    background-color: var(--hover-bg-color);\n",
              "    box-shadow: 0 1px 2px rgba(60, 64, 67, 0.3), 0 1px 3px 1px rgba(60, 64, 67, 0.15);\n",
              "    fill: var(--button-hover-fill-color);\n",
              "  }\n",
              "\n",
              "  .colab-df-quickchart-complete:disabled,\n",
              "  .colab-df-quickchart-complete:disabled:hover {\n",
              "    background-color: var(--disabled-bg-color);\n",
              "    fill: var(--disabled-fill-color);\n",
              "    box-shadow: none;\n",
              "  }\n",
              "\n",
              "  .colab-df-spinner {\n",
              "    border: 2px solid var(--fill-color);\n",
              "    border-color: transparent;\n",
              "    border-bottom-color: var(--fill-color);\n",
              "    animation:\n",
              "      spin 1s steps(1) infinite;\n",
              "  }\n",
              "\n",
              "  @keyframes spin {\n",
              "    0% {\n",
              "      border-color: transparent;\n",
              "      border-bottom-color: var(--fill-color);\n",
              "      border-left-color: var(--fill-color);\n",
              "    }\n",
              "    20% {\n",
              "      border-color: transparent;\n",
              "      border-left-color: var(--fill-color);\n",
              "      border-top-color: var(--fill-color);\n",
              "    }\n",
              "    30% {\n",
              "      border-color: transparent;\n",
              "      border-left-color: var(--fill-color);\n",
              "      border-top-color: var(--fill-color);\n",
              "      border-right-color: var(--fill-color);\n",
              "    }\n",
              "    40% {\n",
              "      border-color: transparent;\n",
              "      border-right-color: var(--fill-color);\n",
              "      border-top-color: var(--fill-color);\n",
              "    }\n",
              "    60% {\n",
              "      border-color: transparent;\n",
              "      border-right-color: var(--fill-color);\n",
              "    }\n",
              "    80% {\n",
              "      border-color: transparent;\n",
              "      border-right-color: var(--fill-color);\n",
              "      border-bottom-color: var(--fill-color);\n",
              "    }\n",
              "    90% {\n",
              "      border-color: transparent;\n",
              "      border-bottom-color: var(--fill-color);\n",
              "    }\n",
              "  }\n",
              "</style>\n",
              "\n",
              "  <script>\n",
              "    async function quickchart(key) {\n",
              "      const quickchartButtonEl =\n",
              "        document.querySelector('#' + key + ' button');\n",
              "      quickchartButtonEl.disabled = true;  // To prevent multiple clicks.\n",
              "      quickchartButtonEl.classList.add('colab-df-spinner');\n",
              "      try {\n",
              "        const charts = await google.colab.kernel.invokeFunction(\n",
              "            'suggestCharts', [key], {});\n",
              "      } catch (error) {\n",
              "        console.error('Error during call to suggestCharts:', error);\n",
              "      }\n",
              "      quickchartButtonEl.classList.remove('colab-df-spinner');\n",
              "      quickchartButtonEl.classList.add('colab-df-quickchart-complete');\n",
              "    }\n",
              "    (() => {\n",
              "      let quickchartButtonEl =\n",
              "        document.querySelector('#df-024ec654-ff17-4df8-968f-42dd12e2cce7 button');\n",
              "      quickchartButtonEl.style.display =\n",
              "        google.colab.kernel.accessAllowed ? 'block' : 'none';\n",
              "    })();\n",
              "  </script>\n",
              "</div>\n",
              "\n",
              "  <div id=\"id_6204d9dd-e3de-4b0d-86dc-97039a868f42\">\n",
              "    <style>\n",
              "      .colab-df-generate {\n",
              "        background-color: #E8F0FE;\n",
              "        border: none;\n",
              "        border-radius: 50%;\n",
              "        cursor: pointer;\n",
              "        display: none;\n",
              "        fill: #1967D2;\n",
              "        height: 32px;\n",
              "        padding: 0 0 0 0;\n",
              "        width: 32px;\n",
              "      }\n",
              "\n",
              "      .colab-df-generate:hover {\n",
              "        background-color: #E2EBFA;\n",
              "        box-shadow: 0px 1px 2px rgba(60, 64, 67, 0.3), 0px 1px 3px 1px rgba(60, 64, 67, 0.15);\n",
              "        fill: #174EA6;\n",
              "      }\n",
              "\n",
              "      [theme=dark] .colab-df-generate {\n",
              "        background-color: #3B4455;\n",
              "        fill: #D2E3FC;\n",
              "      }\n",
              "\n",
              "      [theme=dark] .colab-df-generate:hover {\n",
              "        background-color: #434B5C;\n",
              "        box-shadow: 0px 1px 3px 1px rgba(0, 0, 0, 0.15);\n",
              "        filter: drop-shadow(0px 1px 2px rgba(0, 0, 0, 0.3));\n",
              "        fill: #FFFFFF;\n",
              "      }\n",
              "    </style>\n",
              "    <button class=\"colab-df-generate\" onclick=\"generateWithVariable('DATA_YAHOO')\"\n",
              "            title=\"Generate code using this dataframe.\"\n",
              "            style=\"display:none;\">\n",
              "\n",
              "  <svg xmlns=\"http://www.w3.org/2000/svg\" height=\"24px\"viewBox=\"0 0 24 24\"\n",
              "       width=\"24px\">\n",
              "    <path d=\"M7,19H8.4L18.45,9,17,7.55,7,17.6ZM5,21V16.75L18.45,3.32a2,2,0,0,1,2.83,0l1.4,1.43a1.91,1.91,0,0,1,.58,1.4,1.91,1.91,0,0,1-.58,1.4L9.25,21ZM18.45,9,17,7.55Zm-12,3A5.31,5.31,0,0,0,4.9,8.1,5.31,5.31,0,0,0,1,6.5,5.31,5.31,0,0,0,4.9,4.9,5.31,5.31,0,0,0,6.5,1,5.31,5.31,0,0,0,8.1,4.9,5.31,5.31,0,0,0,12,6.5,5.46,5.46,0,0,0,6.5,12Z\"/>\n",
              "  </svg>\n",
              "    </button>\n",
              "    <script>\n",
              "      (() => {\n",
              "      const buttonEl =\n",
              "        document.querySelector('#id_6204d9dd-e3de-4b0d-86dc-97039a868f42 button.colab-df-generate');\n",
              "      buttonEl.style.display =\n",
              "        google.colab.kernel.accessAllowed ? 'block' : 'none';\n",
              "\n",
              "      buttonEl.onclick = () => {\n",
              "        google.colab.notebook.generateWithVariable('DATA_YAHOO');\n",
              "      }\n",
              "      })();\n",
              "    </script>\n",
              "  </div>\n",
              "\n",
              "    </div>\n",
              "  </div>\n"
            ],
            "application/vnd.google.colaboratory.intrinsic+json": {
              "type": "dataframe",
              "variable_name": "DATA_YAHOO",
              "summary": "{\n  \"name\": \"DATA_YAHOO\",\n  \"rows\": 42,\n  \"fields\": [\n    {\n      \"column\": \"Date\",\n      \"properties\": {\n        \"dtype\": \"date\",\n        \"min\": \"2023-06-01 00:00:00\",\n        \"max\": \"2023-06-30 00:00:00\",\n        \"num_unique_values\": 21,\n        \"samples\": [\n          \"2023-06-01 00:00:00\",\n          \"2023-06-27 00:00:00\",\n          \"2023-06-23 00:00:00\"\n        ],\n        \"semantic_type\": \"\",\n        \"description\": \"\"\n      }\n    },\n    {\n      \"column\": \"Close\",\n      \"properties\": {\n        \"dtype\": \"number\",\n        \"std\": 3.2401274064337096,\n        \"min\": 117.90259552001953,\n        \"max\": 130.36000061035156,\n        \"num_unique_values\": 41,\n        \"samples\": [\n          126.61000061035156,\n          120.11457824707031,\n          123.38273620605469\n        ],\n        \"semantic_type\": \"\",\n        \"description\": \"\"\n      }\n    },\n    {\n      \"column\": \"High\",\n      \"properties\": {\n        \"dtype\": \"number\",\n        \"std\": 3.3102443914090713,\n        \"min\": 118.64988653051294,\n        \"max\": 131.49000549316406,\n        \"num_unique_values\": 41,\n        \"samples\": [\n          127.4000015258789,\n          122.21695756683378,\n          124.7079341600891\n        ],\n        \"semantic_type\": \"\",\n        \"description\": \"\"\n      }\n    },\n    {\n      \"column\": \"Low\",\n      \"properties\": {\n        \"dtype\": \"number\",\n        \"std\": 3.1738425480961414,\n        \"min\": 115.68064690401077,\n        \"max\": 128.9499969482422,\n        \"num_unique_values\": 42,\n        \"samples\": [\n          120.62999725341797,\n          119.6661990792251,\n          122.73508244190093\n        ],\n        \"semantic_type\": \"\",\n        \"description\": \"\"\n      }\n    },\n    {\n      \"column\": \"Open\",\n      \"properties\": {\n        \"dtype\": \"number\",\n        \"std\": 3.324466199164891,\n        \"min\": 116.65711050253054,\n        \"max\": 129.47000122070312,\n        \"num_unique_values\": 42,\n        \"samples\": [\n          127.01000213623047,\n          121.95789455442348,\n          124.52858400389017\n        ],\n        \"semantic_type\": \"\",\n        \"description\": \"\"\n      }\n    },\n    {\n      \"column\": \"Volume\",\n      \"properties\": {\n        \"dtype\": \"number\",\n        \"std\": 18173381,\n        \"min\": 22278300,\n        \"max\": 95663300,\n        \"num_unique_values\": 42,\n        \"samples\": [\n          95663300,\n          30306300,\n          22278300\n        ],\n        \"semantic_type\": \"\",\n        \"description\": \"\"\n      }\n    },\n    {\n      \"column\": \"SYMBOL_YAHOO_FINANCE\",\n      \"properties\": {\n        \"dtype\": \"category\",\n        \"num_unique_values\": 2,\n        \"samples\": [\n          \"AMZN\",\n          \"GOOG\"\n        ],\n        \"semantic_type\": \"\",\n        \"description\": \"\"\n      }\n    }\n  ]\n}"
            }
          },
          "metadata": {},
          "execution_count": 5
        }
      ]
    },
    {
      "cell_type": "code",
      "source": [
        "sns.boxplot(x=\"SYMBOL_YAHOO_FINANCE\", y=\"Close\", data=DATA_YAHOO, hue='SYMBOL_YAHOO_FINANCE')\n",
        "plt.title('Distribución de la cotización de cierre de Google y Amazon')"
      ],
      "metadata": {
        "colab": {
          "base_uri": "https://localhost:8080/",
          "height": 489
        },
        "id": "F2DWMasj4fNu",
        "outputId": "e40785f0-0ec2-4358-94a1-edc5b52b568f"
      },
      "execution_count": null,
      "outputs": [
        {
          "output_type": "execute_result",
          "data": {
            "text/plain": [
              "Text(0.5, 1.0, 'Distribución de la cotización de cierre de Google y Amazon')"
            ]
          },
          "metadata": {},
          "execution_count": 13
        },
        {
          "output_type": "display_data",
          "data": {
            "text/plain": [
              "<Figure size 640x480 with 1 Axes>"
            ],
            "image/png": "[encoded data removed]"
          },
          "metadata": {}
        }
      ]
    },
    {
      "cell_type": "code",
      "source": [
        "#cálculamos las medidas estadística y formateamos para opbtener un dataframe\n",
        "import warnings\n",
        "warnings.filterwarnings('ignore')\n",
        "\n",
        "#Cálculo del tamaño de muestra\n",
        "n=pd.DataFrame(round(DATA_YAHOO.groupby(['SYMBOL_YAHOO_FINANCE'])['Close'].count(),1)).transpose().reset_index(drop=True).assign(Estadística='N')\n",
        "#cálculo de la media\n",
        "medias = pd.DataFrame(round(DATA_YAHOO.groupby(['SYMBOL_YAHOO_FINANCE'])['Close'].mean(),1)).transpose().reset_index(drop=True).assign(Estadística='MEDIA')\n",
        "#cálculo de la mediana\n",
        "medianas = pd.DataFrame(round(DATA_YAHOO.groupby(['SYMBOL_YAHOO_FINANCE'])['Close'].median(),1)).transpose().reset_index(drop=True).assign(Estadística='MEDIANA')\n",
        "#cálculo de la desvío\n",
        "desvíos= pd.DataFrame(round(DATA_YAHOO.groupby(['SYMBOL_YAHOO_FINANCE'])['Close'].std(),2)).transpose().reset_index(drop=True).assign(Estadística='DESVÍO')\n",
        "#cálculo de mínimo\n",
        "min= pd.DataFrame(round(DATA_YAHOO.groupby(['SYMBOL_YAHOO_FINANCE'])['Close'].min(),1)).transpose().reset_index(drop=True).assign(Estadística='MIN')\n",
        "#cálculo de máximo\n",
        "max= pd.DataFrame(round(DATA_YAHOO.groupby(['SYMBOL_YAHOO_FINANCE'])['Close'].max(),1)).transpose().reset_index(drop=True).assign(Estadística='MAX')\n",
        "#cálculo de percentiles\n",
        "P5=pd.DataFrame([round(DATA_YAHOO.groupby(['SYMBOL_YAHOO_FINANCE'])['Close'].quantile([.05]),1)[0], round(DATA_YAHOO.groupby(['SYMBOL_YAHOO_FINANCE'])['Close'].quantile([.05]),1)[1]]).transpose().reset_index(drop=True).assign(Estadística='P05')\n",
        "P5.columns =['AMZN', 'GOOG', 'Estadística']\n",
        "P10=pd.DataFrame([round(DATA_YAHOO.groupby(['SYMBOL_YAHOO_FINANCE'])['Close'].quantile([.10]),1)[0], round(DATA_YAHOO.groupby(['SYMBOL_YAHOO_FINANCE'])['Close'].quantile([.10]),1)[1]]).transpose().reset_index(drop=True).assign(Estadística='P10')\n",
        "P10.columns =['AMZN', 'GOOG', 'Estadística']\n",
        "P25=pd.DataFrame([round(DATA_YAHOO.groupby(['SYMBOL_YAHOO_FINANCE'])['Close'].quantile([.25]),1)[0], round(DATA_YAHOO.groupby(['SYMBOL_YAHOO_FINANCE'])['Close'].quantile([.25]),1)[1]]).transpose().reset_index(drop=True).assign(Estadística='P25')\n",
        "P25.columns =['AMZN', 'GOOG', 'Estadística']\n",
        "P50=pd.DataFrame([round(DATA_YAHOO.groupby(['SYMBOL_YAHOO_FINANCE'])['Close'].quantile([.50]),1)[0], round(DATA_YAHOO.groupby(['SYMBOL_YAHOO_FINANCE'])['Close'].quantile([.50]),1)[1]]).transpose().reset_index(drop=True).assign(Estadística='P50')\n",
        "P50.columns =['AMZN', 'GOOG', 'Estadística']\n",
        "P75=pd.DataFrame([round(DATA_YAHOO.groupby(['SYMBOL_YAHOO_FINANCE'])['Close'].quantile([.75]),1)[0], round(DATA_YAHOO.groupby(['SYMBOL_YAHOO_FINANCE'])['Close'].quantile([.75]),1)[1]]).transpose().reset_index(drop=True).assign(Estadística='P75')\n",
        "P75.columns =['AMZN', 'GOOG', 'Estadística']\n",
        "P90=pd.DataFrame([round(DATA_YAHOO.groupby(['SYMBOL_YAHOO_FINANCE'])['Close'].quantile([.90]),1)[0], round(DATA_YAHOO.groupby(['SYMBOL_YAHOO_FINANCE'])['Close'].quantile([.90]),1)[1]]).transpose().reset_index(drop=True).assign(Estadística='P90')\n",
        "P90.columns =['AMZN', 'GOOG', 'Estadística']"
      ],
      "metadata": {
        "id": "AyGyWdxZ6OYx"
      },
      "execution_count": null,
      "outputs": []
    },
    {
      "cell_type": "code",
      "source": [
        "#GENERACIÓN DE UN SOLO DATAFRAME CON LAS MEDIDAS\n",
        "ESTAD=pd.concat([n,medias, medianas, desvíos, min, max, P5, P10, P25, P50, P75, P90]) #, Datos_MSFT\n",
        "#RESETEO DE INDICE\n",
        "ESTAD.reset_index(drop=True, inplace=True)\n",
        "ESTAD_1= ESTAD.set_index('Estadística')\n",
        "ESTAD_1.transpose() #si quiere visualizar en formato horizontal"
      ],
      "metadata": {
        "colab": {
          "base_uri": "https://localhost:8080/",
          "height": 112
        },
        "id": "zBdOKWMb6OWS",
        "outputId": "737af9e3-ab49-4971-edb9-cba739417763"
      },
      "execution_count": null,
      "outputs": [
        {
          "output_type": "execute_result",
          "data": {
            "text/plain": [
              "Estadística     N  MEDIA  MEDIANA  DESVÍO    MIN    MAX    P05    P10    P25  \\\n",
              "AMZN         21.0  126.4    126.6    2.45  121.2  130.4  122.8  123.4  124.8   \n",
              "GOOG         21.0  122.1    122.7    2.42  117.9  126.9  117.9  118.7  120.1   \n",
              "\n",
              "Estadística    P50    P75    P90  \n",
              "AMZN         126.6  127.9  129.3  \n",
              "GOOG         122.7  123.3  124.6  "
            ],
            "text/html": [
              "\n",
              "  <div id=\"df-e2257dd4-6205-467f-8c2d-2e162f02b5ae\" class=\"colab-df-container\">\n",
              "    <div>\n",
              "<style scoped>\n",
              "    .dataframe tbody tr th:only-of-type {\n",
              "        vertical-align: middle;\n",
              "    }\n",
              "\n",
              "    .dataframe tbody tr th {\n",
              "        vertical-align: top;\n",
              "    }\n",
              "\n",
              "    .dataframe thead th {\n",
              "        text-align: right;\n",
              "    }\n",
              "</style>\n",
              "<table border=\"1\" class=\"dataframe\">\n",
              "  <thead>\n",
              "    <tr style=\"text-align: right;\">\n",
              "      <th>Estadística</th>\n",
              "      <th>N</th>\n",
              "      <th>MEDIA</th>\n",
              "      <th>MEDIANA</th>\n",
              "      <th>DESVÍO</th>\n",
              "      <th>MIN</th>\n",
              "      <th>MAX</th>\n",
              "      <th>P05</th>\n",
              "      <th>P10</th>\n",
              "      <th>P25</th>\n",
              "      <th>P50</th>\n",
              "      <th>P75</th>\n",
              "      <th>P90</th>\n",
              "    </tr>\n",
              "  </thead>\n",
              "  <tbody>\n",
              "    <tr>\n",
              "      <th>AMZN</th>\n",
              "      <td>21.0</td>\n",
              "      <td>126.4</td>\n",
              "      <td>126.6</td>\n",
              "      <td>2.45</td>\n",
              "      <td>121.2</td>\n",
              "      <td>130.4</td>\n",
              "      <td>122.8</td>\n",
              "      <td>123.4</td>\n",
              "      <td>124.8</td>\n",
              "      <td>126.6</td>\n",
              "      <td>127.9</td>\n",
              "      <td>129.3</td>\n",
              "    </tr>\n",
              "    <tr>\n",
              "      <th>GOOG</th>\n",
              "      <td>21.0</td>\n",
              "      <td>122.1</td>\n",
              "      <td>122.7</td>\n",
              "      <td>2.42</td>\n",
              "      <td>117.9</td>\n",
              "      <td>126.9</td>\n",
              "      <td>117.9</td>\n",
              "      <td>118.7</td>\n",
              "      <td>120.1</td>\n",
              "      <td>122.7</td>\n",
              "      <td>123.3</td>\n",
              "      <td>124.6</td>\n",
              "    </tr>\n",
              "  </tbody>\n",
              "</table>\n",
              "</div>\n",
              "    <div class=\"colab-df-buttons\">\n",
              "\n",
              "  <div class=\"colab-df-container\">\n",
              "    <button class=\"colab-df-convert\" onclick=\"convertToInteractive('df-e2257dd4-6205-467f-8c2d-2e162f02b5ae')\"\n",
              "            title=\"Convert this dataframe to an interactive table.\"\n",
              "            style=\"display:none;\">\n",
              "\n",
              "  <svg xmlns=\"http://www.w3.org/2000/svg\" height=\"24px\" viewBox=\"0 -960 960 960\">\n",
              "    <path d=\"M120-120v-720h720v720H120Zm60-500h600v-160H180v160Zm220 220h160v-160H400v160Zm0 220h160v-160H400v160ZM180-400h160v-160H180v160Zm440 0h160v-160H620v160ZM180-180h160v-160H180v160Zm440 0h160v-160H620v160Z\"/>\n",
              "  </svg>\n",
              "    </button>\n",
              "\n",
              "  <style>\n",
              "    .colab-df-container {\n",
              "      display:flex;\n",
              "      gap: 12px;\n",
              "    }\n",
              "\n",
              "    .colab-df-convert {\n",
              "      background-color: #E8F0FE;\n",
              "      border: none;\n",
              "      border-radius: 50%;\n",
              "      cursor: pointer;\n",
              "      display: none;\n",
              "      fill: #1967D2;\n",
              "      height: 32px;\n",
              "      padding: 0 0 0 0;\n",
              "      width: 32px;\n",
              "    }\n",
              "\n",
              "    .colab-df-convert:hover {\n",
              "      background-color: #E2EBFA;\n",
              "      box-shadow: 0px 1px 2px rgba(60, 64, 67, 0.3), 0px 1px 3px 1px rgba(60, 64, 67, 0.15);\n",
              "      fill: #174EA6;\n",
              "    }\n",
              "\n",
              "    .colab-df-buttons div {\n",
              "      margin-bottom: 4px;\n",
              "    }\n",
              "\n",
              "    [theme=dark] .colab-df-convert {\n",
              "      background-color: #3B4455;\n",
              "      fill: #D2E3FC;\n",
              "    }\n",
              "\n",
              "    [theme=dark] .colab-df-convert:hover {\n",
              "      background-color: #434B5C;\n",
              "      box-shadow: 0px 1px 3px 1px rgba(0, 0, 0, 0.15);\n",
              "      filter: drop-shadow(0px 1px 2px rgba(0, 0, 0, 0.3));\n",
              "      fill: #FFFFFF;\n",
              "    }\n",
              "  </style>\n",
              "\n",
              "    <script>\n",
              "      const buttonEl =\n",
              "        document.querySelector('#df-e2257dd4-6205-467f-8c2d-2e162f02b5ae button.colab-df-convert');\n",
              "      buttonEl.style.display =\n",
              "        google.colab.kernel.accessAllowed ? 'block' : 'none';\n",
              "\n",
              "      async function convertToInteractive(key) {\n",
              "        const element = document.querySelector('#df-e2257dd4-6205-467f-8c2d-2e162f02b5ae');\n",
              "        const dataTable =\n",
              "          await google.colab.kernel.invokeFunction('convertToInteractive',\n",
              "                                                    [key], {});\n",
              "        if (!dataTable) return;\n",
              "\n",
              "        const docLinkHtml = 'Like what you see? Visit the ' +\n",
              "          '<a target=\"_blank\" href=https://colab.research.google.com/notebooks/data_table.ipynb>data table notebook</a>'\n",
              "          + ' to learn more about interactive tables.';\n",
              "        element.innerHTML = '';\n",
              "        dataTable['output_type'] = 'display_data';\n",
              "        await google.colab.output.renderOutput(dataTable, element);\n",
              "        const docLink = document.createElement('div');\n",
              "        docLink.innerHTML = docLinkHtml;\n",
              "        element.appendChild(docLink);\n",
              "      }\n",
              "    </script>\n",
              "  </div>\n",
              "\n",
              "\n",
              "<div id=\"df-c6012a49-ad2c-49d5-a626-b38891a5d44b\">\n",
              "  <button class=\"colab-df-quickchart\" onclick=\"quickchart('df-c6012a49-ad2c-49d5-a626-b38891a5d44b')\"\n",
              "            title=\"Suggest charts\"\n",
              "            style=\"display:none;\">\n",
              "\n",
              "<svg xmlns=\"http://www.w3.org/2000/svg\" height=\"24px\"viewBox=\"0 0 24 24\"\n",
              "     width=\"24px\">\n",
              "    <g>\n",
              "        <path d=\"M19 3H5c-1.1 0-2 .9-2 2v14c0 1.1.9 2 2 2h14c1.1 0 2-.9 2-2V5c0-1.1-.9-2-2-2zM9 17H7v-7h2v7zm4 0h-2V7h2v10zm4 0h-2v-4h2v4z\"/>\n",
              "    </g>\n",
              "</svg>\n",
              "  </button>\n",
              "\n",
              "<style>\n",
              "  .colab-df-quickchart {\n",
              "      --bg-color: #E8F0FE;\n",
              "      --fill-color: #1967D2;\n",
              "      --hover-bg-color: #E2EBFA;\n",
              "      --hover-fill-color: #174EA6;\n",
              "      --disabled-fill-color: #AAA;\n",
              "      --disabled-bg-color: #DDD;\n",
              "  }\n",
              "\n",
              "  [theme=dark] .colab-df-quickchart {\n",
              "      --bg-color: #3B4455;\n",
              "      --fill-color: #D2E3FC;\n",
              "      --hover-bg-color: #434B5C;\n",
              "      --hover-fill-color: #FFFFFF;\n",
              "      --disabled-bg-color: #3B4455;\n",
              "      --disabled-fill-color: #666;\n",
              "  }\n",
              "\n",
              "  .colab-df-quickchart {\n",
              "    background-color: var(--bg-color);\n",
              "    border: none;\n",
              "    border-radius: 50%;\n",
              "    cursor: pointer;\n",
              "    display: none;\n",
              "    fill: var(--fill-color);\n",
              "    height: 32px;\n",
              "    padding: 0;\n",
              "    width: 32px;\n",
              "  }\n",
              "\n",
              "  .colab-df-quickchart:hover {\n",
              "    background-color: var(--hover-bg-color);\n",
              "    box-shadow: 0 1px 2px rgba(60, 64, 67, 0.3), 0 1px 3px 1px rgba(60, 64, 67, 0.15);\n",
              "    fill: var(--button-hover-fill-color);\n",
              "  }\n",
              "\n",
              "  .colab-df-quickchart-complete:disabled,\n",
              "  .colab-df-quickchart-complete:disabled:hover {\n",
              "    background-color: var(--disabled-bg-color);\n",
              "    fill: var(--disabled-fill-color);\n",
              "    box-shadow: none;\n",
              "  }\n",
              "\n",
              "  .colab-df-spinner {\n",
              "    border: 2px solid var(--fill-color);\n",
              "    border-color: transparent;\n",
              "    border-bottom-color: var(--fill-color);\n",
              "    animation:\n",
              "      spin 1s steps(1) infinite;\n",
              "  }\n",
              "\n",
              "  @keyframes spin {\n",
              "    0% {\n",
              "      border-color: transparent;\n",
              "      border-bottom-color: var(--fill-color);\n",
              "      border-left-color: var(--fill-color);\n",
              "    }\n",
              "    20% {\n",
              "      border-color: transparent;\n",
              "      border-left-color: var(--fill-color);\n",
              "      border-top-color: var(--fill-color);\n",
              "    }\n",
              "    30% {\n",
              "      border-color: transparent;\n",
              "      border-left-color: var(--fill-color);\n",
              "      border-top-color: var(--fill-color);\n",
              "      border-right-color: var(--fill-color);\n",
              "    }\n",
              "    40% {\n",
              "      border-color: transparent;\n",
              "      border-right-color: var(--fill-color);\n",
              "      border-top-color: var(--fill-color);\n",
              "    }\n",
              "    60% {\n",
              "      border-color: transparent;\n",
              "      border-right-color: var(--fill-color);\n",
              "    }\n",
              "    80% {\n",
              "      border-color: transparent;\n",
              "      border-right-color: var(--fill-color);\n",
              "      border-bottom-color: var(--fill-color);\n",
              "    }\n",
              "    90% {\n",
              "      border-color: transparent;\n",
              "      border-bottom-color: var(--fill-color);\n",
              "    }\n",
              "  }\n",
              "</style>\n",
              "\n",
              "  <script>\n",
              "    async function quickchart(key) {\n",
              "      const quickchartButtonEl =\n",
              "        document.querySelector('#' + key + ' button');\n",
              "      quickchartButtonEl.disabled = true;  // To prevent multiple clicks.\n",
              "      quickchartButtonEl.classList.add('colab-df-spinner');\n",
              "      try {\n",
              "        const charts = await google.colab.kernel.invokeFunction(\n",
              "            'suggestCharts', [key], {});\n",
              "      } catch (error) {\n",
              "        console.error('Error during call to suggestCharts:', error);\n",
              "      }\n",
              "      quickchartButtonEl.classList.remove('colab-df-spinner');\n",
              "      quickchartButtonEl.classList.add('colab-df-quickchart-complete');\n",
              "    }\n",
              "    (() => {\n",
              "      let quickchartButtonEl =\n",
              "        document.querySelector('#df-c6012a49-ad2c-49d5-a626-b38891a5d44b button');\n",
              "      quickchartButtonEl.style.display =\n",
              "        google.colab.kernel.accessAllowed ? 'block' : 'none';\n",
              "    })();\n",
              "  </script>\n",
              "</div>\n",
              "\n",
              "    </div>\n",
              "  </div>\n"
            ],
            "application/vnd.google.colaboratory.intrinsic+json": {
              "type": "dataframe",
              "summary": "{\n  \"name\": \"ESTAD_1\",\n  \"rows\": 2,\n  \"fields\": [\n    {\n      \"column\": \"N\",\n      \"properties\": {\n        \"dtype\": \"number\",\n        \"std\": 0.0,\n        \"min\": 21.0,\n        \"max\": 21.0,\n        \"num_unique_values\": 1,\n        \"samples\": [\n          21.0\n        ],\n        \"semantic_type\": \"\",\n        \"description\": \"\"\n      }\n    },\n    {\n      \"column\": \"MEDIA\",\n      \"properties\": {\n        \"dtype\": \"number\",\n        \"std\": 3.0405591591021626,\n        \"min\": 122.1,\n        \"max\": 126.4,\n        \"num_unique_values\": 2,\n        \"samples\": [\n          122.1\n        ],\n        \"semantic_type\": \"\",\n        \"description\": \"\"\n      }\n    },\n    {\n      \"column\": \"MEDIANA\",\n      \"properties\": {\n        \"dtype\": \"number\",\n        \"std\": 2.7577164466275295,\n        \"min\": 122.7,\n        \"max\": 126.6,\n        \"num_unique_values\": 2,\n        \"samples\": [\n          122.7\n        ],\n        \"semantic_type\": \"\",\n        \"description\": \"\"\n      }\n    },\n    {\n      \"column\": \"DESV\\u00cdO\",\n      \"properties\": {\n        \"dtype\": \"number\",\n        \"std\": 0.0212132034355966,\n        \"min\": 2.42,\n        \"max\": 2.45,\n        \"num_unique_values\": 2,\n        \"samples\": [\n          2.42\n        ],\n        \"semantic_type\": \"\",\n        \"description\": \"\"\n      }\n    },\n    {\n      \"column\": \"MIN\",\n      \"properties\": {\n        \"dtype\": \"number\",\n        \"std\": 2.333452377915605,\n        \"min\": 117.9,\n        \"max\": 121.2,\n        \"num_unique_values\": 2,\n        \"samples\": [\n          117.9\n        ],\n        \"semantic_type\": \"\",\n        \"description\": \"\"\n      }\n    },\n    {\n      \"column\": \"MAX\",\n      \"properties\": {\n        \"dtype\": \"number\",\n        \"std\": 2.4748737341529163,\n        \"min\": 126.9,\n        \"max\": 130.4,\n        \"num_unique_values\": 2,\n        \"samples\": [\n          126.9\n        ],\n        \"semantic_type\": \"\",\n        \"description\": \"\"\n      }\n    },\n    {\n      \"column\": \"P05\",\n      \"properties\": {\n        \"dtype\": \"number\",\n        \"std\": 3.464823227814077,\n        \"min\": 117.9,\n        \"max\": 122.8,\n        \"num_unique_values\": 2,\n        \"samples\": [\n          117.9\n        ],\n        \"semantic_type\": \"\",\n        \"description\": \"\"\n      }\n    },\n    {\n      \"column\": \"P10\",\n      \"properties\": {\n        \"dtype\": \"number\",\n        \"std\": 3.3234018715767752,\n        \"min\": 118.7,\n        \"max\": 123.4,\n        \"num_unique_values\": 2,\n        \"samples\": [\n          118.7\n        ],\n        \"semantic_type\": \"\",\n        \"description\": \"\"\n      }\n    },\n    {\n      \"column\": \"P25\",\n      \"properties\": {\n        \"dtype\": \"number\",\n        \"std\": 3.3234018715767752,\n        \"min\": 120.1,\n        \"max\": 124.8,\n        \"num_unique_values\": 2,\n        \"samples\": [\n          120.1\n        ],\n        \"semantic_type\": \"\",\n        \"description\": \"\"\n      }\n    },\n    {\n      \"column\": \"P50\",\n      \"properties\": {\n        \"dtype\": \"number\",\n        \"std\": 2.7577164466275295,\n        \"min\": 122.7,\n        \"max\": 126.6,\n        \"num_unique_values\": 2,\n        \"samples\": [\n          122.7\n        ],\n        \"semantic_type\": \"\",\n        \"description\": \"\"\n      }\n    },\n    {\n      \"column\": \"P75\",\n      \"properties\": {\n        \"dtype\": \"number\",\n        \"std\": 3.2526911934581246,\n        \"min\": 123.3,\n        \"max\": 127.9,\n        \"num_unique_values\": 2,\n        \"samples\": [\n          123.3\n        ],\n        \"semantic_type\": \"\",\n        \"description\": \"\"\n      }\n    },\n    {\n      \"column\": \"P90\",\n      \"properties\": {\n        \"dtype\": \"number\",\n        \"std\": 3.3234018715767855,\n        \"min\": 124.6,\n        \"max\": 129.3,\n        \"num_unique_values\": 2,\n        \"samples\": [\n          124.6\n        ],\n        \"semantic_type\": \"\",\n        \"description\": \"\"\n      }\n    }\n  ]\n}"
            }
          },
          "metadata": {},
          "execution_count": 19
        }
      ]
    },
    {
      "cell_type": "code",
      "source": [
        "#si quisiera exportar la tabla de datos:\n",
        "\n",
        "ESTAD_1.to_excel('ESTAD_1.xlsx')\n",
        "\n",
        "#Aparecerá en el menú de la izquierda de dond epuede descargarlo"
      ],
      "metadata": {
        "id": "SUEh9wx_D-md"
      },
      "execution_count": null,
      "outputs": []
    },
    {
      "cell_type": "markdown",
      "source": [
        "Con todo lo calculado es posible realizar un análisis comprativo entre las distribuciones de las cotizaciones"
      ],
      "metadata": {
        "id": "tjlOoUpsOs-3"
      }
    },
    {
      "cell_type": "markdown",
      "source": [
        "####**Ejemplo 2**"
      ],
      "metadata": {
        "id": "c1pF5vIj7xQ9"
      }
    },
    {
      "cell_type": "markdown",
      "source": [
        "Primero obtenemos datos y construimos el DataFrame para la cotización diaria de Visa durante 2024"
      ],
      "metadata": {
        "id": "LZNIVjCd9byk"
      }
    },
    {
      "cell_type": "code",
      "source": [
        "Datos_V = pd.DataFrame(yf.download('V', start='2024-01-1', end='2025-01-01')).reset_index()\n",
        "Datos_V.columns=Datos_V.columns.droplevel(1)\n",
        "Datos_V"
      ],
      "metadata": {
        "colab": {
          "base_uri": "https://localhost:8080/",
          "height": 441
        },
        "id": "LSOPwiZG6OTv",
        "outputId": "3afa3738-becb-4828-d4f9-8a4c90181314"
      },
      "execution_count": null,
      "outputs": [
        {
          "output_type": "stream",
          "name": "stderr",
          "text": [
            "\r[*********************100%***********************]  1 of 1 completed\n"
          ]
        },
        {
          "output_type": "execute_result",
          "data": {
            "text/plain": [
              "Price       Date       Close        High         Low        Open   Volume\n",
              "0     2024-01-02  256.906281  258.117027  255.715402  257.640657  5471000\n",
              "1     2024-01-03  256.023041  256.896340  254.911511  256.588694  4148300\n",
              "2     2024-01-04  257.640686  259.059862  256.042913  256.112390  3843000\n",
              "3     2024-01-05  257.720093  259.476655  256.787221  258.801821  3748400\n",
              "4     2024-01-08  260.548462  260.627842  257.978112  258.960593  4659000\n",
              "..           ...         ...         ...         ...         ...      ...\n",
              "247   2024-12-24  320.649994  321.540009  317.279999  318.170013  2684100\n",
              "248   2024-12-26  320.910004  321.450012  319.459991  319.769989  2856000\n",
              "249   2024-12-27  318.660004  321.500000  317.559998  319.269989  3489200\n",
              "250   2024-12-30  315.309998  317.109985  313.230011  314.679993  3478500\n",
              "251   2024-12-31  316.040009  317.660004  315.190002  316.119995  3963800\n",
              "\n",
              "[252 rows x 6 columns]"
            ],
            "text/html": [
              "\n",
              "  <div id=\"df-f9c45bf2-d45f-40dc-9a56-260f54a8917c\" class=\"colab-df-container\">\n",
              "    <div>\n",
              "<style scoped>\n",
              "    .dataframe tbody tr th:only-of-type {\n",
              "        vertical-align: middle;\n",
              "    }\n",
              "\n",
              "    .dataframe tbody tr th {\n",
              "        vertical-align: top;\n",
              "    }\n",
              "\n",
              "    .dataframe thead th {\n",
              "        text-align: right;\n",
              "    }\n",
              "</style>\n",
              "<table border=\"1\" class=\"dataframe\">\n",
              "  <thead>\n",
              "    <tr style=\"text-align: right;\">\n",
              "      <th>Price</th>\n",
              "      <th>Date</th>\n",
              "      <th>Close</th>\n",
              "      <th>High</th>\n",
              "      <th>Low</th>\n",
              "      <th>Open</th>\n",
              "      <th>Volume</th>\n",
              "    </tr>\n",
              "  </thead>\n",
              "  <tbody>\n",
              "    <tr>\n",
              "      <th>0</th>\n",
              "      <td>2024-01-02</td>\n",
              "      <td>256.906281</td>\n",
              "      <td>258.117027</td>\n",
              "      <td>255.715402</td>\n",
              "      <td>257.640657</td>\n",
              "      <td>5471000</td>\n",
              "    </tr>\n",
              "    <tr>\n",
              "      <th>1</th>\n",
              "      <td>2024-01-03</td>\n",
              "      <td>256.023041</td>\n",
              "      <td>256.896340</td>\n",
              "      <td>254.911511</td>\n",
              "      <td>256.588694</td>\n",
              "      <td>4148300</td>\n",
              "    </tr>\n",
              "    <tr>\n",
              "      <th>2</th>\n",
              "      <td>2024-01-04</td>\n",
              "      <td>257.640686</td>\n",
              "      <td>259.059862</td>\n",
              "      <td>256.042913</td>\n",
              "      <td>256.112390</td>\n",
              "      <td>3843000</td>\n",
              "    </tr>\n",
              "    <tr>\n",
              "      <th>3</th>\n",
              "      <td>2024-01-05</td>\n",
              "      <td>257.720093</td>\n",
              "      <td>259.476655</td>\n",
              "      <td>256.787221</td>\n",
              "      <td>258.801821</td>\n",
              "      <td>3748400</td>\n",
              "    </tr>\n",
              "    <tr>\n",
              "      <th>4</th>\n",
              "      <td>2024-01-08</td>\n",
              "      <td>260.548462</td>\n",
              "      <td>260.627842</td>\n",
              "      <td>257.978112</td>\n",
              "      <td>258.960593</td>\n",
              "      <td>4659000</td>\n",
              "    </tr>\n",
              "    <tr>\n",
              "      <th>...</th>\n",
              "      <td>...</td>\n",
              "      <td>...</td>\n",
              "      <td>...</td>\n",
              "      <td>...</td>\n",
              "      <td>...</td>\n",
              "      <td>...</td>\n",
              "    </tr>\n",
              "    <tr>\n",
              "      <th>247</th>\n",
              "      <td>2024-12-24</td>\n",
              "      <td>320.649994</td>\n",
              "      <td>321.540009</td>\n",
              "      <td>317.279999</td>\n",
              "      <td>318.170013</td>\n",
              "      <td>2684100</td>\n",
              "    </tr>\n",
              "    <tr>\n",
              "      <th>248</th>\n",
              "      <td>2024-12-26</td>\n",
              "      <td>320.910004</td>\n",
              "      <td>321.450012</td>\n",
              "      <td>319.459991</td>\n",
              "      <td>319.769989</td>\n",
              "      <td>2856000</td>\n",
              "    </tr>\n",
              "    <tr>\n",
              "      <th>249</th>\n",
              "      <td>2024-12-27</td>\n",
              "      <td>318.660004</td>\n",
              "      <td>321.500000</td>\n",
              "      <td>317.559998</td>\n",
              "      <td>319.269989</td>\n",
              "      <td>3489200</td>\n",
              "    </tr>\n",
              "    <tr>\n",
              "      <th>250</th>\n",
              "      <td>2024-12-30</td>\n",
              "      <td>315.309998</td>\n",
              "      <td>317.109985</td>\n",
              "      <td>313.230011</td>\n",
              "      <td>314.679993</td>\n",
              "      <td>3478500</td>\n",
              "    </tr>\n",
              "    <tr>\n",
              "      <th>251</th>\n",
              "      <td>2024-12-31</td>\n",
              "      <td>316.040009</td>\n",
              "      <td>317.660004</td>\n",
              "      <td>315.190002</td>\n",
              "      <td>316.119995</td>\n",
              "      <td>3963800</td>\n",
              "    </tr>\n",
              "  </tbody>\n",
              "</table>\n",
              "<p>252 rows × 6 columns</p>\n",
              "</div>\n",
              "    <div class=\"colab-df-buttons\">\n",
              "\n",
              "  <div class=\"colab-df-container\">\n",
              "    <button class=\"colab-df-convert\" onclick=\"convertToInteractive('df-f9c45bf2-d45f-40dc-9a56-260f54a8917c')\"\n",
              "            title=\"Convert this dataframe to an interactive table.\"\n",
              "            style=\"display:none;\">\n",
              "\n",
              "  <svg xmlns=\"http://www.w3.org/2000/svg\" height=\"24px\" viewBox=\"0 -960 960 960\">\n",
              "    <path d=\"M120-120v-720h720v720H120Zm60-500h600v-160H180v160Zm220 220h160v-160H400v160Zm0 220h160v-160H400v160ZM180-400h160v-160H180v160Zm440 0h160v-160H620v160ZM180-180h160v-160H180v160Zm440 0h160v-160H620v160Z\"/>\n",
              "  </svg>\n",
              "    </button>\n",
              "\n",
              "  <style>\n",
              "    .colab-df-container {\n",
              "      display:flex;\n",
              "      gap: 12px;\n",
              "    }\n",
              "\n",
              "    .colab-df-convert {\n",
              "      background-color: #E8F0FE;\n",
              "      border: none;\n",
              "      border-radius: 50%;\n",
              "      cursor: pointer;\n",
              "      display: none;\n",
              "      fill: #1967D2;\n",
              "      height: 32px;\n",
              "      padding: 0 0 0 0;\n",
              "      width: 32px;\n",
              "    }\n",
              "\n",
              "    .colab-df-convert:hover {\n",
              "      background-color: #E2EBFA;\n",
              "      box-shadow: 0px 1px 2px rgba(60, 64, 67, 0.3), 0px 1px 3px 1px rgba(60, 64, 67, 0.15);\n",
              "      fill: #174EA6;\n",
              "    }\n",
              "\n",
              "    .colab-df-buttons div {\n",
              "      margin-bottom: 4px;\n",
              "    }\n",
              "\n",
              "    [theme=dark] .colab-df-convert {\n",
              "      background-color: #3B4455;\n",
              "      fill: #D2E3FC;\n",
              "    }\n",
              "\n",
              "    [theme=dark] .colab-df-convert:hover {\n",
              "      background-color: #434B5C;\n",
              "      box-shadow: 0px 1px 3px 1px rgba(0, 0, 0, 0.15);\n",
              "      filter: drop-shadow(0px 1px 2px rgba(0, 0, 0, 0.3));\n",
              "      fill: #FFFFFF;\n",
              "    }\n",
              "  </style>\n",
              "\n",
              "    <script>\n",
              "      const buttonEl =\n",
              "        document.querySelector('#df-f9c45bf2-d45f-40dc-9a56-260f54a8917c button.colab-df-convert');\n",
              "      buttonEl.style.display =\n",
              "        google.colab.kernel.accessAllowed ? 'block' : 'none';\n",
              "\n",
              "      async function convertToInteractive(key) {\n",
              "        const element = document.querySelector('#df-f9c45bf2-d45f-40dc-9a56-260f54a8917c');\n",
              "        const dataTable =\n",
              "          await google.colab.kernel.invokeFunction('convertToInteractive',\n",
              "                                                    [key], {});\n",
              "        if (!dataTable) return;\n",
              "\n",
              "        const docLinkHtml = 'Like what you see? Visit the ' +\n",
              "          '<a target=\"_blank\" href=https://colab.research.google.com/notebooks/data_table.ipynb>data table notebook</a>'\n",
              "          + ' to learn more about interactive tables.';\n",
              "        element.innerHTML = '';\n",
              "        dataTable['output_type'] = 'display_data';\n",
              "        await google.colab.output.renderOutput(dataTable, element);\n",
              "        const docLink = document.createElement('div');\n",
              "        docLink.innerHTML = docLinkHtml;\n",
              "        element.appendChild(docLink);\n",
              "      }\n",
              "    </script>\n",
              "  </div>\n",
              "\n",
              "\n",
              "<div id=\"df-7de1acbc-471d-4178-ba88-f86aae1b75b4\">\n",
              "  <button class=\"colab-df-quickchart\" onclick=\"quickchart('df-7de1acbc-471d-4178-ba88-f86aae1b75b4')\"\n",
              "            title=\"Suggest charts\"\n",
              "            style=\"display:none;\">\n",
              "\n",
              "<svg xmlns=\"http://www.w3.org/2000/svg\" height=\"24px\"viewBox=\"0 0 24 24\"\n",
              "     width=\"24px\">\n",
              "    <g>\n",
              "        <path d=\"M19 3H5c-1.1 0-2 .9-2 2v14c0 1.1.9 2 2 2h14c1.1 0 2-.9 2-2V5c0-1.1-.9-2-2-2zM9 17H7v-7h2v7zm4 0h-2V7h2v10zm4 0h-2v-4h2v4z\"/>\n",
              "    </g>\n",
              "</svg>\n",
              "  </button>\n",
              "\n",
              "<style>\n",
              "  .colab-df-quickchart {\n",
              "      --bg-color: #E8F0FE;\n",
              "      --fill-color: #1967D2;\n",
              "      --hover-bg-color: #E2EBFA;\n",
              "      --hover-fill-color: #174EA6;\n",
              "      --disabled-fill-color: #AAA;\n",
              "      --disabled-bg-color: #DDD;\n",
              "  }\n",
              "\n",
              "  [theme=dark] .colab-df-quickchart {\n",
              "      --bg-color: #3B4455;\n",
              "      --fill-color: #D2E3FC;\n",
              "      --hover-bg-color: #434B5C;\n",
              "      --hover-fill-color: #FFFFFF;\n",
              "      --disabled-bg-color: #3B4455;\n",
              "      --disabled-fill-color: #666;\n",
              "  }\n",
              "\n",
              "  .colab-df-quickchart {\n",
              "    background-color: var(--bg-color);\n",
              "    border: none;\n",
              "    border-radius: 50%;\n",
              "    cursor: pointer;\n",
              "    display: none;\n",
              "    fill: var(--fill-color);\n",
              "    height: 32px;\n",
              "    padding: 0;\n",
              "    width: 32px;\n",
              "  }\n",
              "\n",
              "  .colab-df-quickchart:hover {\n",
              "    background-color: var(--hover-bg-color);\n",
              "    box-shadow: 0 1px 2px rgba(60, 64, 67, 0.3), 0 1px 3px 1px rgba(60, 64, 67, 0.15);\n",
              "    fill: var(--button-hover-fill-color);\n",
              "  }\n",
              "\n",
              "  .colab-df-quickchart-complete:disabled,\n",
              "  .colab-df-quickchart-complete:disabled:hover {\n",
              "    background-color: var(--disabled-bg-color);\n",
              "    fill: var(--disabled-fill-color);\n",
              "    box-shadow: none;\n",
              "  }\n",
              "\n",
              "  .colab-df-spinner {\n",
              "    border: 2px solid var(--fill-color);\n",
              "    border-color: transparent;\n",
              "    border-bottom-color: var(--fill-color);\n",
              "    animation:\n",
              "      spin 1s steps(1) infinite;\n",
              "  }\n",
              "\n",
              "  @keyframes spin {\n",
              "    0% {\n",
              "      border-color: transparent;\n",
              "      border-bottom-color: var(--fill-color);\n",
              "      border-left-color: var(--fill-color);\n",
              "    }\n",
              "    20% {\n",
              "      border-color: transparent;\n",
              "      border-left-color: var(--fill-color);\n",
              "      border-top-color: var(--fill-color);\n",
              "    }\n",
              "    30% {\n",
              "      border-color: transparent;\n",
              "      border-left-color: var(--fill-color);\n",
              "      border-top-color: var(--fill-color);\n",
              "      border-right-color: var(--fill-color);\n",
              "    }\n",
              "    40% {\n",
              "      border-color: transparent;\n",
              "      border-right-color: var(--fill-color);\n",
              "      border-top-color: var(--fill-color);\n",
              "    }\n",
              "    60% {\n",
              "      border-color: transparent;\n",
              "      border-right-color: var(--fill-color);\n",
              "    }\n",
              "    80% {\n",
              "      border-color: transparent;\n",
              "      border-right-color: var(--fill-color);\n",
              "      border-bottom-color: var(--fill-color);\n",
              "    }\n",
              "    90% {\n",
              "      border-color: transparent;\n",
              "      border-bottom-color: var(--fill-color);\n",
              "    }\n",
              "  }\n",
              "</style>\n",
              "\n",
              "  <script>\n",
              "    async function quickchart(key) {\n",
              "      const quickchartButtonEl =\n",
              "        document.querySelector('#' + key + ' button');\n",
              "      quickchartButtonEl.disabled = true;  // To prevent multiple clicks.\n",
              "      quickchartButtonEl.classList.add('colab-df-spinner');\n",
              "      try {\n",
              "        const charts = await google.colab.kernel.invokeFunction(\n",
              "            'suggestCharts', [key], {});\n",
              "      } catch (error) {\n",
              "        console.error('Error during call to suggestCharts:', error);\n",
              "      }\n",
              "      quickchartButtonEl.classList.remove('colab-df-spinner');\n",
              "      quickchartButtonEl.classList.add('colab-df-quickchart-complete');\n",
              "    }\n",
              "    (() => {\n",
              "      let quickchartButtonEl =\n",
              "        document.querySelector('#df-7de1acbc-471d-4178-ba88-f86aae1b75b4 button');\n",
              "      quickchartButtonEl.style.display =\n",
              "        google.colab.kernel.accessAllowed ? 'block' : 'none';\n",
              "    })();\n",
              "  </script>\n",
              "</div>\n",
              "\n",
              "  <div id=\"id_d9c50dd4-6403-4821-b59b-fd12afdc1d0b\">\n",
              "    <style>\n",
              "      .colab-df-generate {\n",
              "        background-color: #E8F0FE;\n",
              "        border: none;\n",
              "        border-radius: 50%;\n",
              "        cursor: pointer;\n",
              "        display: none;\n",
              "        fill: #1967D2;\n",
              "        height: 32px;\n",
              "        padding: 0 0 0 0;\n",
              "        width: 32px;\n",
              "      }\n",
              "\n",
              "      .colab-df-generate:hover {\n",
              "        background-color: #E2EBFA;\n",
              "        box-shadow: 0px 1px 2px rgba(60, 64, 67, 0.3), 0px 1px 3px 1px rgba(60, 64, 67, 0.15);\n",
              "        fill: #174EA6;\n",
              "      }\n",
              "\n",
              "      [theme=dark] .colab-df-generate {\n",
              "        background-color: #3B4455;\n",
              "        fill: #D2E3FC;\n",
              "      }\n",
              "\n",
              "      [theme=dark] .colab-df-generate:hover {\n",
              "        background-color: #434B5C;\n",
              "        box-shadow: 0px 1px 3px 1px rgba(0, 0, 0, 0.15);\n",
              "        filter: drop-shadow(0px 1px 2px rgba(0, 0, 0, 0.3));\n",
              "        fill: #FFFFFF;\n",
              "      }\n",
              "    </style>\n",
              "    <button class=\"colab-df-generate\" onclick=\"generateWithVariable('Datos_V')\"\n",
              "            title=\"Generate code using this dataframe.\"\n",
              "            style=\"display:none;\">\n",
              "\n",
              "  <svg xmlns=\"http://www.w3.org/2000/svg\" height=\"24px\"viewBox=\"0 0 24 24\"\n",
              "       width=\"24px\">\n",
              "    <path d=\"M7,19H8.4L18.45,9,17,7.55,7,17.6ZM5,21V16.75L18.45,3.32a2,2,0,0,1,2.83,0l1.4,1.43a1.91,1.91,0,0,1,.58,1.4,1.91,1.91,0,0,1-.58,1.4L9.25,21ZM18.45,9,17,7.55Zm-12,3A5.31,5.31,0,0,0,4.9,8.1,5.31,5.31,0,0,0,1,6.5,5.31,5.31,0,0,0,4.9,4.9,5.31,5.31,0,0,0,6.5,1,5.31,5.31,0,0,0,8.1,4.9,5.31,5.31,0,0,0,12,6.5,5.46,5.46,0,0,0,6.5,12Z\"/>\n",
              "  </svg>\n",
              "    </button>\n",
              "    <script>\n",
              "      (() => {\n",
              "      const buttonEl =\n",
              "        document.querySelector('#id_d9c50dd4-6403-4821-b59b-fd12afdc1d0b button.colab-df-generate');\n",
              "      buttonEl.style.display =\n",
              "        google.colab.kernel.accessAllowed ? 'block' : 'none';\n",
              "\n",
              "      buttonEl.onclick = () => {\n",
              "        google.colab.notebook.generateWithVariable('Datos_V');\n",
              "      }\n",
              "      })();\n",
              "    </script>\n",
              "  </div>\n",
              "\n",
              "    </div>\n",
              "  </div>\n"
            ],
            "application/vnd.google.colaboratory.intrinsic+json": {
              "type": "dataframe",
              "variable_name": "Datos_V",
              "summary": "{\n  \"name\": \"Datos_V\",\n  \"rows\": 252,\n  \"fields\": [\n    {\n      \"column\": \"Date\",\n      \"properties\": {\n        \"dtype\": \"date\",\n        \"min\": \"2024-01-02 00:00:00\",\n        \"max\": \"2024-12-31 00:00:00\",\n        \"num_unique_values\": 252,\n        \"samples\": [\n          \"2024-08-28 00:00:00\",\n          \"2024-01-10 00:00:00\",\n          \"2024-06-11 00:00:00\"\n        ],\n        \"semantic_type\": \"\",\n        \"description\": \"\"\n      }\n    },\n    {\n      \"column\": \"Close\",\n      \"properties\": {\n        \"dtype\": \"number\",\n        \"std\": 16.117629806732268,\n        \"min\": 252.7516632080078,\n        \"max\": 320.9100036621094,\n        \"num_unique_values\": 251,\n        \"samples\": [\n          260.64447021484375,\n          262.5531311035156,\n          270.206298828125\n        ],\n        \"semantic_type\": \"\",\n        \"description\": \"\"\n      }\n    },\n    {\n      \"column\": \"High\",\n      \"properties\": {\n        \"dtype\": \"number\",\n        \"std\": 16.19726088400056,\n        \"min\": 256.19820465003716,\n        \"max\": 321.6199951171875,\n        \"num_unique_values\": 251,\n        \"samples\": [\n          261.0037724511151,\n          263.35698428297405,\n          270.43587335909905\n        ],\n        \"semantic_type\": \"\",\n        \"description\": \"\"\n      }\n    },\n    {\n      \"column\": \"Low\",\n      \"properties\": {\n        \"dtype\": \"number\",\n        \"std\": 15.99022022434246,\n        \"min\": 251.7157055986878,\n        \"max\": 319.4599914550781,\n        \"num_unique_values\": 251,\n        \"samples\": [\n          258.2490001343654,\n          260.8660146384824,\n          267.38168227235826\n        ],\n        \"semantic_type\": \"\",\n        \"description\": \"\"\n      }\n    },\n    {\n      \"column\": \"Open\",\n      \"properties\": {\n        \"dtype\": \"number\",\n        \"std\": 16.051350069452862,\n        \"min\": 254.39523021593365,\n        \"max\": 319.7699890136719,\n        \"num_unique_values\": 250,\n        \"samples\": [\n          254.59445020146183,\n          262.96002461063733,\n          276.9171861677245\n        ],\n        \"semantic_type\": \"\",\n        \"description\": \"\"\n      }\n    },\n    {\n      \"column\": \"Volume\",\n      \"properties\": {\n        \"dtype\": \"number\",\n        \"std\": 3692481,\n        \"min\": 2684100,\n        \"max\": 27810900,\n        \"num_unique_values\": 252,\n        \"samples\": [\n          5455100,\n          4355800,\n          6244600\n        ],\n        \"semantic_type\": \"\",\n        \"description\": \"\"\n      }\n    }\n  ]\n}"
            }
          },
          "metadata": {},
          "execution_count": 26
        }
      ]
    },
    {
      "cell_type": "code",
      "source": [
        "#Boxplot de la cotización de cierre de Google con estadísticas\n",
        "\n",
        "#Cálculo de las medidas que aparecen en un Boxplot\n",
        "m1 = round([Datos_V['Close'].median()][0],1)\n",
        "p25 = round([np.percentile(Datos_V['Close'], 25)][0],1)\n",
        "p75 = round([np.percentile(Datos_V['Close'], 75)][0],1)\n",
        "med=round([Datos_V['Close'].mean()][0],1)\n",
        "min=round([Datos_V['Close'].min()][0],1)\n",
        "max=round([Datos_V['Close'].max()][0],1)\n",
        "\n",
        "sns.set(rc = {'figure.figsize':(10,10)})\n",
        "\n",
        "g = sns.boxplot(data=Datos_V['Close'], color='white', orient='v')\n",
        "\n",
        "for xtick in g.get_xticks():\n",
        "    g.text(xtick,min,min,horizontalalignment='right',color='black',weight='semibold', fontsize=32)\n",
        "\n",
        "for xtick in g.get_xticks():\n",
        "    g.text(xtick,m1,'Mediana:'+' '+str(m1),horizontalalignment='right',color='black',weight='semibold', fontsize=32)\n",
        "\n",
        "for xtick in g.get_xticks():\n",
        "    g.text(xtick,med,'Media:'+' '+str(med),horizontalalignment='right',color='black',weight='semibold', fontsize=32)\n",
        "\n",
        "for xtick in g.get_xticks():\n",
        "    g.text(xtick,p25,'Q1:'+' '+str(p25),horizontalalignment='right',color='black',weight='semibold', fontsize=32)\n",
        "\n",
        "for xtick in g.get_xticks():\n",
        "    g.text(xtick,p75,'Q3:'+' '+str(p75),horizontalalignment='right',color='black',weight='semibold', fontsize=32)\n",
        "\n",
        "for xtick in g.get_xticks():\n",
        "    g.text(xtick,max,max,horizontalalignment='right',color='black',weight='semibold', fontsize=32)\n",
        "\n",
        "g.set_title(\"Cotización de cierre de Visa\", fontsize=32)\n",
        "g.set_axis_off()"
      ],
      "metadata": {
        "id": "mMUGVO6vS20v",
        "colab": {
          "base_uri": "https://localhost:8080/",
          "height": 850
        },
        "outputId": "191c274c-26b1-4f9f-ae54-bf6d8b7725ec"
      },
      "execution_count": null,
      "outputs": [
        {
          "output_type": "display_data",
          "data": {
            "text/plain": [
              "<Figure size 1000x1000 with 1 Axes>"
            ],
            "image/png": "[encoded data removed]"
          },
          "metadata": {}
        }
      ]
    },
    {
      "cell_type": "markdown",
      "source": [
        "De este modo se puede observar:\n",
        "\n",
        "- Existencia de valores atípicos\n",
        "- El valor máximo es atípico\n",
        "- Asimetría a derecha"
      ],
      "metadata": {
        "id": "U3t197txGJvC"
      }
    },
    {
      "cell_type": "code",
      "source": [
        "#Para confirmar la asimetría a derecha, se calcula el coeficiente de asimetría\n",
        "Datos_V['Close'].skew()\n",
        "\n",
        "#que resulta ser mayor a 0"
      ],
      "metadata": {
        "colab": {
          "base_uri": "https://localhost:8080/"
        },
        "id": "NoeOeYSCKKAF",
        "outputId": "1bbd977f-391d-4729-9788-35e359894d83"
      },
      "execution_count": null,
      "outputs": [
        {
          "output_type": "execute_result",
          "data": {
            "text/plain": [
              "1.0978381375048067"
            ]
          },
          "metadata": {},
          "execution_count": 44
        }
      ]
    },
    {
      "cell_type": "markdown",
      "source": [
        "Para poder evaluar si los outliers son severos o moderados, se agregan los umbrales"
      ],
      "metadata": {
        "id": "CAVJQSyBMRZG"
      }
    },
    {
      "cell_type": "code",
      "source": [
        "#Boxplot de la cotización de cierre de Google con estadísticas\n",
        "\n",
        "#Cálculo de las medidas que aparecen en un Boxplot\n",
        "m1 = round([Datos_V['Close'].median()][0],1)\n",
        "p25 = round([np.percentile(Datos_V['Close'], 25)][0],1)\n",
        "p75 = round([np.percentile(Datos_V['Close'], 75)][0],1)\n",
        "med=round([Datos_V['Close'].mean()][0],1)\n",
        "min=round([Datos_V['Close'].min()][0],1)\n",
        "max=round([Datos_V['Close'].max()][0],1)\n",
        "\n",
        "sns.set(rc = {'figure.figsize':(10,10)})\n",
        "plt.axhline(p75+3*(p75-p25), color = 'black', linestyle='dotted', lw= 2.5) #umbral superior\n",
        "plt.axhline(p25-3*(p75-p25), color = 'black', linestyle='dotted', lw= 2.5) #umbral inferior\n",
        "\n",
        "g = sns.boxplot(data=Datos_V['Close'], color='white', orient='v')\n",
        "\n",
        "for xtick in g.get_xticks():\n",
        "    g.text(xtick,p75+3*(p75-p25),'Umbral Sup:'+' '+str(p75+3*(p75-p25)),horizontalalignment='right',color='black',weight='semibold', fontsize=32)\n",
        "\n",
        "for xtick in g.get_xticks():\n",
        "    g.text(xtick,min,'Mínimo:'+' '+str(min),horizontalalignment='right',color='black',weight='semibold', fontsize=32)\n",
        "\n",
        "for xtick in g.get_xticks():\n",
        "    g.text(xtick,m1,'Mediana:'+' '+str(m1),horizontalalignment='right',color='black',weight='semibold', fontsize=32)\n",
        "\n",
        "for xtick in g.get_xticks():\n",
        "    g.text(xtick,med,'Media:'+' '+str(med),horizontalalignment='right',color='black',weight='semibold', fontsize=32)\n",
        "\n",
        "for xtick in g.get_xticks():\n",
        "    g.text(xtick,p25,'Q1:'+' '+str(p25),horizontalalignment='right',color='black',weight='semibold', fontsize=32)\n",
        "\n",
        "for xtick in g.get_xticks():\n",
        "    g.text(xtick,p75,'Q3:'+' '+str(p75),horizontalalignment='right',color='black',weight='semibold', fontsize=32)\n",
        "\n",
        "for xtick in g.get_xticks():\n",
        "    g.text(xtick,max,'Máximo:'+' '+str(max),horizontalalignment='right',color='black',weight='semibold', fontsize=32)\n",
        "\n",
        "for xtick in g.get_xticks():\n",
        "    g.text(xtick,p25-3*(p75-p25),'Umbral Inf:'+' '+str(p25-3*(p75-p25)),horizontalalignment='right',color='black',weight='semibold', fontsize=32)\n",
        "\n",
        "\n",
        "g.set_title(\"Cotización de cierre de Visa\", fontsize=32)\n",
        "g.set_axis_off()"
      ],
      "metadata": {
        "colab": {
          "base_uri": "https://localhost:8080/",
          "height": 850
        },
        "id": "E5w0r9M7Mb_u",
        "outputId": "c552e29b-812f-478f-ea96-66fa91a8bb31"
      },
      "execution_count": null,
      "outputs": [
        {
          "output_type": "display_data",
          "data": {
            "text/plain": [
              "<Figure size 1000x1000 with 1 Axes>"
            ],
            "image/png": "[encoded data removed]"
          },
          "metadata": {}
        }
      ]
    },
    {
      "cell_type": "markdown",
      "source": [
        "Entonces, todos los outliers son moderados"
      ],
      "metadata": {
        "id": "n3llLsRpNHw2"
      }
    },
    {
      "cell_type": "code",
      "source": [
        "sns.set(rc = {'figure.figsize':(10,10)})\n",
        "sns.set_style(style='white')\n",
        "sns.histplot(x=Datos_V['Close'], color=\"red\",edgecolor=\".3\",linewidth=.5,stat='probability', bins=10) #histograma con densidad\n",
        "plt.title('Histograma de la distribución de la cotización de Visa')\n",
        "plt.show()"
      ],
      "metadata": {
        "colab": {
          "base_uri": "https://localhost:8080/",
          "height": 881
        },
        "id": "9SVjyNrNG9ph",
        "outputId": "428c8d1c-3634-445d-84ab-c66a8fd6b4ad"
      },
      "execution_count": null,
      "outputs": [
        {
          "output_type": "display_data",
          "data": {
            "text/plain": [
              "<Figure size 1000x1000 with 1 Axes>"
            ],
            "image/png": "[encoded data removed]"
          },
          "metadata": {}
        }
      ]
    },
    {
      "cell_type": "markdown",
      "source": [
        "Se observa:\n",
        "- Existencia de outliers (por barras de la derecha)\n",
        "- Asimetría a derecha\n",
        "- Distribución platicúrtica"
      ],
      "metadata": {
        "id": "yMTMqnpNKEnH"
      }
    },
    {
      "cell_type": "code",
      "source": [
        "#Para confirmar que la distribución es platicúrtica, se calcula el coeficiente de curtosis\n",
        "\n",
        "Datos_V['Close'].kurtosis()\n",
        "\n",
        "#que resulta ser menor a 3"
      ],
      "metadata": {
        "colab": {
          "base_uri": "https://localhost:8080/"
        },
        "id": "EwVMJlL3Hi5g",
        "outputId": "d782f996-e941-42a8-a658-3b620f13ec02"
      },
      "execution_count": null,
      "outputs": [
        {
          "output_type": "execute_result",
          "data": {
            "text/plain": [
              "0.4154692367460542"
            ]
          },
          "metadata": {},
          "execution_count": 45
        }
      ]
    },
    {
      "cell_type": "markdown",
      "source": [
        "¿Es multimodal la distribución? No, ya que posee un único valor modal"
      ],
      "metadata": {
        "id": "mYq8YagBLlBN"
      }
    },
    {
      "cell_type": "code",
      "source": [
        "Datos_V['Close'].mode()"
      ],
      "metadata": {
        "colab": {
          "base_uri": "https://localhost:8080/",
          "height": 115
        },
        "id": "IUKUZnanK0qi",
        "outputId": "53ee5457-0cd6-40b8-9290-5c9d25a293bd"
      },
      "execution_count": null,
      "outputs": [
        {
          "output_type": "execute_result",
          "data": {
            "text/plain": [
              "0    309.899994\n",
              "Name: Close, dtype: float64"
            ],
            "text/html": [
              "<div>\n",
              "<style scoped>\n",
              "    .dataframe tbody tr th:only-of-type {\n",
              "        vertical-align: middle;\n",
              "    }\n",
              "\n",
              "    .dataframe tbody tr th {\n",
              "        vertical-align: top;\n",
              "    }\n",
              "\n",
              "    .dataframe thead th {\n",
              "        text-align: right;\n",
              "    }\n",
              "</style>\n",
              "<table border=\"1\" class=\"dataframe\">\n",
              "  <thead>\n",
              "    <tr style=\"text-align: right;\">\n",
              "      <th></th>\n",
              "      <th>Close</th>\n",
              "    </tr>\n",
              "  </thead>\n",
              "  <tbody>\n",
              "    <tr>\n",
              "      <th>0</th>\n",
              "      <td>309.899994</td>\n",
              "    </tr>\n",
              "  </tbody>\n",
              "</table>\n",
              "</div><br><label><b>dtype:</b> float64</label>"
            ]
          },
          "metadata": {},
          "execution_count": 46
        }
      ]
    },
    {
      "cell_type": "markdown",
      "source": [
        "¿La media de la cotización de Visa resulta representativa? Si, el coeficiente de variación es muy cercano a cero."
      ],
      "metadata": {
        "id": "PcIYn_eOOD0Z"
      }
    },
    {
      "cell_type": "code",
      "source": [
        "Datos_V['Close'].std()/Datos_V['Close'].mean()"
      ],
      "metadata": {
        "colab": {
          "base_uri": "https://localhost:8080/"
        },
        "id": "vmsHMqxnLrPS",
        "outputId": "138ad7cd-b7ae-4724-ad51-dd4ef91012e7"
      },
      "execution_count": null,
      "outputs": [
        {
          "output_type": "execute_result",
          "data": {
            "text/plain": [
              "0.05769423299898698"
            ]
          },
          "metadata": {},
          "execution_count": 54
        }
      ]
    }
  ]
}