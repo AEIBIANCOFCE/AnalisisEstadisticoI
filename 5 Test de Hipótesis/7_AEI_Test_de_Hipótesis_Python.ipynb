{
  "nbformat": 4,
  "nbformat_minor": 0,
  "metadata": {
    "colab": {
      "provenance": [],
      "collapsed_sections": [
        "6UGnzq6vC9YW",
        "jZyIYN7sIFQb",
        "rlXvRC1vyWLL",
        "oKWMD3al2Y0b",
        "WQ6ia4_u3vbc",
        "4Cc5YGzm4ycb",
        "Xsm274opppTw",
        "-idwgC6L51W-",
        "ZtiNtkxz7-yz",
        "u6qtV9yd53p8"
      ],
      "toc_visible": true,
      "include_colab_link": true
    },
    "kernelspec": {
      "name": "python3",
      "display_name": "Python 3"
    },
    "language_info": {
      "name": "python"
    }
  },
  "cells": [
    {
      "cell_type": "markdown",
      "metadata": {
        "id": "view-in-github",
        "colab_type": "text"
      },
      "source": [
        "<a href=\"https://colab.research.google.com/github/AEIBIANCOFCE/AnalisisEstadisticoI/blob/main/5%20Test%20de%20Hip%C3%B3tesis/7_AEI_Test_de_Hip%C3%B3tesis_Python.ipynb\" target=\"_parent\"><img src=\"https://colab.research.google.com/assets/colab-badge.svg\" alt=\"Open In Colab\"/></a>"
      ]
    },
    {
      "cell_type": "markdown",
      "source": [
        "<figure>\n",
        "<center>\n",
        "<img src='https://www.economicas.uba.ar/wp-content/uploads/2020/08/cropped-logo_FCE.png' />\n",
        "</figure>"
      ],
      "metadata": {
        "id": "drvDSfWaaYWS"
      }
    },
    {
      "cell_type": "markdown",
      "source": [
        "# **Universidad de Buenos Aires**\n",
        "## **Facultad de Ciencias Económicas**\n",
        "\n",
        "### **Análisis Estadístico I**\n",
        "\n",
        "### Cátedra: Bianco\n",
        "\n",
        "#### **Test de Hipótesis con Python**\n",
        "\n",
        "***Material elaborado por la profesora Natalia Salaberry***"
      ],
      "metadata": {
        "id": "eMuYyGo7uqxJ"
      }
    },
    {
      "cell_type": "markdown",
      "source": [
        "###**Librerías**"
      ],
      "metadata": {
        "id": "6UGnzq6vC9YW"
      }
    },
    {
      "cell_type": "code",
      "source": [
        "import scipy.stats as ss\n",
        "import numpy as np"
      ],
      "metadata": {
        "id": "FJi1cX5dDBkr"
      },
      "execution_count": null,
      "outputs": []
    },
    {
      "cell_type": "markdown",
      "source": [
        "## **Para una población**"
      ],
      "metadata": {
        "id": "jZyIYN7sIFQb"
      }
    },
    {
      "cell_type": "markdown",
      "source": [
        "####**TH para la media con varianza poblacional conocida**\n",
        "\n"
      ],
      "metadata": {
        "id": "rlXvRC1vyWLL"
      }
    },
    {
      "cell_type": "markdown",
      "source": [
        "Sea $X \\sim N(\\mu ; \\sigma )$\n",
        "\n",
        "${Z_{obs} =} {{\\bar{X} - \\mu } \\over {\\sigma \\over \\sqrt n}}$ $\\sim N(0 ; 1)$\n",
        "\n",
        "Hipótesis y Criterio de decisión (C.D) para rechazar H0\n",
        "\n",
        "Prueba unilateral a derecha\n",
        "\\begin{equation}\n",
        "\\left\\{\n",
        "\t       \\begin{array}{cc}\n",
        "\t\t H0: \\mu \\leq a     \\\\\n",
        "\t\t H1: \\mu > a   \n",
        "\t       \\end{array}\n",
        " \\thinspace C.D: si \\thinspace Z_{obs} > Z_{1-\\alpha} \\thinspace ó \\thinspace p-valor < \\alpha \\thinspace entonces \\thinspace rechazo \\thinspace H0\n",
        "\t     \\right.\n",
        "\\end{equation}\n",
        "\n",
        "Prueba unilateral a izquierda\n",
        "\n",
        "\\begin{equation}\n",
        "\\left\\{\n",
        "\t       \\begin{array}{cc}\n",
        "\t\t H0: \\mu \\geq a    \\\\\n",
        "\t\t H1: \\mu < a        \n",
        "\t       \\end{array}\n",
        "\\thinspace C.D: si \\thinspace Z_{obs} < Z_{\\alpha} \\thinspace ó \\thinspace p-valor < \\alpha \\thinspace entonces \\thinspace rechazo \\thinspace H0\n",
        "\t     \\right.\n",
        "\\end{equation}\n",
        "\n",
        "Prueba bilateral\n",
        "\n",
        "\\begin{equation}\n",
        "\\left\\{\n",
        "\t       \\begin{array}{cc}\n",
        "\t\t H0: \\mu = a     \\\\\n",
        "\t\t H1: \\mu \\neq a        \n",
        "\t       \\end{array}\n",
        "\t\\thinspace C.D: si \\thinspace |Z_{obs}| > Z_{1-{\\alpha \\over 2}} \\thinspace ó \\thinspace p-valor < \\alpha \\thinspace entonces \\thinspace rechazo \\thinspace H0\n",
        "\t     \\right.\n",
        "\\end{equation}"
      ],
      "metadata": {
        "id": "-vDOJfKqXadW"
      }
    },
    {
      "cell_type": "markdown",
      "source": [
        "Ejemplo: Sea X con distribución normal con media 14 y un desvío estándar de 0.8. Se toma una muestra de 16 y se obtuvo una media de 13.5. Se quiere decidir si la media poblacional es menor a 14 con α = 0.05"
      ],
      "metadata": {
        "id": "NdZHfYU_AtgB"
      }
    },
    {
      "cell_type": "markdown",
      "source": [
        "\\begin{equation}\n",
        "\\left\\{\n",
        "\t       \\begin{array}{cc}\n",
        "\t\t H0: \\mu \\geq 14    \\\\\n",
        "\t\t H1: \\mu < 14        \n",
        "\t       \\end{array}\n",
        "\\thinspace C.D: si \\thinspace Z_{obs} < Z_{\\alpha} \\thinspace ó \\thinspace p-valor < \\alpha \\thinspace entonces \\thinspace rechazo \\thinspace H0\n",
        "\t     \\right.\n",
        "\\end{equation}"
      ],
      "metadata": {
        "id": "WjI0wdkoTqzc"
      }
    },
    {
      "cell_type": "code",
      "source": [
        "media_muestral= 13.5\n",
        "mu= 14\n",
        "sigma= 0.8\n",
        "n= 16\n",
        "alfa= 0.05\n",
        "simbolo_H1='<' #las opciones de símbolo son '<' '>' ó '' para distinto\n",
        "\n",
        "\n",
        "Zobs=round((media_muestral-mu) / (sigma/np.sqrt(n)),4)\n",
        "if simbolo_H1=='>':\n",
        "  Zalfa  = round(ss.norm.ppf(1-alfa, 0,1),4)\n",
        "  if Zobs > Zalfa:\n",
        "    respuesta='Como se cumple C.D ya que ' + 'Zobs='+str(Zobs)+' es mayor que '+ 'Z_1-alfa='+str(Zalfa)+' entonces se rechaza H0'\n",
        "  else:\n",
        "    respuesta='Como no se cumple C.D ya que ' + 'Zobs='+str(Zobs)+' es menor que '+ 'Z_1-alfa='+str(Zalfa)+' entonces no se rechaza H0'\n",
        "\n",
        "    p_valor=1-ss.norm.cdf(Zobs, 0,1)\n",
        "    if p_valor < alfa:\n",
        "      respuesta1='Como se cumple C.D ya que ' + 'P-valor='+str(p_valor)+  ' es menor que '+ 'alfa='+ str(alfa)+' entonces se rechaza H0'\n",
        "    else:\n",
        "      respuesta1='Como no se cumple C.D ya que ' + 'P-valor='+str(p_valor)+  ' es mayor que '+ 'alfa='+ str(alfa)+' entonces no se rechaza H0'\n",
        "\n",
        "elif simbolo_H1=='<':\n",
        "  Zalfa  = round(ss.norm.ppf(alfa, 0,1),4)\n",
        "  if Zobs < Zalfa:\n",
        "    respuesta='Como se cumple C.D ya que ' + 'Zobs='+str(Zobs)+' es menor que '+ 'Zalfa='+str(Zalfa)+' entonces se rechaza H0'\n",
        "  else:\n",
        "    respuesta='Como no se cumple C.D ya que ' + 'Zobs='+str(Zobs)+' es mayor que '+ 'Zalfa='+str(Zalfa)+' entonces no se rechaza H0'\n",
        "\n",
        "  p_valor=ss.norm.cdf(Zobs, 0,1)\n",
        "  if p_valor < alfa:\n",
        "    respuesta1='Como se cumple C.D ya que ' + 'P-valor='+str(p_valor)+  ' es menor que '+ 'alfa='+ str(alfa)+' entonces se rechaza H0'\n",
        "  else:\n",
        "    respuesta1='Como no se cumple C.D ya que ' + 'P-valor='+str(p_valor)+  ' es mayor que '+ 'alfa='+ str(alfa)+' entonces no se rechaza H0'\n",
        "\n",
        "else:\n",
        "  Zalfa  = round(ss.norm.ppf(1-alfa/2, 0,1),4)\n",
        "  if np.abs(Zobs) > Zalfa:\n",
        "    respuesta='Como se cumple C.D ya que ' + '|Zobs|='+'|'+str(Zobs)+'|'+' es mayor que '+ 'Z_1-alfa/2='+str(Zalfa)+' entonces se rechaza H0'\n",
        "  else:\n",
        "    respuesta='Como no se cumple C.D ya que ' + '|Zobs|='+'|'+str(Zobs)+'|'+' es menor que '+ 'Z_1-alfa/2='+str(Zalfa)+' entonces no se rechaza H0'\n",
        "\n",
        "  p_valor=2*(1-ss.norm.cdf(abs(Zobs), 0,1))\n",
        "  if p_valor < alfa:\n",
        "    respuesta1='Como se cumple C.D ya que ' + 'P-valor='+str(p_valor)+  ' es menor que '+ 'alfa='+ str(alfa)+' entonces se rechaza H0'\n",
        "  else:\n",
        "    respuesta1='Como no se cumple C.D ya que ' + 'P-valor='+str(p_valor)+  ' es mayor que '+ 'alfa='+ str(alfa)+' entonces no se rechaza H0'\n",
        "\n",
        "respuesta, respuesta1"
      ],
      "metadata": {
        "id": "gORDpJTVqaNC",
        "colab": {
          "base_uri": "https://localhost:8080/"
        },
        "outputId": "9c8a5c0f-5670-4af2-d9cf-a99e4c6d92da"
      },
      "execution_count": null,
      "outputs": [
        {
          "output_type": "execute_result",
          "data": {
            "text/plain": [
              "('Como se cumple C.D ya que Zobs=-2.5 es menor que Zalfa=-1.6449 entonces se rechaza H0',\n",
              " 'Como se cumple C.D ya que P-valor=0.006209665325776132 es menor que alfa=0.05 entonces se rechaza H0')"
            ]
          },
          "metadata": {},
          "execution_count": 3
        }
      ]
    },
    {
      "cell_type": "markdown",
      "source": [
        "Se verifica este resultado del siguiente modo:\n",
        "\n",
        "Dados $\\bar{X}=13.5$ $\\sigma=0.8$ $N=16$ y $\\alpha=5\\%$\n",
        "\n",
        "Luego:\n",
        "\n",
        "$Z_{\\alpha}=Z_{0.05}= - 1.65$\n",
        "\n",
        "\n",
        "${Z_{obs} =} {{\\bar{X} - \\mu } \\over {\\sigma \\over \\sqrt n}}={{13.5 - 14 } \\over {0.8 \\over \\sqrt 16}}={-2.5}$\n",
        "\n",
        "Como ${Z_{obs} =}{-2.5}$ es menor que $Z_{0.05}= - 1.65$ se cumple el criterio de decisión y por lo tanto se rechaza H0\n",
        "\n",
        "Como $p_{valor}= p(Z < -2.5)=1-p(Z < 2.5)=1-0.9938=0.0062$ es menor que $\\alpha = 0.05$  se cumple el criterio de decisión y por lo tanto se rechaza H0"
      ],
      "metadata": {
        "id": "hQmnbupzv9Ks"
      }
    },
    {
      "cell_type": "markdown",
      "source": [
        "####**TH para la media con varianza poblacional desconocida**\n",
        "\n"
      ],
      "metadata": {
        "id": "oKWMD3al2Y0b"
      }
    },
    {
      "cell_type": "markdown",
      "source": [
        "Sea $X \\sim N(\\mu ; \\sigma )$\n",
        "\n",
        "${t_{obs} =} {{\\bar{X} - \\mu } \\over {S \\over \\sqrt n}}$ $\\sim t_{n-1}$\n",
        "\n",
        "Hipótesis y Criterio de decisión para rechazar H0 (C.D)\n",
        "\n",
        "Prueba unilateral a derecha\n",
        "\\begin{equation}\n",
        "\\left\\{\n",
        "\t       \\begin{array}{cc}\n",
        "\t\t H0: \\mu \\leq a     \\\\\n",
        "\t\t H1: \\mu > a\n",
        "\t       \\end{array}\n",
        "\\thinspace C.D: si \\thinspace t_{obs} > t_{n-1;1-\\alpha} \\thinspace ó \\thinspace p-valor < \\alpha \\thinspace entonces \\thinspace rechazo \\thinspace H0\n",
        "\t     \\right.\n",
        "\\end{equation}\n",
        "\n",
        "Prueba unilateral a izquierda\n",
        "\n",
        "\\begin{equation}\n",
        "\\left\\{\n",
        "\t       \\begin{array}{cc}\n",
        "\t\t H0: \\mu \\geq a     \\\\\n",
        "\t\t H1: \\mu < a\n",
        "\t       \\end{array}\n",
        "\\thinspace C.D: si \\thinspace t_{obs} < t_{n-1;\\alpha} \\thinspace ó \\thinspace p-valor < \\alpha \\thinspace entonces \\thinspace rechazo \\thinspace H0\n",
        "\t     \\right.\n",
        "\\end{equation}\n",
        "\n",
        "Prueba bilateral\n",
        "\n",
        "\\begin{equation}\n",
        "\\left\\{\n",
        "\t       \\begin{array}{cc}\n",
        "\t\t H0: \\mu = a     \\\\\n",
        "\t\t H1: \\mu \\neq a\n",
        "\t       \\end{array}\n",
        "\\thinspace C.D: si \\thinspace |t_{obs}| > t_{n-1;1-{\\alpha \\over 2}} \\thinspace ó \\thinspace p-valor < \\alpha \\thinspace entonces \\thinspace rechazo \\thinspace H0\n",
        "\t     \\right.\n",
        "\\end{equation}"
      ],
      "metadata": {
        "id": "pdjK9B_XwDvT"
      }
    },
    {
      "cell_type": "markdown",
      "source": [
        "Ejemplo: Sea X con distribución normal con media 31. Se toma una muestra de tamaño 20 y se obtuvo una media de 35 y un desvío de 2.5. Se quiere decidir si la media poblacional es mayor a 31 con α = 0.05"
      ],
      "metadata": {
        "id": "9PxGjJsqEdLn"
      }
    },
    {
      "cell_type": "markdown",
      "source": [
        "\\begin{equation}\n",
        "\\left\\{\n",
        "\t       \\begin{array}{cc}\n",
        "\t\t H0: \\mu \\leq 31     \\\\\n",
        "\t\t H1: \\mu > 31\n",
        "\t       \\end{array}\n",
        "\\thinspace C.D: si \\thinspace t_{obs} > t_{n-1;1-\\alpha} \\thinspace ó \\thinspace p-valor < \\alpha \\thinspace entonces \\thinspace rechazo \\thinspace H0\n",
        "\t     \\right.\n",
        "\\end{equation}"
      ],
      "metadata": {
        "id": "lvuweDckEdLp"
      }
    },
    {
      "cell_type": "code",
      "source": [
        "media_muestral=35\n",
        "mu= 31\n",
        "S= 2.5\n",
        "n= 20\n",
        "alfa= 0.05\n",
        "simbolo_H1='>'#las opciones de símbolo son '<' '>' ó '' para distinto\n",
        "\n",
        "tobs=round((media_muestral-mu) / (S/np.sqrt(n)),4)\n",
        "if simbolo_H1=='>':\n",
        "  talfa  = round(ss.t.ppf(1-alfa, n-1),4)\n",
        "  if tobs > talfa:\n",
        "    respuesta='Como se cumple C.D ya que ' + 'tobs='+str(tobs)+' es mayor que '+ 't_1-alfa;n-1='+str(talfa)+' entonces se rechaza H0'\n",
        "  else:\n",
        "    respuesta='Como no se cumple C.D ya que ' + 'tobs='+str(tobs)+' es menor que '+ 't_1-alfa;n-1='+str(talfa)+' entonces no se rechaza H0'\n",
        "\n",
        "  p_valor=round(1-ss.t.cdf(tobs, n-1),8)\n",
        "  if p_valor < alfa:\n",
        "    respuesta1='Como se cumple C.D ya que ' + 'P-valor='+str(p_valor)+  ' es menor que '+ 'alfa='+ str(alfa)+' entonces se rechaza H0'\n",
        "  else:\n",
        "    respuesta1='Como no se cumple C.D ya que ' + 'P-valor='+str(p_valor)+  ' es mayor que '+ 'alfa='+ str(alfa)+' entonces no se rechaza H0'\n",
        "\n",
        "elif simbolo_H1=='<':\n",
        "  talfa  = round(ss.t.ppf(alfa, n-1),4)\n",
        "  if tobs < talfa:\n",
        "    respuesta='Como se cumple C.D ya que ' + 'tobs='+str(tobs)+' es menor que '+ 'talfa;n-1='+str(talfa)+' entonces se rechaza H0'\n",
        "  else:\n",
        "    respuesta='Como no se cumple C.D ya que ' + 'tobs='+str(tobs)+' es mayor que '+ 'talfa;n-1='+str(talfa)+' entonces no se rechaza H0'\n",
        "\n",
        "  p_valor=round(ss.t.cdf(tobs, n-1),8)\n",
        "  if p_valor < alfa:\n",
        "    respuesta1='Como se cumple C.D ya que ' + 'P-valor='+str(p_valor)+  ' es menor que '+ 'alfa='+ str(alfa)+' entonces se rechaza H0'\n",
        "  else:\n",
        "    respuesta1='Como no se cumple C.D ya que ' + 'P-valor='+str(p_valor)+  ' es mayor que '+ 'alfa='+ str(alfa)+' entonces no se rechaza H0'\n",
        "\n",
        "else:\n",
        "  talfa  = round(ss.t.ppf(1-alfa/2, n-1),4)\n",
        "  if np.abs(tobs) > talfa:\n",
        "    respuesta='Como se cumple C.D ya que ' + '|tobs|='+'|'+str(tobs)+'|'+' es mayor que '+ 't_1-alfa/2;n-1='+str(talfa)+' entonces se rechaza H0'\n",
        "  else:\n",
        "    respuesta='Como no se cumple C.D ya que ' + '|tobs|='+'|'+str(tobs)+'|'+' es menor que '+ 't_1-alfa/2;n-1='+str(talfa)+' entonces no se rechaza H0'\n",
        "\n",
        "  p_valor=2*round(1-ss.t.cdf(abs(tobs), n-1),8)\n",
        "  if p_valor < alfa:\n",
        "    respuesta1='Como se cumple C.D ya que ' + 'P-valor='+str(p_valor)+  ' es menor que '+ 'alfa='+ str(alfa)+' entonces se rechaza H0'\n",
        "  else:\n",
        "    respuesta1='Como no se cumple C.D ya que ' + 'P-valor='+str(p_valor)+  ' es mayor que '+ 'alfa='+ str(alfa)+' entonces no se rechaza H0'\n",
        "\n",
        "respuesta, respuesta1"
      ],
      "metadata": {
        "id": "yEQxOBKiwDAY",
        "colab": {
          "base_uri": "https://localhost:8080/"
        },
        "outputId": "00aa6eb8-1bb5-491b-b30e-9ceccccf245d"
      },
      "execution_count": null,
      "outputs": [
        {
          "output_type": "execute_result",
          "data": {
            "text/plain": [
              "('Como se cumple C.D ya que tobs=7.1554 es mayor que t_1-alfa;n-1=1.7291 entonces se rechaza H0',\n",
              " 'Como se cumple C.D ya que P-valor=4.2e-07 es menor que alfa=0.05 entonces se rechaza H0')"
            ]
          },
          "metadata": {},
          "execution_count": 4
        }
      ]
    },
    {
      "cell_type": "markdown",
      "source": [
        "Se verifica este resultado del siguiente modo:\n",
        "\n",
        "Dados $\\bar{X}=35$ $S=2.5$ $N=20$ y $\\alpha=5\\%$\n",
        "\n",
        "Luego:\n",
        "\n",
        "$t_{1-{\\alpha};n-1}=t_{1-{0.05};20-1}=t_{0.95;19} = 1.73$\n",
        "\n",
        "${t_{obs} =} {{\\bar{X} - \\mu } \\over {S \\over \\sqrt n}}={{35 - 31} \\over {2.5 \\over \\sqrt 20}}={7.1554}$\n",
        "\n",
        "Como $|{t_{obs}| =}{7.1554}$ es menor que $t_{0.95:19}= 1.73$ se cumple el criterio de decisión y por lo tanto se rechaza H0\n",
        "\n",
        "Como $p_{valor}= p(t > 7.1554)=1-p(t < 7.1554)=1-1=0$ es menor que $\\alpha = 0.05$  se cumple el criterio de decisión y por lo tanto se rechaza H0"
      ],
      "metadata": {
        "id": "PEF16TUzEdLr"
      }
    },
    {
      "cell_type": "markdown",
      "source": [
        "####**TH para la varianza**\n",
        "\n"
      ],
      "metadata": {
        "id": "WQ6ia4_u3vbc"
      }
    },
    {
      "cell_type": "markdown",
      "source": [
        "Sea $X \\sim N(\\mu ; \\sigma )$\n",
        "\n",
        "${\\chi_{obs} =} {{(n-1)*S^2 } \\over {\\sigma^2}}$ $\\sim \\chi^2_{n-1}$\n",
        "\n",
        "Hipótesis y Criterio de decisión para rechazar H0 (C.D)\n",
        "\n",
        "Prueba unilateral a derecha\n",
        "\n",
        "\\begin{equation}\n",
        "\\left\\{\n",
        "\t       \\begin{array}{cc}\n",
        "\t\t H0: \\sigma^2 \\leq a     \\\\\n",
        "\t\t H1: \\sigma^2 > a        \n",
        "\t       \\end{array}\n",
        " \\thinspace C.D: si \\thinspace \\chi_{obs} > \\chi^2_{n-1;1-\\alpha} \\thinspace ó \\thinspace p-valor < \\alpha \\thinspace entonces \\thinspace rechazo \\thinspace H0\n",
        "\t     \\right.\n",
        "\\end{equation}\n",
        "\n",
        "Prueba unilateral a izquierda\n",
        "\n",
        "\\begin{equation}\n",
        "\\left\\{\n",
        "\t       \\begin{array}{cc}\n",
        "\t\t H0: \\sigma^2 \\geq a     \\\\\n",
        "\t\t H1: \\sigma^2 < a        \n",
        "\t       \\end{array}\n",
        "\\thinspace C.D: si \\thinspace \\chi_{obs} < \\chi^2_{n-1;\\alpha} \\thinspace ó \\thinspace p-valor < \\alpha \\thinspace entonces \\thinspace rechazo \\thinspace H0\n",
        "\t     \\right.\n",
        "\\end{equation}\n",
        "\n",
        "Prueba bilateral\n",
        "\n",
        "\\begin{equation}\n",
        "\\left\\{\n",
        "\t       \\begin{array}{ll}\n",
        "\t\t H0: \\sigma^2 = a     \\\\\n",
        "\t\t H1: \\sigma^2 \\neq a         \n",
        "\t       \\end{array}\n",
        "\\thinspace C.D: si \\thinspace |\\chi_{obs}| > \\chi^2_{n-1;{1-{\\alpha \\over 2}}} \\thinspace ó \\thinspace p-valor < \\alpha \\thinspace entonces \\thinspace rechazo \\thinspace H0\n",
        "\t     \\right.\n",
        "\\end{equation}"
      ],
      "metadata": {
        "id": "eXWxxuz-KyKc"
      }
    },
    {
      "cell_type": "markdown",
      "source": [
        "EJEMPLO: Sea X con distribución normal y varianza 80. Se toma una muestra de tamaño 30 y se obtiene una varianza de 90. Con un alfa de 0.05, ¿concluiría que la varianza poblacional difiere de 80?"
      ],
      "metadata": {
        "id": "oMkVgQGNZ2aa"
      }
    },
    {
      "cell_type": "markdown",
      "source": [
        "\\begin{equation}\n",
        "\\left\\{\n",
        "\t       \\begin{array}{ll}\n",
        "\t\t H0: \\sigma^2 = 80     \\\\\n",
        "\t\t H1: \\sigma^2 \\neq 80         \n",
        "\t       \\end{array}\n",
        "\\thinspace C.D: si \\thinspace |\\chi_{obs}| > \\chi^2_{n-1;{1-{\\alpha \\over 2}}} \\thinspace ó \\thinspace p-valor < \\alpha \\thinspace entonces \\thinspace rechazo \\thinspace H0\n",
        "\t     \\right.\n",
        "\\end{equation}"
      ],
      "metadata": {
        "id": "100EQQM7Z2an"
      }
    },
    {
      "cell_type": "code",
      "source": [
        "var_muestral=90\n",
        "var_pob= 80\n",
        "n= 30\n",
        "alfa= 0.05\n",
        "simbolo_H1=''   #las opciones de símbolo son '<' '>' ó '' para distinto\n",
        "\n",
        "chiobs=round((n-1)*var_muestral / var_pob,4)\n",
        "if simbolo_H1=='>':\n",
        "  chialfa  = round(ss.chi2.ppf(1-alfa, n-1),4)\n",
        "  if chiobs > chialfa:\n",
        "    respuesta='Como se cumple C.D ya que ' + 'chiobs='+str(chiobs)+' es mayor que '+ 'Chi_1-alfa;n-1='+str(chialfa)+' entonces se rechaza H0'\n",
        "  else:\n",
        "    respuesta='Como no se cumple C.D ya que ' + 'chiobs='+str(chiobs)+' es menor que '+ 'Chi_1-alfa;n-1='+str(chialfa)+' entonces no se rechaza H0'\n",
        "\n",
        "  p_valor=round(1-ss.chi2.cdf(chiobs, n-1),8)\n",
        "  if p_valor < alfa:\n",
        "    respuesta1='Como se cumple C.D ya que ' + 'P-valor='+str(p_valor)+  ' es menor que '+ 'alfa='+ str(alfa)+' entonces se rechaza H0'\n",
        "  else:\n",
        "    respuesta1='Como no se cumple C.D ya que ' + 'P-valor='+str(p_valor)+  ' es mayor que '+ 'alfa='+ str(alfa)+' entonces no se rechaza H0'\n",
        "\n",
        "elif simbolo_H1=='<':\n",
        "  chialfa  = round(ss.chi2.ppf(alfa, n-1),4)\n",
        "  if chiobs < chialfa:\n",
        "    respuesta='Como se cumple C.D ya que ' + 'chiobs='+str(chiobs)+' es menor que '+ 'chialfa;n-1='+str(chialfa)+' entonces se rechaza H0'\n",
        "  else:\n",
        "    respuesta='Como no se cumple C.D ya que ' + 'chiobs='+str(chiobs)+' es mayor que '+ 'chialfa;n-1='+str(chialfa)+' entonces no se rechaza H0'\n",
        "\n",
        "  p_valor=round(ss.chi2.cdf(chiobs, n-1),8)\n",
        "  if p_valor < alfa:\n",
        "    respuesta1='Como se cumple C.D ya que ' + 'P-valor='+str(p_valor)+  ' es menor que '+ 'alfa='+ str(alfa)+' entonces se rechaza H0'\n",
        "  else:\n",
        "    respuesta1='Como no se cumple C.D ya que ' + 'P-valor='+str(p_valor)+  ' es mayor que '+ 'alfa='+ str(alfa)+' entonces no se rechaza H0'\n",
        "\n",
        "else:\n",
        "  chialfa  = round(ss.chi2.ppf(1-alfa/2, n-1),4)\n",
        "  if np.abs(chiobs) > chialfa:\n",
        "    respuesta='Como se cumple C.D ya que ' + '|chiobs|='+'|'+str(chiobs)+'|'+' es mayor que '+ 'Chi_1-alfa/2;n-1='+str(chialfa)+' entonces se rechaza H0'\n",
        "  else:\n",
        "    respuesta='Como no se cumple C.D ya que ' + '|chiobs|='+'|'+str(chiobs)+'|'+' es menor que '+ 'Chi_1-alfa/2;n-1='+str(chialfa)+' entonces no se rechaza H0'\n",
        "\n",
        "  p_valor=2*np.min([round(1-ss.chi2.cdf(chiobs, n-1),8), round(ss.chi2.cdf(chiobs, n-1),8)])\n",
        "  if p_valor < alfa:\n",
        "    respuesta1='Como se cumple C.D ya que ' + 'P-valor='+str(p_valor)+  ' es menor que '+ 'alfa='+ str(alfa)+' entonces se rechaza H0'\n",
        "  else:\n",
        "    respuesta1='Como no se cumple C.D ya que ' + 'P-valor='+str(p_valor)+  ' es mayor que '+ 'alfa='+ str(alfa)+' entonces no se rechaza H0'\n",
        "\n",
        "respuesta, respuesta1"
      ],
      "metadata": {
        "id": "GAfKF9sLK2Tb",
        "colab": {
          "base_uri": "https://localhost:8080/"
        },
        "outputId": "cd545d33-c424-42bf-e865-c84c43b4be97"
      },
      "execution_count": null,
      "outputs": [
        {
          "output_type": "execute_result",
          "data": {
            "text/plain": [
              "('Como no se cumple C.D ya que |chiobs|=|32.625| es menor que Chi_1-alfa/2;n-1=45.7223 entonces no se rechaza H0',\n",
              " 'Como no se cumple C.D ya que P-valor=0.5862414 es mayor que alfa=0.05 entonces no se rechaza H0')"
            ]
          },
          "metadata": {},
          "execution_count": 6
        }
      ]
    },
    {
      "cell_type": "markdown",
      "source": [
        "Se verifica este resultado del siguiente modo:\n",
        "\n",
        "Dados $S^2=90$ $\\sigma^2=80$ $N=30$ y $\\alpha=5\\%$\n",
        "\n",
        "Luego:\n",
        "\n",
        "$\\chi_{1-{\\alpha\\over2};n-1}=\\chi_{1-{0.05\\over2};25-1}=\\chi_{0.975;29} = 45.7223$\n",
        "\n",
        "${\\chi_{obs} =} {{(n-1)*S^2 } \\over {\\sigma^2}}={{(30-1)*90} \\over {80}}={32.625}$\n",
        "\n",
        "Como ${\\chi_{obs} =}{32.625}$ es menor que $\\chi_{1-{\\alpha\\over2};n-1}= 45.7223$ no se cumple el criterio de decisión y por lo tanto no se rechaza H0\n",
        "\n",
        "Como $p_{valor}= 2*min[p(\\chi > 32.625), p(\\chi < 32.625)]=2*[0.29312, 0.70688]=2*0.29312=0.58624$ \\\n",
        "es mayor que $\\alpha = 0.05$ no se cumple el criterio de decisión y por lo tanto no se rechaza H0"
      ],
      "metadata": {
        "id": "YQE86DnkZ2ap"
      }
    },
    {
      "cell_type": "markdown",
      "source": [
        "####**TH para la proporción**\n",
        "\n"
      ],
      "metadata": {
        "id": "4Cc5YGzm4ycb"
      }
    },
    {
      "cell_type": "markdown",
      "source": [
        "Sea $X \\sim Bi(n ; p)$\n",
        "\n",
        "${Z_{obs} =} {{\\bar{P} - P } \\over {\\sqrt {P*(1-P) \\over n}}}$ $\\sim N(0 ; 1)$\n",
        "\n",
        "Hipótesis y Criterio de decisión para rechazar H0 (C.D)\n",
        "\n",
        "Prueba unilateral a derecha\n",
        "\n",
        "\\begin{equation}\n",
        "\\left\\{\n",
        "\t       \\begin{array}{cc}\n",
        "\t\t H0: p \\leq a     \\\\\n",
        "\t\t H1: p > a         \n",
        "\t       \\end{array}\n",
        "\\thinspace C.D: si \\thinspace Z_{obs} > Z_{1-\\alpha} \\thinspace ó \\thinspace p-valor < \\alpha \\thinspace entonces \\thinspace rechazo \\thinspace H0\n",
        "\t     \\right.\n",
        "\\end{equation}\n",
        "\n",
        "Prueba unilateral a izquierda\n",
        "\n",
        "\\begin{equation}\n",
        "\\left\\{\n",
        "\t       \\begin{array}{cc}\n",
        "\t\t H0: p \\geq a     \\\\\n",
        "\t\t H1: p < a         \n",
        "\t       \\end{array}\n",
        "\\thinspace C.D: si \\thinspace Z_{obs} < Z_{\\alpha} \\thinspace ó \\thinspace p-valor < \\alpha \\thinspace entonces \\thinspace rechazo \\thinspace H0\n",
        "\t     \\right.\n",
        "\\end{equation}\n",
        "\n",
        "Prueba bilateral\n",
        "\n",
        "\\begin{equation}\n",
        "\\left\\{\n",
        "\t       \\begin{array}{cc}\n",
        "\t\t H0: p = a     \\\\\n",
        "\t\t H1: p \\neq a         \n",
        "\t       \\end{array}\n",
        "\\thinspace C.D: si \\thinspace |Z_{obs}| > Z_{1-{\\alpha \\over 2}} \\thinspace ó \\thinspace p-valor < \\alpha \\thinspace entonces \\thinspace rechazo \\thinspace H0\n",
        "\t     \\right.\n",
        "\\end{equation}"
      ],
      "metadata": {
        "id": "wIMvEeo5sHbb"
      }
    },
    {
      "cell_type": "markdown",
      "source": [
        "Ejemplo: Sea X con distribución binomial. La proporción poblacional es de 0.05. Se toma una muestra de 1125 y se obtuvo una proporción de 0.0444. Se quiere decidir si la proporción poblacional es menor a 0.05 con α = 0.01"
      ],
      "metadata": {
        "id": "M48OAjQlItPC"
      }
    },
    {
      "cell_type": "markdown",
      "source": [
        "\\begin{equation}\n",
        "\\left\\{\n",
        "\t       \\begin{array}{cc}\n",
        "\t\t H0: p \\geq 0.05     \\\\\n",
        "\t\t H1: p < 0.05         \n",
        "\t       \\end{array}\n",
        "\\thinspace C.D: si \\thinspace Z_{obs} < Z_{\\alpha} \\thinspace ó \\thinspace p-valor < \\alpha \\thinspace entonces \\thinspace rechazo \\thinspace H0\n",
        "\t     \\right.\n",
        "\\end{equation}"
      ],
      "metadata": {
        "id": "SyvR-BtZItPD"
      }
    },
    {
      "cell_type": "code",
      "source": [
        "p_muestral= 0.0444\n",
        "p= 0.05\n",
        "n= 1125\n",
        "alfa= 0.01\n",
        "simbolo_H1= '<' #las opciones de símbolo son '<' '>' ó '' para distinto\n",
        "\n",
        "Zobs=round((p_muestral-p) / (np.sqrt((p*(1-p))/n)),4)\n",
        "if simbolo_H1=='>':\n",
        "  Zalfa  = round(ss.norm.ppf(1-alfa, 0,1),4)\n",
        "  if Zobs > Zalfa:\n",
        "    respuesta='Como se cumple C.D ya que ' + 'Zobs='+str(Zobs)+' es mayor que '+ 'Z_1-alfa='+str(Zalfa)+' entonces se rechaza H0'\n",
        "  else:\n",
        "    respuesta='Como no se cumple C.D ya que ' + 'Zobs='+str(Zobs)+' es menor que '+ 'Z_1-alfa='+str(Zalfa)+' entonces no se rechaza H0'\n",
        "\n",
        "  p_valor=1-ss.norm.cdf(Zobs, 0,1)\n",
        "  if p_valor < alfa:\n",
        "    respuesta1='Como se cumple C.D ya que ' + 'P-valor='+str(p_valor)+  ' es menor que '+ 'alfa='+ str(alfa)+' entonces se rechaza H0'\n",
        "  else:\n",
        "    respuesta1='Como no se cumple C.D ya que ' + 'P-valor='+str(p_valor)+  ' es mayor que '+ 'alfa='+ str(alfa)+' entonces no se rechaza H0'\n",
        "\n",
        "elif simbolo_H1=='<':\n",
        "  Zalfa  = round(ss.norm.ppf(alfa, 0,1),4)\n",
        "  if Zobs < Zalfa:\n",
        "    respuesta='Como se cumple C.D ya que ' + 'Zobs='+str(Zobs)+' es menor que '+ 'Zalfa='+str(Zalfa)+' entonces se rechaza H0'\n",
        "  else:\n",
        "    respuesta='Como no se cumple C.D ya que ' + 'Zobs='+str(Zobs)+' es mayor que '+ 'Zalfa='+str(Zalfa)+' entonces no se rechaza H0'\n",
        "\n",
        "  p_valor=ss.norm.cdf(Zobs, 0,1)\n",
        "  if p_valor < alfa:\n",
        "    respuesta1='Como se cumple C.D ya que ' + 'P-valor='+str(p_valor)+  ' es menor que '+ 'alfa='+ str(alfa)+' entonces se rechaza H0'\n",
        "  else:\n",
        "    respuesta1='Como no se cumple C.D ya que ' + 'P-valor='+str(p_valor)+  ' es mayor que '+ 'alfa='+ str(alfa)+' entonces no se rechaza H0'\n",
        "\n",
        "else:\n",
        "  Zalfa  = round(ss.norm.ppf(1-alfa/2, 0,1),4)\n",
        "  if np.abs(Zobs) > Zalfa:\n",
        "    respuesta='Como se cumple C.D ya que ' + '|Zobs|='+'|'+str(Zobs)+'|'+' es mayor que '+ 'Z_1-alfa/2='+str(Zalfa)+' entonces se rechaza H0'\n",
        "  else:\n",
        "    respuesta='Como no se cumple C.D ya que ' + '|Zobs|='+'|'+str(Zobs)+'|'+' es menor que '+ 'Z_1-alfa/2='+str(Zalfa)+' entonces no se rechaza H0'\n",
        "\n",
        "  p_valor=2*(1-ss.norm.cdf(abs(Zobs), 0,1))\n",
        "  if p_valor < alfa:\n",
        "    respuesta1='Como se cumple C.D ya que ' + 'P-valor='+str(p_valor)+  ' es menor que '+ 'alfa='+ str(alfa)+' entonces se rechaza H0'\n",
        "  else:\n",
        "    respuesta1='Como no se cumple C.D ya que ' + 'P-valor='+str(p_valor)+  ' es mayor que '+ 'alfa='+ str(alfa)+' entonces no se rechaza H0'\n",
        "\n",
        "respuesta, respuesta1"
      ],
      "metadata": {
        "id": "8uWezOTJsKT_",
        "colab": {
          "base_uri": "https://localhost:8080/"
        },
        "outputId": "3b7d76bd-62d1-4a31-9f09-1d8244f899e2"
      },
      "execution_count": null,
      "outputs": [
        {
          "output_type": "execute_result",
          "data": {
            "text/plain": [
              "('Como no se cumple C.D ya que Zobs=-0.8618 es mayor que Zalfa=-2.3263 entonces no se rechaza H0',\n",
              " 'Como no se cumple C.D ya que P-valor=0.19439879246780117 es mayor que alfa=0.01 entonces no se rechaza H0')"
            ]
          },
          "metadata": {},
          "execution_count": 7
        }
      ]
    },
    {
      "cell_type": "markdown",
      "source": [
        "Se verifica este resultado del siguiente modo:\n",
        "\n",
        "Dados $\\bar{P}=0.0444$ $N=1125$ y $\\alpha=1\\%$\n",
        "\n",
        "Luego:\n",
        "\n",
        "$Z_{\\alpha}=Z_{0.01}= - 2.33$\n",
        "\n",
        "\n",
        "${Z_{obs} =} {{\\bar{P} - P } \\over {\\sqrt {P*(1-P) \\over n}}}={{0.0444 - 0.05} \\over {\\sqrt {0.05*(1-0.05) \\over 1125}}}={-0.8618}$\n",
        "\n",
        "Como ${Z_{obs} =}{-0.8618}$ es mayor que $Z_{0.05}= - 2.33$ no se cumple el criterio de decisión y por lo tanto no se rechaza H0\n",
        "\n",
        "Como $p_{valor}= p(Z < -0.8618)=1-p(Z < 0.8618)=1-0.8056=0.19440$ es mayor que $\\alpha = 0.01$  no se cumple el criterio de decisión y por lo tanto no se rechaza H0"
      ],
      "metadata": {
        "id": "Ad8I0mvyItPE"
      }
    },
    {
      "cell_type": "markdown",
      "source": [
        "##**Para dos poblaciones**"
      ],
      "metadata": {
        "id": "Xsm274opppTw"
      }
    },
    {
      "cell_type": "markdown",
      "source": [
        "####**TH para la diferencia de medias con varianzas poblacionales conocidas**\n",
        "\n"
      ],
      "metadata": {
        "id": "-idwgC6L51W-"
      }
    },
    {
      "cell_type": "markdown",
      "source": [
        "Sea $X_{1} \\sim N(\\mu_{1} ; \\sigma_{1} )$ y $X_{2} \\sim N(\\mu_{2} ; \\sigma_{2} )$\n",
        "\n",
        "${Z_{obs} =} {({\\bar{X_{1}}-\\bar{X_{2}}) - (\\mu_{1} - \\mu_{2}) } \\over {\\sqrt {{\\sigma^2_{1} \\over  n_{1}} + {\\sigma^2_{2} \\over  n_{2}}} }}$ $\\sim N(0 ; 1)$\n",
        "\n",
        "Hipótesis y Criterio de decisión para rechazar H0 (C.D)\n",
        "\n",
        "Prueba unilateral a derecha\n",
        "\n",
        "\\begin{equation}\n",
        "\\left\\{\n",
        "\t       \\begin{array}{cc}\n",
        "\t\t H0: \\mu_1 - \\mu_2 \\leq a     \\\\\n",
        "\t\t H1: \\mu_1 - \\mu_2 > a         \n",
        "\t       \\end{array}\n",
        "\\thinspace C.D: si \\thinspace Z_{obs} > Z_{1-\\alpha} \\thinspace ó \\thinspace p-valor < \\alpha \\thinspace entonces \\thinspace rechazo \\thinspace H0\n",
        "\t     \\right.\n",
        "\\end{equation}\n",
        "\n",
        "Prueba unilateral a izquierda\n",
        "\n",
        "\\begin{equation}\n",
        "\\left\\{\n",
        "\t       \\begin{array}{cc}\n",
        "\t\t H0: \\mu_1 - \\mu_2 \\geq a     \\\\\n",
        "\t\t H1: \\mu_1 - \\mu_2 < a         \n",
        "\t       \\end{array}\n",
        "\\thinspace C.D: si \\thinspace Z_{obs} < Z_{\\alpha} \\thinspace ó \\thinspace p-valor < \\alpha \\thinspace entonces \\thinspace rechazo \\thinspace H0\n",
        "\t     \\right.\n",
        "\\end{equation}\n",
        "\n",
        "Prueba bilateral\n",
        "\n",
        "\\begin{equation}\n",
        "\\left\\{\n",
        "\t       \\begin{array}{cc}\n",
        "\t\t H0: \\mu_1 - \\mu_2 = a     \\\\\n",
        "\t\t H1: \\mu_1 - \\mu_2 \\neq a         \n",
        "\t       \\end{array}\n",
        "\\thinspace C.D: si \\thinspace |Z_{obs}| > Z_{1-{\\alpha \\over 2}} \\thinspace ó \\thinspace p-valor < \\alpha \\thinspace entonces \\thinspace rechazo \\thinspace H0\n",
        "\t     \\right.\n",
        "\\end{equation}"
      ],
      "metadata": {
        "id": "V5_M9pNLcuR2"
      }
    },
    {
      "cell_type": "markdown",
      "source": [
        "Ejemplo: Sea $X_1$ con distribución normal y varianza 0.64. Sea $X_2$ con distribución normal y varianza 0.49. Se toma una muestra para 1 de tamaño 50 y se obtiene una media de 45. Se toma una muestra para 2 de tamaño 40 y se obtiene una media de 43.2. Se quiere decidir si la media poblacional de 1 es 1.5 más grande que la media poblacional de 2 con α = 0.05"
      ],
      "metadata": {
        "id": "GMyzvJu8GIDV"
      }
    },
    {
      "cell_type": "markdown",
      "source": [
        "\\begin{equation}\n",
        "\\left\\{\n",
        "\t       \\begin{array}{cc}\n",
        "\t\t H0: \\mu_1 - \\mu_2 \\leq 1.5     \\\\\n",
        "\t\t H1: \\mu_1 - \\mu_2 > 1.5         \n",
        "\t       \\end{array}\n",
        "\\thinspace C.D: si \\thinspace Z_{obs} > Z_{1-\\alpha} \\thinspace ó \\thinspace p-valor < \\alpha \\thinspace entonces \\thinspace rechazo \\thinspace H0\n",
        "\t     \\right.\n",
        "\\end{equation}"
      ],
      "metadata": {
        "id": "mOa_2M-7dqnk"
      }
    },
    {
      "cell_type": "code",
      "source": [
        "MM_1= 45\n",
        "MM_2= 43.2\n",
        "DIF= 1.5\n",
        "sigma2_1=0.64\n",
        "sigma2_2=0.49\n",
        "n_1= 50\n",
        "n_2= 40\n",
        "alfa= 0.05\n",
        "simbolo_H1='>'\n",
        "\n",
        "\n",
        "Zobs=round((MM_1-MM_2)-DIF / (np.sqrt((sigma2_1/n_1)+(sigma2_2/n_2))),4)\n",
        "if simbolo_H1=='>':\n",
        "  Zalfa  = round(ss.norm.ppf(1-alfa, 0,1),4)\n",
        "  if Zobs > Zalfa:\n",
        "    respuesta='Como se cumple C.D ya que ' + 'Zobs='+str(Zobs)+' es mayor que '+ 'Z_1-alfa='+str(Zalfa)+' entonces se rechaza H0'\n",
        "  else:\n",
        "    respuesta='Como no se cumple C.D ya que ' + 'Zobs='+str(Zobs)+' es menor que '+ 'Z_1-alfa='+str(Zalfa)+' entonces no se rechaza H0'\n",
        "\n",
        "  p_valor=1-ss.norm.cdf(Zobs, 0,1)\n",
        "  if p_valor < alfa:\n",
        "    respuesta1='Como se cumple C.D ya que ' + 'P-valor='+str(p_valor)+  ' es menor que '+ 'alfa='+ str(alfa)+' entonces se rechaza H0'\n",
        "  else:\n",
        "    respuesta1='Como no se cumple C.D ya que ' + 'P-valor='+str(p_valor)+  ' es mayor que '+ 'alfa='+ str(alfa)+' entonces no se rechaza H0'\n",
        "\n",
        "elif simbolo_H1=='<':\n",
        "  Zalfa  = round(ss.norm.ppf(alfa, 0,1),4)\n",
        "  if Zobs < Zalfa:\n",
        "    respuesta='Como se cumple C.D ya que ' + 'Zobs='+str(Zobs)+' es menor que '+ 'Zalfa='+str(Zalfa)+' entonces se rechaza H0'\n",
        "  else:\n",
        "    respuesta='Como no se cumple C.D ya que ' + 'Zobs='+str(Zobs)+' es mayor que '+ 'Zalfa='+str(Zalfa)+' entonces no se rechaza H0'\n",
        "\n",
        "  p_valor=ss.norm.cdf(Zobs, 0,1)\n",
        "  if p_valor < alfa:\n",
        "    respuesta1='Como se cumple C.D ya que ' + 'P-valor='+str(p_valor)+  ' es menor que '+ 'alfa='+ str(alfa)+' entonces se rechaza H0'\n",
        "  else:\n",
        "    respuesta1='Como no se cumple C.D ya que ' + 'P-valor='+str(p_valor)+  ' es mayor que '+ 'alfa='+ str(alfa)+' entonces no se rechaza H0'\n",
        "\n",
        "else:\n",
        "  Zalfa  = round(ss.norm.ppf(1-alfa/2, 0,1),4)\n",
        "  if np.abs(Zobs) > Zalfa:\n",
        "    respuesta='Como se cumple C.D ya que ' + '|Zobs|='+'|'+str(Zobs)+'|'+' es mayor que '+ 'Z_1-alfa/2='+str(Zalfa)+' entonces se rechaza H0'\n",
        "  else:\n",
        "    respuesta='Como no se cumple C.D ya que ' + '|Zobs|='+'|'+str(Zobs)+'|'+' es menor que '+ 'Z_1-alfa/2='+str(Zalfa)+' entonces no se rechaza H0'\n",
        "\n",
        "  p_valor=2*(1-ss.norm.cdf(abs(Zobs), 0,1))\n",
        "  if p_valor < alfa:\n",
        "    respuesta1='Como se cumple C.D ya que ' + 'P-valor='+str(p_valor)+  ' es menor que '+ 'alfa='+ str(alfa)+' entonces se rechaza H0'\n",
        "  else:\n",
        "    respuesta1='Como no se cumple C.D ya que ' + 'P-valor='+str(p_valor)+  ' es mayor que '+ 'alfa='+ str(alfa)+' entonces no se rechaza H0'\n",
        "\n",
        "respuesta, respuesta1"
      ],
      "metadata": {
        "id": "QHskxA__FRHB",
        "colab": {
          "base_uri": "https://localhost:8080/"
        },
        "outputId": "81678467-50a3-49a5-b2d5-cb2dcfa196c9"
      },
      "execution_count": null,
      "outputs": [
        {
          "output_type": "execute_result",
          "data": {
            "text/plain": [
              "('Como no se cumple C.D ya que Zobs=-7.6774 es menor que Z_1-alfa=1.6449 entonces no se rechaza H0',\n",
              " 'Como no se cumple C.D ya que P-valor=0.9999999999999919 es mayor que alfa=0.05 entonces no se rechaza H0')"
            ]
          },
          "metadata": {},
          "execution_count": 8
        }
      ]
    },
    {
      "cell_type": "markdown",
      "source": [
        "Se verifica este resultado del siguiente modo:\n",
        "\n",
        "Dados $\\bar{X_1}=45$ $\\bar{X_2}=43.2$ $\\sigma^2_1=0.64$ $\\sigma^2_2=0.49$ $N_1=50$ $N_2=40$ y $\\alpha=5\\%$\n",
        "\n",
        "Luego:\n",
        "\n",
        "$Z_{1-\\alpha}=Z_{1-0.05}=Z_{0.95} = 1.65$\n",
        "\n",
        "\n",
        "${Z_{obs} =} {({\\bar{X_{1}}-\\bar{X_{2}}) - (\\mu_{1} - \\mu_{2}) } \\over {\\sqrt {{\\sigma^2_{1} \\over  n_{1}} + {\\sigma^2_{2} \\over  n_{2}}} }} = {(45-43.2) - 1.5  \\over {\\sqrt {{0.64 \\over  50} + {0.49 \\over  40}} }}= -7.6774$\n",
        "\n",
        "Como ${Z_{obs} =}{-7.6774}$ es mayor que $Z_{0.95}= 1.65$ no se cumple el criterio de decisión y por lo tanto no se rechaza H0\n",
        "\n",
        "Como $p_{valor}= p(Z > -7.6774)=1-p(Z > -7.6774)=1-[1-p(Z < 7.6774)]=p(Z < 7.6774)=0.9999999$ es mayor que $\\alpha = 0.05$  no se cumple el criterio de decisión y por lo tanto no se rechaza H0"
      ],
      "metadata": {
        "id": "0vmWkxHLIXmd"
      }
    },
    {
      "cell_type": "markdown",
      "source": [
        "####**TH para la diferencia de medias con varianzas poblacionales desconocidas**\n",
        "\n"
      ],
      "metadata": {
        "id": "ZtiNtkxz7-yz"
      }
    },
    {
      "cell_type": "markdown",
      "source": [
        "Sea $X_{1} \\sim N(\\mu_{1} ; \\sigma_{1} )$ y $X_{2} \\sim N(\\mu_{2} ; \\sigma_{2} )$ con $\\sigma^2_{1}$ y $\\sigma^2_{2}$ desconocidas y $\\sigma^2_{1}=\\sigma^2_{2} $\n",
        "\n",
        "${t_{obs} =} {({\\bar{X_{1}}-\\bar{X_{2}}) - (\\mu_{1} - \\mu_{2}) } \\over {S_{p}\\sqrt {{1 \\over  n_{1}} + {1 \\over  n_{2}}} }}$ $\\sim t_{n_{1}+n_{2}-2}$ con ${S^2_p =} {(n_1-1)*S^2_1+(n_2-1)*S^2_2\\over n_1+n_2-2}$\n",
        "\n",
        "Hipótesis y Criterio de decisión para rechazar H0 (C.D)\n",
        "\n",
        "Prueba unilateral a derecha\n",
        "\n",
        "\\begin{equation}\n",
        "\\left\\{\n",
        "\t       \\begin{array}{cc}\n",
        "\t\t H0: \\mu_1 - \\mu_2 \\leq a     \\\\\n",
        "\t\t H1: \\mu_1 - \\mu_2 > a         \n",
        "\t       \\end{array}\n",
        "\\thinspace C.D: si \\thinspace t_{obs} > t_{n_{1}+n_{2}-2;1-\\alpha} \\thinspace ó \\thinspace p-valor < \\alpha \\thinspace entonces \\thinspace rechazo \\thinspace H0\n",
        "\t     \\right.\n",
        "\\end{equation}\n",
        "\n",
        "Prueba unilateral a izquierda\n",
        "\n",
        "\\begin{equation}\n",
        "\\left\\{\n",
        "\t       \\begin{array}{cc}\n",
        "\t\t H0: \\mu_1 - \\mu_2 \\geq a     \\\\\n",
        "\t\t H1: \\mu_1 - \\mu_2 < a        \n",
        "\t       \\end{array}\n",
        " \\thinspace C.D: si \\thinspace t_{obs} < t_{n_{1}+n_{2}-2;\\alpha} \\thinspace ó \\thinspace p-valor < \\alpha \\thinspace entonces \\thinspace rechazo \\thinspace H0\n",
        "\t     \\right.\n",
        "\\end{equation}\n",
        "\n",
        "Prueba bilateral\n",
        "\n",
        "\\begin{equation}\n",
        "\\left\\{\n",
        "\t       \\begin{array}{cc}\n",
        "\t\t H0: \\mu_1 - \\mu_2 = a     \\\\\n",
        "\t\t H1: \\mu_1 - \\mu_2 \\neq a         \n",
        "\t       \\end{array}\n",
        "\\thinspace C.D: si \\thinspace |t_{obs}| > t_{n_{1}+n_{2}-2;1-{\\alpha \\over 2}} \\thinspace ó \\thinspace p-valor < \\alpha \\thinspace entonces \\thinspace rechazo \\thinspace H0\n",
        "\t     \\right.\n",
        "\\end{equation}"
      ],
      "metadata": {
        "id": "T6ZQwGnAfGMI"
      }
    },
    {
      "cell_type": "markdown",
      "source": [
        "Ejemplo: Sea $X_1$ y $X_2$ con distribución normal. Se toma una muestra para 1 de tamaño 50 y se obtiene una media de 35735.45 y una varianza de 25318.41. Se toma una muestra para 2 de tamaño 50 y se obtiene una media de 35732.03 y una varianza de 25337.03 Se quiere decidir si la media poblacional de 1 difiere de la media poblacional de 2 con α = 0.05"
      ],
      "metadata": {
        "id": "8JJxwu8Zgr-z"
      }
    },
    {
      "cell_type": "markdown",
      "source": [
        "\\begin{equation}\n",
        "\\left\\{\n",
        "\t       \\begin{array}{cc}\n",
        "\t\t H0: \\mu_1 - \\mu_2 = 0     \\\\\n",
        "\t\t H1: \\mu_1 - \\mu_2 \\neq 0         \n",
        "\t       \\end{array}\n",
        "\\thinspace C.D: si \\thinspace |t_{obs}| > t_{n_{1}+n_{2}-2;1-{\\alpha \\over 2}} \\thinspace ó \\thinspace p-valor < \\alpha \\thinspace entonces \\thinspace rechazo \\thinspace H0\n",
        "\t     \\right.\n",
        "\\end{equation}"
      ],
      "metadata": {
        "id": "pq_yVcaYgr-0"
      }
    },
    {
      "cell_type": "code",
      "source": [
        "MM_1=35735.45\n",
        "MM_2= 35732.03\n",
        "DIF= 0\n",
        "varM_1= 25318.41\n",
        "varM_2= 25337.03\n",
        "n_1= 50\n",
        "n_2= 50\n",
        "alfa= 0.05\n",
        "simbolo_H1=''\n",
        "\n",
        "Sp=np.sqrt(((n_1-1)*(varM_1) + (n_2-1)*(varM_2))/(n_1+n_2-2))\n",
        "tobs=round(((MM_1-MM_2)-DIF) / (Sp*(np.sqrt((1/n_1)+(1/n_2)))),4)\n",
        "if simbolo_H1=='>':\n",
        "  talfa  = round(ss.t.ppf(1-alfa, n_1+n_2-2),4)\n",
        "  if tobs > talfa:\n",
        "    respuesta='Como se cumple C.D ya que ' + 'tobs='+str(tobs)+' es mayor que '+ 't_1-alfa;n_1+n_2-2='+str(talfa)+' entonces se rechaza H0'\n",
        "  else:\n",
        "    respuesta='Como no se cumple C.D ya que ' + 'tobs='+str(tobs)+' es menor que '+ 't_1-alfa;n_1+n_2-2='+str(talfa)+' entonces no se rechaza H0'\n",
        "\n",
        "  p_valor=round(1-ss.t.cdf(tobs, n_1+n_2-2),8)\n",
        "  if p_valor < alfa:\n",
        "    respuesta1='Como se cumple C.D ya que ' + 'P-valor='+str(p_valor)+  ' es menor que '+ 'alfa='+ str(alfa)+' entonces se rechaza H0'\n",
        "  else:\n",
        "    respuesta1='Como no se cumple C.D ya que ' + 'P-valor='+str(p_valor)+  ' es mayor que '+ 'alfa='+ str(alfa)+' entonces no se rechaza H0'\n",
        "\n",
        "elif simbolo_H1=='<':\n",
        "  talfa  = round(ss.t.ppf(alfa, n_1+n_2-2),4)\n",
        "  if tobs < talfa:\n",
        "    respuesta='Como se cumple C.D ya que ' + 'tobs='+str(tobs)+' es menor que '+ 'talfa;n_1+n_2-2='+str(talfa)+' entonces se rechaza H0'\n",
        "  else:\n",
        "    respuesta='Como no se cumple C.D ya que ' + 'tobs='+str(tobs)+' es mayor que '+ 'talfa;n_1+n_2-2='+str(talfa)+' entonces no se rechaza H0'\n",
        "\n",
        "  p_valor=round(ss.t.cdf(tobs, n_1+n_2-2),8)\n",
        "  if p_valor < alfa:\n",
        "    respuesta1='Como se cumple C.D ya que ' + 'P-valor='+str(p_valor)+  ' es menor que '+ 'alfa='+ str(alfa)+' entonces se rechaza H0'\n",
        "  else:\n",
        "    respuesta1='Como no se cumple C.D ya que ' + 'P-valor='+str(p_valor)+  ' es mayor que '+ 'alfa='+ str(alfa)+' entonces no se rechaza H0'\n",
        "\n",
        "else:\n",
        "  talfa  = round(ss.t.ppf(1-alfa/2, n_1+n_2-2),4)\n",
        "  if np.abs(tobs) > talfa:\n",
        "    respuesta='Como se cumple C.D ya que ' + '|tobs|='+'|'+str(tobs)+'|'+' es mayor que '+ 't_1-alfa/2;n_1+n_2-2='+str(talfa)+' entonces se rechaza H0'\n",
        "  else:\n",
        "    respuesta='Como no se cumple C.D ya que ' + '|tobs|='+'|'+str(tobs)+'|'+' es menor que '+ 't_1-alfa/2;n_1+n_2-2='+str(talfa)+' entonces no se rechaza H0'\n",
        "\n",
        "  p_valor=2*round(1-ss.t.cdf(abs(tobs), n_1+n_2-2),8)\n",
        "  if p_valor < alfa:\n",
        "    respuesta1='Como se cumple C.D ya que ' + 'P-valor='+str(p_valor)+  ' es menor que '+ 'alfa='+ str(alfa)+' entonces se rechaza H0'\n",
        "  else:\n",
        "    respuesta1='Como no se cumple C.D ya que ' + 'P-valor='+str(p_valor)+  ' es mayor que '+ 'alfa='+ str(alfa)+' entonces no se rechaza H0'\n",
        "\n",
        "respuesta, respuesta1"
      ],
      "metadata": {
        "id": "mc51Cx1rjWky",
        "colab": {
          "base_uri": "https://localhost:8080/"
        },
        "outputId": "207dd1fc-ce51-4496-bdbb-de00b8da6392"
      },
      "execution_count": null,
      "outputs": [
        {
          "output_type": "execute_result",
          "data": {
            "text/plain": [
              "('Como no se cumple C.D ya que |tobs|=|0.1074| es menor que t_1-alfa/2;n_1+n_2-2=1.9845 entonces no se rechaza H0',\n",
              " 'Como no se cumple C.D ya que P-valor=0.91469122 es mayor que alfa=0.05 entonces no se rechaza H0')"
            ]
          },
          "metadata": {},
          "execution_count": 9
        }
      ]
    },
    {
      "cell_type": "markdown",
      "source": [
        "Se verifica este resultado del siguiente modo:\n",
        "\n",
        "Dados $\\bar{X_1}=35735.45$ $\\bar{X_2}=35732.03$ $S^2_1=25318.41$ $S^2_2=25337.03$ $N_1=50$ $N_2=50$ y $\\alpha=5\\%$\n",
        "\n",
        "Luego:\n",
        "\n",
        "$t_{n_{1}+n_{2}-2;1-{\\alpha\\over2}}=t_{50+50-2;1-{0.05\\over2}}=t_{98;0.975} = 1.9845$\n",
        "\n",
        "${S^2_p =} {(n_1-1)*S^2_1+(n_2-1)*S^2_2\\over n_1+n_2-2}= {(50-1)*25318.41+(50-1)*25337.03\\over 50+50-2}=25327.72$\n",
        "\n",
        "${S_p =}{\\sqrt{S^2_p}}={\\sqrt{25327.72}}=159.1468504$\n",
        "\n",
        "${t_{obs} =} {({\\bar{X_{1}}-\\bar{X_{2}}) - (\\mu_{1} - \\mu_{2}) } \\over {S_{p}\\sqrt {{1 \\over  n_{1}} + {1 \\over  n_{2}}}}}={(35735.45-35732.03) - 0 \\over {159.1468504\\sqrt {{1 \\over  50} + {1 \\over  50}}}}=0.1074$  \n",
        "\n",
        "Como ${t_{obs} =}{|0.1074|}$ es menor que $t_{98;0.975} = 1.9845$ no se cumple el criterio de decisión y por lo tanto no se rechaza H0\n",
        "\n",
        "Como $p_{valor}= p(t > 0.1074)=1-p(t < 0.1074)= 1 - 0.54265= 0.45735$ es mayor que $\\alpha = 0.05$  no se cumple el criterio de decisión y por lo tanto no se rechaza H0"
      ],
      "metadata": {
        "id": "KAdCWEW-gr-0"
      }
    },
    {
      "cell_type": "markdown",
      "source": [
        "####**TH para igualdad de varianzas**\n",
        "\n"
      ],
      "metadata": {
        "id": "u6qtV9yd53p8"
      }
    },
    {
      "cell_type": "markdown",
      "source": [
        "Sea $X_{1} \\sim N(\\mu_{1} ; \\sigma_{1} )$ y $X_{2} \\sim N(\\mu_{2} ; \\sigma_{2} )$\n",
        "\n",
        "${F_{obs} =}  {S^2_{1} \\over  S^2_{2}}$ $\\sim F_{n_{1}-1; n_{2}-1}$\n",
        "\n",
        "Hipótesis y Criterio de decisión para rechazar H0 (C.D)\n",
        "\n",
        "Prueba unilateral a derecha\n",
        "\n",
        "\\begin{equation}\n",
        "\\left\\{\n",
        "\t       \\begin{array}{cc}\n",
        "\t\t H0: \\sigma^2_{1} \\leq \\sigma^2_{2}     \\\\\n",
        "\t\t H1: \\sigma^2_{1} > \\sigma^2_{2}         \n",
        "\t       \\end{array}\n",
        "\\thinspace C.D: si \\thinspace F_{obs} > F_{n_1-1;n_2-1;1-\\alpha} \\thinspace ó \\thinspace p-valor < \\alpha \\thinspace entonces \\thinspace rechazo \\thinspace H0\n",
        "\t     \\right.\n",
        "\\end{equation}\n",
        "\n",
        "Prueba unilateral a izquierda\n",
        "\n",
        "\\begin{equation}\n",
        "\\left\\{\n",
        "\t       \\begin{array}{cc}\n",
        "\t\t H0: \\sigma^2_{1} \\geq \\sigma^2_{2}    \\\\\n",
        "\t\t H1: \\sigma^2_{1} < \\sigma^2_{2}        \n",
        "\t       \\end{array}\n",
        "\\thinspace C.D: si \\thinspace F_{obs} < F_{n_1-1;n_2-1;\\alpha} \\thinspace ó \\thinspace p-valor < \\alpha \\thinspace entonces \\thinspace rechazo \\thinspace H0\n",
        "\t     \\right.\n",
        "\\end{equation}\n",
        "\n",
        "Prueba bilateral\n",
        "\n",
        "\\begin{equation}\n",
        "\\left\\{\n",
        "\t       \\begin{array}{cc}\n",
        "\t\t H0: \\sigma^2_{1} = \\sigma^2_{2}     \\\\\n",
        "\t\t H1: \\sigma^2_{1} \\neq \\sigma^2_{2}         \n",
        "\t       \\end{array}\n",
        "\\thinspace C.D: si \\thinspace |F_{obs}| > F_{n_1-1;n_2-1;{1-{\\alpha \\over 2}}} \\thinspace ó \\thinspace p-valor < \\alpha \\thinspace entonces \\thinspace rechazo \\thinspace H0\n",
        "\t     \\right.\n",
        "\\end{equation}"
      ],
      "metadata": {
        "id": "Ur8hwPptd8si"
      }
    },
    {
      "cell_type": "markdown",
      "source": [
        "Se crea una función para calcular el test"
      ],
      "metadata": {
        "id": "kyKbA9__oean"
      }
    },
    {
      "cell_type": "markdown",
      "source": [
        "Ejemplo: Sea $X_1$ y $X_2$ con distribución normal y suponga que $\\sigma^2_{1}=\\sigma^2_{2} $. Se toma una muestra para 1 de tamaño 10 y se obtiene una media de 4.2 y una varianza de 0.3364. Se toma una muestra para 2 de tamaño 10 y se obtiene una media de 5.25 y una varianza de 0.3969. Se quiere validar el supuesto de que las varianzas poblacionales son iguales con α = 0.05."
      ],
      "metadata": {
        "id": "0xJl_cVf_FqX"
      }
    },
    {
      "cell_type": "markdown",
      "source": [
        "\\begin{equation}\n",
        "\\left\\{\n",
        "\t       \\begin{array}{cc}\n",
        "\t\t H0: \\sigma^2_{1} = \\sigma^2_{2}     \\\\\n",
        "\t\t H1: \\sigma^2_{1} \\neq \\sigma^2_{2}         \n",
        "\t       \\end{array}\n",
        "\\thinspace C.D: si \\thinspace |F_{obs}| > F_{n_1-1;n_2-1;{1-{\\alpha \\over 2}}} \\thinspace ó \\thinspace p-valor < \\alpha \\thinspace entonces \\thinspace rechazo \\thinspace H0\n",
        "\t     \\right.\n",
        "\\end{equation}"
      ],
      "metadata": {
        "id": "sFr0PaLoESwl"
      }
    },
    {
      "cell_type": "code",
      "source": [
        "var_M1=0.3364\n",
        "var_M2= 0.3969\n",
        "n_1= 10\n",
        "n_2= 10\n",
        "alfa= 0.05\n",
        "simbolo_H1=''\n",
        "\n",
        "Fobs=round(var_M1 / var_M2,4)\n",
        "if simbolo_H1=='>':\n",
        "  falfa  = round(ss.f.ppf(1-alfa, n_1-1,n_2-1),4)\n",
        "  if Fobs > falfa:\n",
        "    respuesta='Como se cumple C.D ya que ' + 'Fobs='+str(Fobs)+' es mayor que '+ 'F_1-alfa;n1-1;n2-1='+str(falfa)+' entonces se rechaza H0'\n",
        "  else:\n",
        "    respuesta='Como no se cumple C.D ya que ' + 'Fobs='+str(Fobs)+' es menor que '+ 'F_1-alfa;n1-1;n2-1='+str(falfa)+' entonces no se rechaza H0'\n",
        "\n",
        "  p_valor=round(1-ss.f.cdf(Fobs, n_1-1,n_2-1),8)\n",
        "  if p_valor < alfa:\n",
        "    respuesta1='Como se cumple C.D ya que ' + 'P-valor='+str(p_valor)+  ' es menor que '+ 'alfa='+ str(alfa)+' entonces se rechaza H0'\n",
        "  else:\n",
        "    respuesta1='Como no se cumple C.D ya que ' + 'P-valor='+str(p_valor)+  ' es mayor que '+ 'alfa='+ str(alfa)+' entonces no se rechaza H0'\n",
        "\n",
        "elif simbolo_H1=='<':\n",
        "  falfa  = round(ss.f.ppf(alfa, n_1-1,n_2-1),4)\n",
        "  if Fobs < falfa:\n",
        "    respuesta='Como se cumple C.D ya que ' + 'Fobs='+str(Fobs)+' es menor que '+ 'F_alfa;n1-1;n2-1='+str(falfa)+' entonces se rechaza H0'\n",
        "  else:\n",
        "    respuesta='Como no se cumple C.D ya que ' + 'Fobs='+str(Fobs)+' es mayor que '+ 'F_alfa;n1-1;n2-1='+str(falfa)+' entonces no se rechaza H0'\n",
        "\n",
        "  p_valor=round(ss.f.cdf(Fobs, n_1-1,n_2-1),8)\n",
        "  if p_valor < alfa:\n",
        "    respuesta1='Como se cumple C.D ya que ' + 'P-valor='+str(p_valor)+  ' es menor que '+ 'alfa='+ str(alfa)+' entonces se rechaza H0'\n",
        "  else:\n",
        "    respuesta1='Como no se cumple C.D ya que ' + 'P-valor='+str(p_valor)+  ' es mayor que '+ 'alfa='+ str(alfa)+' entonces no se rechaza H0'\n",
        "\n",
        "else:\n",
        "  falfa  = round(ss.f.ppf(1-alfa/2, n_1-1,n_2-1),4)\n",
        "  if np.abs(Fobs) > falfa:\n",
        "    respuesta='Como se cumple C.D ya que ' + '|Fobs|='+'|'+str(Fobs)+'|'+' es mayor que '+ 'F_1-alfa/2;n1-1;n2-1='+str(falfa)+' entonces se rechaza H0'\n",
        "  else:\n",
        "    respuesta='Como no se cumple C.D ya que ' + '|Fobs|='+'|'+str(Fobs)+'|'+' es menor que '+ 'F_1-alfa/2;n1-1;n2-1='+str(falfa)+' entonces no se rechaza H0'\n",
        "\n",
        "  p_valor=2*np.min([round(1-ss.f.cdf(Fobs, n_1-1,n_2-1),8), round(ss.f.cdf(Fobs, n_1-1,n_2-1),8)])\n",
        "  if p_valor < alfa:\n",
        "    respuesta1='Como se cumple C.D ya que ' + 'P-valor='+str(p_valor)+  ' es menor que '+ 'alfa='+ str(alfa)+' entonces se rechaza H0'\n",
        "  else:\n",
        "    respuesta1='Como no se cumple C.D ya que ' + 'P-valor='+str(p_valor)+  ' es mayor que '+ 'alfa='+ str(alfa)+' entonces no se rechaza H0'\n",
        "\n",
        "respuesta, respuesta1"
      ],
      "metadata": {
        "id": "23WhYwlfog6w",
        "colab": {
          "base_uri": "https://localhost:8080/"
        },
        "outputId": "243235f9-b1a9-4aaf-cdc3-f84fc402495c"
      },
      "execution_count": null,
      "outputs": [
        {
          "output_type": "execute_result",
          "data": {
            "text/plain": [
              "('Como no se cumple C.D ya que |Fobs|=|0.8476| es menor que F_1-alfa/2;n1-1;n2-1=4.026 entonces no se rechaza H0',\n",
              " 'Como no se cumple C.D ya que P-valor=0.80947338 es mayor que alfa=0.05 entonces no se rechaza H0')"
            ]
          },
          "metadata": {},
          "execution_count": 10
        }
      ]
    },
    {
      "cell_type": "markdown",
      "source": [
        "Se verifica este resultado del siguiente modo:\n",
        "\n",
        "Dados $S^2_1=0.3364$ $S^2_2=0.3969$ $N_1=10$ $N_2=10$ y $\\alpha=5\\%$\n",
        "\n",
        "Luego:\n",
        "\n",
        "$F_{n_{1}-1; n_{2}-1;1-{\\alpha\\over2}}=F_{10-1; 10-1;1-{0.05\\over2}}=F_{9; 9;0.975}=4.026$\n",
        "\n",
        "${F_{obs} =}  {S^2_{1} \\over  S^2_{2}}={0.3364 \\over  0.3969}=0.847568657$\n",
        "\n",
        "Como ${F_{obs} =}{0.847568657}$ es menor que $F_{9;9;0.975} = 4.026$ no se cumple el criterio de decisión y por lo tanto no se rechaza H0\n",
        "\n",
        "Como $p_{valor}= 2*min[p(F > 0.847568657);p(F < 0.847568657)]= 2*min[1-p(F < 0.847568657);p(F < 0.847568657)]=2*(0.40472)=0.80944$ es mayor que $\\alpha = 0.05$ no se cumple el criterio de decisión y por lo tanto no se rechaza H0"
      ],
      "metadata": {
        "id": "SH1DOBd1sFLl"
      }
    }
  ]
}